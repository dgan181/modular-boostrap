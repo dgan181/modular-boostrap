{
 "cells": [
  {
   "cell_type": "code",
   "execution_count": 2,
   "id": "716dbbeb",
   "metadata": {},
   "outputs": [],
   "source": [
    "import sys\n",
    "sys.path.append(\"/home/davep96/anaconda3/envs/conf_boot/lib/python3.7/site-packages\")\n",
    "from newton import *"
   ]
  },
  {
   "cell_type": "code",
   "execution_count": 4,
   "id": "f5845251",
   "metadata": {},
   "outputs": [
    {
     "data": {
      "text/plain": [
       "DeviceArray([   -6.6398814802654975,   -48.415176417092134 ,\n",
       "              -239.90256570878643  ,  -757.8153682688336   ,\n",
       "             -1462.34465581985     , -1633.5170927229694   ],            dtype=float64)"
      ]
     },
     "execution_count": 4,
     "metadata": {},
     "output_type": "execute_result"
    }
   ],
   "source": [
    "deltas = jnp.array([2.1,3.4,5.1], dtype=float)\n",
    "rhos = jnp.array([1]*3, dtype=float)"
   ]
  },
  {
   "cell_type": "code",
   "execution_count": 5,
   "id": "72294f1c",
   "metadata": {},
   "outputs": [
    {
     "data": {
      "text/plain": [
       "(DeviceArray([2.1317077922680432e+00, 3.4345579133998445e+00,\n",
       "              5.1288629421203300e+00, 7.2653863900192672e-01,\n",
       "              6.9310807635990457e-02, 5.5532667447074345e-04],            dtype=float64),\n",
       " DeviceArray([ 1.1102230246251565e-16, -2.2204460492503131e-16,\n",
       "              -2.2204460492503131e-16, -2.2204460492503131e-16,\n",
       "               7.7715611723760958e-16,  1.4432899320127035e-15],            dtype=float64),\n",
       " DeviceArray(6., dtype=float64, weak_type=True),\n",
       " DeviceArray(False, dtype=bool))"
      ]
     },
     "execution_count": 5,
     "metadata": {},
     "output_type": "execute_result"
    }
   ],
   "source": [
    "newt_rap_f = partial(newton_rap,primal)\n",
    "jit(newt_rap_f)(jnp.concatenate((deltas,rhos)))"
   ]
  },
  {
   "cell_type": "code",
   "execution_count": null,
   "id": "a3099c75",
   "metadata": {},
   "outputs": [],
   "source": []
  }
 ],
 "metadata": {
  "kernelspec": {
   "display_name": "Python 3 (ipykernel)",
   "language": "python",
   "name": "python3"
  },
  "language_info": {
   "codemirror_mode": {
    "name": "ipython",
    "version": 3
   },
   "file_extension": ".py",
   "mimetype": "text/x-python",
   "name": "python",
   "nbconvert_exporter": "python",
   "pygments_lexer": "ipython3",
   "version": "3.10.8"
  }
 },
 "nbformat": 4,
 "nbformat_minor": 5
}
