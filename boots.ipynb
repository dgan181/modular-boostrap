{
 "cells": [
  {
   "cell_type": "code",
   "execution_count": 4,
   "metadata": {},
   "outputs": [],
   "source": [
    "import jax\n",
    "from cft import *\n",
    "import jax.numpy as jnp\n",
    "import matplotlib.pyplot as plt\n",
    "from tqdm import tqdm\n",
    "import optax\n",
    "\n",
    "from functools import partial\n"
   ]
  },
  {
   "cell_type": "code",
   "execution_count": 5,
   "metadata": {},
   "outputs": [],
   "source": [
    "def boots(beta,c, params, opt_fn, opt_state, steps=100):\n",
    "    \"\"\" finds deltas\n",
    "\n",
    "        Params:\n",
    "        beta - random point for beta\n",
    "        c - central charge\n",
    "        deltas - intitalised deltas\n",
    "        opt_fn - optimization function e.g. Adam\n",
    "        opt_state - initial state\n",
    "\n",
    "        Returns:\n",
    "        losses, deltas, state\n",
    "\n",
    "    \"\"\"\n",
    "    @jit\n",
    "    def loss_function(params):\n",
    "        identy = vmap(reduced_partition_function_spinless, in_axes=(0,0,None), out_axes=0)(params, beta, c)\n",
    "        transformed = vmap(reduced_partition_function_spinless, in_axes=(0,0, None), out_axes=0)(params, 1/beta, c)\n",
    "        return jnp.mean((identy-transformed)**2) # mean squared loss\n",
    "\n",
    "    losses = []\n",
    "    for _ in tqdm(range(steps)):\n",
    "        # loss and gradients calulated with \n",
    "        loss, grads = jax.value_and_grad(loss_function)(params) \n",
    "        updates, opt_state = opt_fn(grads, opt_state)\n",
    "        params += updates\n",
    "        losses.append(loss) \n",
    "\n",
    "    return jnp.stack(losses), params, opt_state\n"
   ]
  },
  {
   "cell_type": "code",
   "execution_count": 12,
   "metadata": {},
   "outputs": [
    {
     "name": "stderr",
     "output_type": "stream",
     "text": [
      "100%|██████████| 1000/1000 [00:03<00:00, 268.44it/s]\n"
     ]
    },
    {
     "data": {
      "image/png": "[encoded data removed]",
      "text/plain": [
       "<Figure size 432x288 with 1 Axes>"
      ]
     },
     "metadata": {
      "needs_background": "light"
     },
     "output_type": "display_data"
    }
   ],
   "source": [
    "batch_size = 128\n",
    "rng = random.PRNGKey(0)\n",
    "keys = random.split(rng, 2)\n",
    "beta = (random.uniform(keys[0], (batch_size,)) + 1/2 )*0.25\n",
    "params = random.uniform(keys[1], (batch_size, 2, 6))*10\n",
    "\n",
    "c = 12\n",
    "step=1000\n",
    "\n",
    "# test for different learning rates\n",
    "for lr in [5e-1]:\n",
    "    adam = optax.adam(learning_rate=lr)\n",
    "    losses, params, _ = boots(beta, c, params, opt_fn=adam.update, opt_state=adam.init(params),steps=step)\n",
    "    steps = np.linspace(1,step,step)\n",
    "    plt.plot(steps,losses,label=f\"{lr}\")\n",
    "    plt.yscale(\"log\")\n",
    "    plt.legend()\n",
    "\n",
    "    # print(learned_deltas)"
   ]
  },
  {
   "cell_type": "code",
   "execution_count": 75,
   "metadata": {},
   "outputs": [
    {
     "name": "stderr",
     "output_type": "stream",
     "text": [
      "100%|██████████| 100000/100000 [07:28<00:00, 222.80it/s]\n",
      "100%|██████████| 100000/100000 [04:19<00:00, 385.79it/s]\n",
      "100%|██████████| 100000/100000 [04:22<00:00, 381.01it/s]\n",
      "100%|██████████| 100000/100000 [04:26<00:00, 374.86it/s]\n",
      "100%|██████████| 100000/100000 [04:37<00:00, 360.87it/s]\n"
     ]
    },
    {
     "data": {
      "image/png": "[encoded data removed]",
      "text/plain": [
       "<Figure size 432x288 with 1 Axes>"
      ]
     },
     "metadata": {
      "needs_background": "light"
     },
     "output_type": "display_data"
    }
   ],
   "source": [
    "batch_size = 64\n",
    "rng = random.PRNGKey(0)\n",
    "key_n, *keys = random.split(rng, 3)\n",
    "deltas = random.uniform(keys[1], (batch_size, 6))*5\n",
    "step=100000\n",
    "lr = 0.001\n",
    "params = random.uniform(keys[1], (batch_size, 2, 6))*10\n",
    "\n",
    "for epoch in range(5):\n",
    "    key_n, *keys = random.split(key_n, 3)\n",
    "    beta = (random.uniform(keys[0], (batch_size,)) + 1/2 )*0.25\n",
    "    c = 1/2\n",
    "    if epoch>2:\n",
    "        lr = lr/10\n",
    "    adam = optax.adam(learning_rate=lr)\n",
    "    # if epoch > 2:\n",
    "    # lr = lr/10\n",
    "\n",
    "    losses, params, _ = boots(beta, c, params, opt_fn=adam.update, opt_state=adam.init(params),steps=step)\n",
    "    steps = np.linspace(epoch*step+1,(epoch+1)*step,step)\n",
    "    plt.plot(steps,losses)\n",
    "    plt.yscale(\"log\")\n"
   ]
  },
  {
   "cell_type": "code",
   "execution_count": 68,
   "metadata": {},
   "outputs": [
    {
     "data": {
      "image/png": "[encoded data removed]",
      "text/plain": [
       "<Figure size 432x288 with 1 Axes>"
      ]
     },
     "metadata": {
      "needs_background": "light"
     },
     "output_type": "display_data"
    }
   ],
   "source": [
    "sorted_deltas = jnp.sort(deltas)\n",
    "for i in range(6):\n",
    "    counts, bins = np.histogram(sorted_deltas[:,i])\n",
    "    plt.hist(bins[:-1], bins, weights=counts)\n",
    "\n"
   ]
  },
  {
   "attachments": {},
   "cell_type": "markdown",
   "metadata": {},
   "source": [
    "## Random Rough stuff beyond this point"
   ]
  },
  {
   "cell_type": "code",
   "execution_count": 48,
   "metadata": {},
   "outputs": [
    {
     "data": {
      "text/plain": [
       "DeviceArray(3.0548825, dtype=float32)"
      ]
     },
     "execution_count": 48,
     "metadata": {},
     "output_type": "execute_result"
    }
   ],
   "source": [
    "c = 1\n",
    "def loss_function(deltas,beta,c):\n",
    "        identy = vmap(reduced_partition_function_spinless, in_axes=(0,0,None), out_axes=0)(deltas,beta,c)\n",
    "        transformed = vmap(reduced_partition_function_spinless, in_axes=(0,0,None), out_axes=0)(deltas,1/beta,c)\n",
    "        return jnp.mean((identy-transformed)**2) # mean squared loss\n",
    "\n",
    "\n",
    "\n",
    "\n",
    "loss_function(deltas,beta,c)"
   ]
  },
  {
   "cell_type": "code",
   "execution_count": null,
   "metadata": {},
   "outputs": [],
   "source": []
  }
 ],
 "metadata": {
  "kernelspec": {
   "display_name": "base",
   "language": "python",
   "name": "python3"
  },
  "language_info": {
   "codemirror_mode": {
    "name": "ipython",
    "version": 3
   },
   "file_extension": ".py",
   "mimetype": "text/x-python",
   "name": "python",
   "nbconvert_exporter": "python",
   "pygments_lexer": "ipython3",
   "version": "3.9.7"
  },
  "orig_nbformat": 4,
  "vscode": {
   "interpreter": {
    "hash": "b466399646a69c0617672abf57399a3e9eb826bbf974fdc8916a8a8d36e765db"
   }
  }
 },
 "nbformat": 4,
 "nbformat_minor": 2
}
