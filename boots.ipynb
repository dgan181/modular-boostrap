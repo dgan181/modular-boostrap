{
 "cells": [
  {
   "cell_type": "code",
   "execution_count": 192,
   "metadata": {},
   "outputs": [],
   "source": [
    "import jax\n",
    "from cft import *\n",
    "import jax.numpy as jnp\n",
    "import matplotlib.pyplot as plt\n",
    "from tqdm import tqdm\n",
    "import optax\n"
   ]
  },
  {
   "cell_type": "code",
   "execution_count": 193,
   "metadata": {},
   "outputs": [],
   "source": [
    "def boots(beta,c,deltas, opt_fn, opt_state, steps=100):\n",
    "    \"\"\" finds deltas\n",
    "\n",
    "        Params:\n",
    "        beta - random point for beta\n",
    "        c - central charge\n",
    "        deltas - intitalised deltas\n",
    "        opt_fn - optimization function e.g. Adam\n",
    "        opt_state - \n",
    "\n",
    "        Returns:\n",
    "        losses, deltas, state\n",
    "\n",
    "    \"\"\"\n",
    "    @jit\n",
    "    def loss_function(deltas):\n",
    "        identy = vmap(reduced_partition_function_spinless, in_axes=(0,0,None), out_axes=0)(deltas,beta,c)\n",
    "        transformed = vmap(reduced_partition_function_spinless, in_axes=(0,0,None), out_axes=0)(deltas,1/beta,c)\n",
    "        return jnp.mean((identy-transformed)**2) # mean squared loss\n",
    "\n",
    "    losses = []\n",
    "    for _ in tqdm(range(steps)):\n",
    "        # loss and gradients calulated with \n",
    "        loss, grads = jax.value_and_grad(loss_function)(deltas) \n",
    "        updates, opt_state = opt_fn(grads, opt_state)\n",
    "        deltas += updates\n",
    "        losses.append(loss) \n",
    "\n",
    "    return jnp.stack(losses), deltas, opt_state\n"
   ]
  },
  {
   "cell_type": "code",
   "execution_count": 203,
   "metadata": {},
   "outputs": [
    {
     "name": "stderr",
     "output_type": "stream",
     "text": [
      "100%|██████████| 1000/1000 [00:02<00:00, 382.24it/s]\n",
      "100%|██████████| 1000/1000 [00:02<00:00, 361.78it/s]"
     ]
    }
   ],
   "source": [
    "batch_size = 128\n",
    "rng = random.PRNGKey(0)\n",
    "keys = random.split(rng, 2)\n",
    "beta = random.normal(keys[0], (batch_size,))*0.25 + 1 # takes points normally distributed around beta = 1\n",
    "deltas = random.uniform(keys[1], (batch_size, 1))*5\n",
    "c = 1\n",
    "step=1000\n",
    "\n",
    "# test for different learning rates\n",
    "for lr in [1e-5,1e-4,5e-3,1e-2,5e-2, 1e-1, 0.2]:\n",
    "    adam = optax.adam(learning_rate=lr)\n",
    "    losses, learned_deltas, _ = boots(beta, c, deltas, opt_fn=adam.update, opt_state=adam.init(deltas),steps=step)\n",
    "    steps = np.linspace(1,step,step)\n",
    "    plt.plot(steps,losses,label=f\"{lr}\")\n",
    "    plt.yscale(\"log\")\n",
    "    plt.legend()\n",
    "\n",
    "    # print(learned_deltas)"
   ]
  },
  {
   "cell_type": "code",
   "execution_count": null,
   "metadata": {},
   "outputs": [],
   "source": []
  }
 ],
 "metadata": {
  "kernelspec": {
   "display_name": "base",
   "language": "python",
   "name": "python3"
  },
  "language_info": {
   "codemirror_mode": {
    "name": "ipython",
    "version": 3
   },
   "file_extension": ".py",
   "mimetype": "text/x-python",
   "name": "python",
   "nbconvert_exporter": "python",
   "pygments_lexer": "ipython3",
   "version": "3.9.7"
  },
  "orig_nbformat": 4,
  "vscode": {
   "interpreter": {
    "hash": "b466399646a69c0617672abf57399a3e9eb826bbf974fdc8916a8a8d36e765db"
   }
  }
 },
 "nbformat": 4,
 "nbformat_minor": 2
}
