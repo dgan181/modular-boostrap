{
 "cells": [
  {
   "cell_type": "code",
   "execution_count": 1,
   "metadata": {},
   "outputs": [
    {
     "data": {
      "text/plain": [
       "'from jax.config import config\\nconfig.update(\"jax_debug_nans\", True)'"
      ]
     },
     "execution_count": 1,
     "metadata": {},
     "output_type": "execute_result"
    }
   ],
   "source": [
    "import jax\n",
    "from cft import *\n",
    "import jax.numpy as jnp\n",
    "import matplotlib.pyplot as plt\n",
    "from tqdm import tqdm\n",
    "import optax\n",
    "from jax import jit, vmap, lax, grad, jacfwd\n",
    "\n",
    "from functools import partial\n",
    "\n",
    "from scipy import optimize\n",
    "\n",
    "jax.config.update(\"jax_enable_x64\", True)\n",
    "jnp.set_printoptions(precision=20)\n",
    "\n",
    "from matplotlib.pyplot import cm\n",
    "\n",
    "\"\"\"from jax.config import config\n",
    "config.update(\"jax_debug_nans\", True)\"\"\""
   ]
  },
  {
   "cell_type": "code",
   "execution_count": 33,
   "metadata": {},
   "outputs": [],
   "source": [
    "import sys\n",
    "sys.path.append(\"/home/davep96/anaconda3/envs/conf_boot/lib/python3.7/site-packages\")"
   ]
  },
  {
   "cell_type": "code",
   "execution_count": 106,
   "metadata": {},
   "outputs": [],
   "source": [
    "def boots(beta,c, params, opt_fn, opt_state, steps=100):\n",
    "    \"\"\" finds deltas\n",
    "\n",
    "        Params:\n",
    "        beta - random point for beta\n",
    "        c - central charge\n",
    "        deltas - intitialised deltas\n",
    "        opt_fn - optimization function e.g. Adam\n",
    "        opt_state - initial state\n",
    "\n",
    "        Returns:\n",
    "        losses, deltas, state\n",
    "\n",
    "    \"\"\"\n",
    "    @jit\n",
    "    def loss_function(params):\n",
    "        identy = vmap(vmap(reduced_partition_function_spinless, in_axes=(None, 0, None), out_axes=0),in_axes=(0, None, None), out_axes=0)(params, beta, c)\n",
    "        transformed = vmap(vmap(reduced_partition_function_spinless, in_axes=(None, 0, None), out_axes=0),in_axes=(0, None, None), out_axes=0)(params, 1/beta, c)\n",
    "#         print(identy.shape)\n",
    "        return jnp.mean((identy-transformed)**2) # mean squared loss\n",
    "\n",
    "    losses = []\n",
    "    for _ in tqdm(range(steps)):\n",
    "        # loss and gradients calulated with \n",
    "        loss, grads = jax.value_and_grad(loss_function)(params) \n",
    "        updates, opt_state = opt_fn(grads, opt_state)\n",
    "        params += updates\n",
    "        losses.append(loss) \n",
    "\n",
    "    return jnp.stack(losses), params, opt_state\n"
   ]
  },
  {
   "cell_type": "code",
   "execution_count": 268,
   "metadata": {
    "scrolled": false
   },
   "outputs": [
    {
     "name": "stderr",
     "output_type": "stream",
     "text": [
      "100%|██████████████████████████████████████| 2000/2000 [00:09<00:00, 212.49it/s]\n"
     ]
    },
    {
     "data": {
      "image/png": "[encoded data removed]",
      "text/plain": [
       "<Figure size 432x288 with 1 Axes>"
      ]
     },
     "metadata": {
      "needs_background": "light"
     },
     "output_type": "display_data"
    }
   ],
   "source": [
    "number_delta = 10\n",
    "rng = random.PRNGKey(24)\n",
    "keys = random.split(rng, 10)\n",
    "batch_size = 128\n",
    "params = random.uniform(keys[1], (batch_size, 2, number_delta))*100\n",
    "beta_size = 3*number_delta\n",
    "beta = (random.uniform(keys[0], (beta_size,))+ 0.5)* 100 \n",
    "c = 1/2\n",
    "step=2000\n",
    "\n",
    "# test for different learning rates\n",
    "for lr in [10]:\n",
    "    params = random.uniform(keys[1], (batch_size, 2, number_delta))*2.5\n",
    "    adam = optax.adam(learning_rate=lr)\n",
    "    losses, params, _ = boots(beta, c, params, opt_fn=adam.update, opt_state=adam.init(params),steps=step)\n",
    "    steps = np.linspace(1,step,step)\n",
    "    plt.plot(steps,losses,label=f\"{lr}\")\n",
    "    plt.yscale(\"log\")\n",
    "    plt.legend()\n",
    "\n",
    "    # print(learned_deltas)"
   ]
  },
  {
   "cell_type": "code",
   "execution_count": 339,
   "metadata": {},
   "outputs": [],
   "source": [
    "rng = random.PRNGKey(12)\n",
    "key_n, *keys = random.split(rng, 3)"
   ]
  },
  {
   "cell_type": "code",
   "execution_count": 338,
   "metadata": {
    "scrolled": true
   },
   "outputs": [],
   "source": [
    "number_delta = 20\n",
    "def give_params(number_delta, key_n):\n",
    "    key_n, *keys = random.split(key_n, 3)\n",
    "    beta_size = 3*number_delta \n",
    "    beta = (random.uniform(keys[0], (beta_size,))*3/2 + 1/2 ) * 99\n",
    "    batch_size = 256\n",
    "    params = (random.uniform(keys[1], (batch_size, 2, number_delta)))* 2\n",
    "    c =1/2\n",
    "    step=2000\n",
    "    lr = 10\n",
    "    # params = random.uniform(keys[1], (batch_size, 2, 6))*10\n",
    "\n",
    "    for epoch in range(1):\n",
    "        lr = lr/(10)\n",
    "        adam = optax.adam(learning_rate=lr)\n",
    "        losses, params, _ = boots(beta, c, params, opt_fn=adam.update, opt_state=adam.init(params),steps=step)\n",
    "        steps = np.linspace(epoch*step+1,(epoch+1)*step,step)\n",
    "        plt.plot(steps,losses)\n",
    "        plt.yscale(\"log\")\n",
    "    return params\n"
   ]
  },
  {
   "cell_type": "code",
   "execution_count": 332,
   "metadata": {},
   "outputs": [
    {
     "data": {
      "text/plain": [
       "(256, 2, 20)"
      ]
     },
     "execution_count": 332,
     "metadata": {},
     "output_type": "execute_result"
    }
   ],
   "source": [
    "params.shape"
   ]
  },
  {
   "cell_type": "code",
   "execution_count": 333,
   "metadata": {},
   "outputs": [
    {
     "data": {
      "text/plain": [
       "DeviceArray(-0.0001287211179292673, dtype=float64)"
      ]
     },
     "execution_count": 333,
     "metadata": {},
     "output_type": "execute_result"
    }
   ],
   "source": [
    "sort_params = jnp.sort(params)\n",
    "sp = sort_params.reshape(batch_size,number_delta*2)\n",
    "reduced_partition_function_spinless(params[0],32121,1/2) - reduced_partition_function_spinless(params[0],1/32121,1/2)"
   ]
  },
  {
   "cell_type": "code",
   "execution_count": 340,
   "metadata": {},
   "outputs": [
    {
     "name": "stderr",
     "output_type": "stream",
     "text": [
      "100%|███████████████████████████████████████| 2000/2000 [00:23<00:00, 85.13it/s]\n"
     ]
    },
    {
     "name": "stdout",
     "output_type": "stream",
     "text": [
      "-0.00014610327652689998\n"
     ]
    },
    {
     "data": {
      "text/plain": [
       "[<matplotlib.lines.Line2D at 0x7fe99c524d60>]"
      ]
     },
     "execution_count": 340,
     "metadata": {},
     "output_type": "execute_result"
    },
    {
     "data": {
      "image/png": "[encoded data removed]",
      "text/plain": [
       "<Figure size 432x288 with 1 Axes>"
      ]
     },
     "metadata": {
      "needs_background": "light"
     },
     "output_type": "display_data"
    },
    {
     "data": {
      "image/png": "[encoded data removed]",
      "text/plain": [
       "<Figure size 432x288 with 1 Axes>"
      ]
     },
     "metadata": {
      "needs_background": "light"
     },
     "output_type": "display_data"
    },
    {
     "data": {
      "image/png": "[encoded data removed]",
      "text/plain": [
       "<Figure size 432x288 with 1 Axes>"
      ]
     },
     "metadata": {
      "needs_background": "light"
     },
     "output_type": "display_data"
    }
   ],
   "source": [
    "# 20\n",
    "number_delta = 20\n",
    "params = give_params(number_delta, key_n)\n",
    "sort_params = jnp.sort(params)\n",
    "sp = sort_params.reshape(batch_size,number_delta*2)\n",
    "print(reduced_partition_function_spinless(params[0],32121,1/2) - reduced_partition_function_spinless(params[0],1/32121,1/2))\n",
    "x = jnp.mean(sp, axis=0)\n",
    "plt.figure()\n",
    "plt.plot(x[:number_delta]) \n",
    "plt.figure()\n",
    "plt.plot(x[number_delta:])"
   ]
  },
  {
   "cell_type": "code",
   "execution_count": 343,
   "metadata": {},
   "outputs": [
    {
     "name": "stderr",
     "output_type": "stream",
     "text": [
      "100%|███████████████████████████████████████| 2000/2000 [01:17<00:00, 25.85it/s]\n"
     ]
    },
    {
     "name": "stdout",
     "output_type": "stream",
     "text": [
      "-0.00013972109666628043\n"
     ]
    },
    {
     "data": {
      "text/plain": [
       "[<matplotlib.lines.Line2D at 0x7fe99a229910>]"
      ]
     },
     "execution_count": 343,
     "metadata": {},
     "output_type": "execute_result"
    },
    {
     "data": {
      "image/png": "[encoded data removed]",
      "text/plain": [
       "<Figure size 432x288 with 1 Axes>"
      ]
     },
     "metadata": {
      "needs_background": "light"
     },
     "output_type": "display_data"
    },
    {
     "data": {
      "image/png": "[encoded data removed]",
      "text/plain": [
       "<Figure size 432x288 with 1 Axes>"
      ]
     },
     "metadata": {
      "needs_background": "light"
     },
     "output_type": "display_data"
    },
    {
     "data": {
      "image/png": "[encoded data removed]",
      "text/plain": [
       "<Figure size 432x288 with 1 Axes>"
      ]
     },
     "metadata": {
      "needs_background": "light"
     },
     "output_type": "display_data"
    }
   ],
   "source": [
    "# 40\n",
    "number_delta = 40\n",
    "params = give_params(number_delta, key_n)\n",
    "sort_params = jnp.sort(params)\n",
    "sp = sort_params.reshape(batch_size,number_delta*2)\n",
    "print(reduced_partition_function_spinless(params[0],32121,1/2) - reduced_partition_function_spinless(params[0],1/32121,1/2))\n",
    "x = jnp.mean(sp, axis=0)\n",
    "plt.figure()\n",
    "plt.plot(x[:number_delta]) \n",
    "plt.figure()\n",
    "plt.plot(x[number_delta:])"
   ]
  },
  {
   "cell_type": "code",
   "execution_count": 342,
   "metadata": {},
   "outputs": [
    {
     "name": "stderr",
     "output_type": "stream",
     "text": [
      "100%|███████████████████████████████████████| 2000/2000 [01:58<00:00, 16.86it/s]\n"
     ]
    },
    {
     "name": "stdout",
     "output_type": "stream",
     "text": [
      "-0.00024236748230197858\n"
     ]
    },
    {
     "data": {
      "text/plain": [
       "[<matplotlib.lines.Line2D at 0x7fe99c511310>]"
      ]
     },
     "execution_count": 342,
     "metadata": {},
     "output_type": "execute_result"
    },
    {
     "data": {
      "image/png": "[encoded data removed]",
      "text/plain": [
       "<Figure size 432x288 with 1 Axes>"
      ]
     },
     "metadata": {
      "needs_background": "light"
     },
     "output_type": "display_data"
    },
    {
     "data": {
      "image/png": "[encoded data removed]",
      "text/plain": [
       "<Figure size 432x288 with 1 Axes>"
      ]
     },
     "metadata": {
      "needs_background": "light"
     },
     "output_type": "display_data"
    },
    {
     "data": {
      "image/png": "[encoded data removed]",
      "text/plain": [
       "<Figure size 432x288 with 1 Axes>"
      ]
     },
     "metadata": {
      "needs_background": "light"
     },
     "output_type": "display_data"
    }
   ],
   "source": [
    "# 50\n",
    "number_delta = 50\n",
    "params = give_params(number_delta, key_n)\n",
    "sort_params = jnp.sort(params)\n",
    "sp = sort_params.reshape(batch_size,number_delta*2)\n",
    "print(reduced_partition_function_spinless(params[0],32121,1/2) - reduced_partition_function_spinless(params[0],1/32121,1/2))\n",
    "x = jnp.mean(sp, axis=0)\n",
    "plt.figure()\n",
    "plt.plot(x[:number_delta]) \n",
    "plt.figure()\n",
    "plt.plot(x[number_delta:])"
   ]
  },
  {
   "cell_type": "code",
   "execution_count": 345,
   "metadata": {},
   "outputs": [
    {
     "name": "stderr",
     "output_type": "stream",
     "text": [
      "100%|███████████████████████████████████████| 2000/2000 [02:15<00:00, 14.75it/s]\n"
     ]
    },
    {
     "name": "stdout",
     "output_type": "stream",
     "text": [
      "-0.00015165216455303456\n"
     ]
    },
    {
     "data": {
      "text/plain": [
       "[<matplotlib.lines.Line2D at 0x7fe9cfcca820>]"
      ]
     },
     "execution_count": 345,
     "metadata": {},
     "output_type": "execute_result"
    },
    {
     "data": {
      "image/png": "[encoded data removed]",
      "text/plain": [
       "<Figure size 432x288 with 1 Axes>"
      ]
     },
     "metadata": {
      "needs_background": "light"
     },
     "output_type": "display_data"
    },
    {
     "data": {
      "image/png": "[encoded data removed]",
      "text/plain": [
       "<Figure size 432x288 with 1 Axes>"
      ]
     },
     "metadata": {
      "needs_background": "light"
     },
     "output_type": "display_data"
    },
    {
     "data": {
      "image/png": "[encoded data removed]",
      "text/plain": [
       "<Figure size 432x288 with 1 Axes>"
      ]
     },
     "metadata": {
      "needs_background": "light"
     },
     "output_type": "display_data"
    }
   ],
   "source": [
    "# 60\n",
    "number_delta = 60\n",
    "params = give_params(number_delta, key_n)\n",
    "sort_params = jnp.sort(params)\n",
    "sp = sort_params.reshape(batch_size,number_delta*2)\n",
    "print(reduced_partition_function_spinless(params[0],32121,1/2) - reduced_partition_function_spinless(params[0],1/32121,1/2))\n",
    "x = jnp.mean(sp, axis=0)\n",
    "plt.figure()\n",
    "plt.plot(x[:number_delta]) \n",
    "plt.figure()\n",
    "plt.plot(x[number_delta:])"
   ]
  },
  {
   "cell_type": "code",
   "execution_count": 344,
   "metadata": {
    "scrolled": true
   },
   "outputs": [
    {
     "name": "stderr",
     "output_type": "stream",
     "text": [
      "100%|███████████████████████████████████████| 2000/2000 [03:05<00:00, 10.79it/s]\n"
     ]
    },
    {
     "name": "stdout",
     "output_type": "stream",
     "text": [
      "-0.0001342028017428515\n"
     ]
    },
    {
     "data": {
      "text/plain": [
       "[<matplotlib.lines.Line2D at 0x7fe99a0f9c70>]"
      ]
     },
     "execution_count": 344,
     "metadata": {},
     "output_type": "execute_result"
    },
    {
     "data": {
      "image/png": "[encoded data removed]",
      "text/plain": [
       "<Figure size 432x288 with 1 Axes>"
      ]
     },
     "metadata": {
      "needs_background": "light"
     },
     "output_type": "display_data"
    },
    {
     "data": {
      "image/png": "[encoded data removed]",
      "text/plain": [
       "<Figure size 432x288 with 1 Axes>"
      ]
     },
     "metadata": {
      "needs_background": "light"
     },
     "output_type": "display_data"
    },
    {
     "data": {
      "image/png": "[encoded data removed]",
      "text/plain": [
       "<Figure size 432x288 with 1 Axes>"
      ]
     },
     "metadata": {
      "needs_background": "light"
     },
     "output_type": "display_data"
    }
   ],
   "source": [
    "# 70\n",
    "number_delta = 70\n",
    "params = give_params(number_delta, key_n)\n",
    "sort_params = jnp.sort(params)\n",
    "sp = sort_params.reshape(batch_size,number_delta*2)\n",
    "print(reduced_partition_function_spinless(params[0],32121,1/2) - reduced_partition_function_spinless(params[0],1/32121,1/2))\n",
    "x = jnp.mean(sp, axis=0)\n",
    "plt.figure()\n",
    "plt.plot(x[:number_delta]) \n",
    "plt.figure()\n",
    "plt.plot(x[number_delta:])"
   ]
  },
  {
   "cell_type": "code",
   "execution_count": 347,
   "metadata": {},
   "outputs": [
    {
     "name": "stderr",
     "output_type": "stream",
     "text": [
      "100%|███████████████████████████████████████| 2000/2000 [03:59<00:00,  8.35it/s]\n"
     ]
    },
    {
     "name": "stdout",
     "output_type": "stream",
     "text": [
      "-0.0003456023769795849\n"
     ]
    },
    {
     "data": {
      "text/plain": [
       "[<matplotlib.lines.Line2D at 0x7fe9cd107d00>]"
      ]
     },
     "execution_count": 347,
     "metadata": {},
     "output_type": "execute_result"
    },
    {
     "data": {
      "image/png": "[encoded data removed]",
      "text/plain": [
       "<Figure size 432x288 with 1 Axes>"
      ]
     },
     "metadata": {
      "needs_background": "light"
     },
     "output_type": "display_data"
    },
    {
     "data": {
      "image/png": "[encoded data removed]",
      "text/plain": [
       "<Figure size 432x288 with 1 Axes>"
      ]
     },
     "metadata": {
      "needs_background": "light"
     },
     "output_type": "display_data"
    },
    {
     "data": {
      "image/png": "[encoded data removed]",
      "text/plain": [
       "<Figure size 432x288 with 1 Axes>"
      ]
     },
     "metadata": {
      "needs_background": "light"
     },
     "output_type": "display_data"
    }
   ],
   "source": [
    "# 80\n",
    "number_delta = 80\n",
    "params = give_params(number_delta, key_n)\n",
    "sort_params = jnp.sort(params)\n",
    "sp = sort_params.reshape(batch_size,number_delta*2)\n",
    "print(reduced_partition_function_spinless(params[0],32121,1/2) - reduced_partition_function_spinless(params[0],1/32121,1/2))\n",
    "x = jnp.mean(sp, axis=0)\n",
    "plt.figure()\n",
    "plt.plot(x[:number_delta]) \n",
    "plt.figure()\n",
    "plt.plot(x[number_delta:])"
   ]
  },
  {
   "cell_type": "code",
   "execution_count": 63,
   "metadata": {
    "scrolled": true
   },
   "outputs": [
    {
     "data": {
      "text/plain": [
       "(DeviceArray([  8., 149., 144., 134., 135., 137., 135., 146., 151., 141.],            dtype=float64),\n",
       " DeviceArray([-0.21546168975676538 ,  0.007216400834151666,\n",
       "               0.2298944914250687  ,  0.45257258201598577 ,\n",
       "               0.6752506726069029  ,  0.8979287631978199  ,\n",
       "               1.120606853788737   ,  1.343284944379654   ,\n",
       "               1.565963034970571   ,  1.788641125561488   ,\n",
       "               2.011319216152405   ], dtype=float64))"
      ]
     },
     "execution_count": 63,
     "metadata": {},
     "output_type": "execute_result"
    }
   ],
   "source": [
    "hlist = []\n",
    "for i in range()\n",
    "jnp.histogram(params[:,0])"
   ]
  },
  {
   "cell_type": "code",
   "execution_count": 361,
   "metadata": {},
   "outputs": [
    {
     "data": {
      "text/plain": [
       "DeviceArray(0.6039414741898942, dtype=float64)"
      ]
     },
     "execution_count": 361,
     "metadata": {},
     "output_type": "execute_result"
    }
   ],
   "source": [
    "x_ = x.reshape((2,80))\n",
    "reduced_partition_function_spinless(x_,5,1/2)"
   ]
  },
  {
   "cell_type": "markdown",
   "metadata": {},
   "source": [
    "## Bootstrap with Newton Raphson and Scipy Optimizers"
   ]
  },
  {
   "cell_type": "markdown",
   "metadata": {},
   "source": [
    "## Using Scipy optimizers"
   ]
  },
  {
   "cell_type": "code",
   "execution_count": 2,
   "metadata": {},
   "outputs": [],
   "source": [
    "from jaxopt import ScipyRootFinding\n",
    "from scipy import optimize"
   ]
  },
  {
   "cell_type": "markdown",
   "metadata": {},
   "source": [
    "## Using newton-raphson"
   ]
  },
  {
   "cell_type": "code",
   "execution_count": 10,
   "metadata": {},
   "outputs": [],
   "source": [
    "laguerre_deltas = vmap(laguerre_at_x, in_axes = (None, 0), out_axes=1)\n",
    "\n",
    "c = 12\n",
    "x = -(c-1)/12\n",
    "\n",
    "def primal(params: jnp.array) -> jnp.array:\n",
    "    \"\"\"\n",
    "    Crossing equation with unnormalised rhos    \n",
    "    \n",
    "    Args:\n",
    "        params (jnp.array) [deltas, rhos]\n",
    "    Returns:\n",
    "        crossing_equation -> float, crossing equation loss\n",
    "    \"\"\"\n",
    "    h = len(params)//2\n",
    "    deltas = lax.dynamic_slice(params, (0,),(h,)) # split deltas and rhos\n",
    "    rhos = lax.dynamic_slice(params, (h,),(h,))\n",
    "    deltas = deltas + x\n",
    "    lps = laguerre_deltas(2*h -1,deltas) # calculate laguerre at different deltas\n",
    "    lp0 = laguerre_at_0(2*h-1, x)# calculate laguerre at zero\n",
    "    rho_lps = jnp.sum(rhos * lps, axis = 1) # rho * lps\n",
    "    crossing_equation = (1 + rho_lps/lp0) # lp0 + \\Sigma rho* lps = 0\n",
    "    return  crossing_equation\n",
    "\n",
    "\n",
    "def newton_rap(primal, x0: jnp.array, tol=1e-10, max_iter=2000) -> (jnp.array,jnp.array,float,bool):\n",
    "    \"\"\"\n",
    "    Finds a solution to `primal` using the Newton-Raphson method. \n",
    "    Written with jax while loop.\n",
    "\n",
    "    Args:\n",
    "        primal (function): function to approximate a solution of\n",
    "        x0 (jnp.array): Initial guess for the solution vector.\n",
    "        tol (float): Tolerance for the norm of the residual vector. Default is 1e-6.\n",
    "        max_iter (int): Maximum number of iterations. Default is 100.\n",
    "\n",
    "    Returns:\n",
    "        x (jnp.array,jnp.array,float,bool): Converging parameters (deltas and rhos), number of steps, converges?\n",
    "    \"\"\"\n",
    "\n",
    "    f = primal\n",
    "\n",
    "    Jf = jit(jacfwd(f))\n",
    "    Hf = jax.hessian(f)\n",
    "    s = x0.shape[0]\n",
    "    hessians = jnp.zeros((2000,s,s,s))\n",
    "    jacobians = jnp.zeros((2000,s,s))\n",
    "    \n",
    "    @jit\n",
    "    def newton_step(val):\n",
    "        x, r, n, hessians, jacobians, _ = val # x, f(x), step_number, abort_state\n",
    "        n = n + 1 \n",
    "        J = Jf(x)\n",
    "        hessians = hessians.at[n.astype(int)].set(Hf(x))\n",
    "        jacobians = jacobians.at[n.astype(int)].set(J)\n",
    "        r = f(x)\n",
    "        dx = jnp.linalg.solve(J, -r)\n",
    "        x1 = x + dx\n",
    "        abort = jnp.any(jnp.isnan(x1)) # abort if nan is encountered\n",
    "        return (jnp.where(abort, x, x1), r , n,hessians, jacobians, abort)\n",
    "    \n",
    "    def cond(val):\n",
    "        x, r, n,hessians, jacobians, abort = val\n",
    "        return (~abort) & (jnp.max(jnp.abs(r)) > tol) & ( n< max_iter) # abort if nan is encountered\n",
    "\n",
    "    \n",
    "    return  lax.while_loop(cond, newton_step, (x0, jnp.ones(x0.shape), 0.0, hessians, jacobians, False))  \n",
    "\n",
    "@jit\n",
    "def primal_normal(params):\n",
    "    \"\"\"\n",
    "    Crossing equation with normalised rhos \n",
    "    \n",
    "    params -> [deltas, rhos]\n",
    "    lps -> laguerre polynomials at deltas\n",
    "    lp0 -> laguerre at 0\n",
    "    Crossing equation with normalised rhos -> rhos * \\sqrt(max(lps))\n",
    "    \"\"\"\n",
    "    h = len(params)//2\n",
    "    deltas = lax.dynamic_slice(params, (0,),(h,))\n",
    "    rhos = lax.dynamic_slice(params, (h,),(h,))\n",
    "    deltas = deltas + x\n",
    "    lps = laguerre_deltas(2*h -1,deltas)\n",
    "    maxl = jnp.max(jnp.abs(lps), axis=0)\n",
    "    lps = lps/jnp.sqrt(maxl)\n",
    "    lp0 = laguerre_at_0(2*h-1, x)\n",
    "    rho_lps = jnp.sum(rhos * lps, axis = 1)\n",
    "    crossing_equation = (1 + rho_lps/lp0)\n",
    "    return  crossing_equation\n",
    "\n",
    "@jit\n",
    "def primal_normal_optim(rhos,deltas):\n",
    "    \"\"\"\n",
    "    Mean squared loss of the crossing equation\n",
    "    Args:\n",
    "        rhos (jpn.array(float)) rhos\n",
    "        deltas (jpn.array(float)) deltas\n",
    "    Returns:\n",
    "        Mean square loss (float)\n",
    "    \"\"\"\n",
    "    \n",
    "    h = len(deltas)\n",
    "#     deltas = lax.dynamic_slice(params, (0,),(h,))\n",
    "#     rhos = lax.dynamic_slice(params, (h,),(h,))\n",
    "    deltas = deltas + x\n",
    "    lps = laguerre_deltas(2*h -1,deltas)\n",
    "    maxl = jnp.max(jnp.abs(lps), axis=0)\n",
    "    lps = lps/jnp.sqrt(maxl)\n",
    "    lp0 = laguerre_at_0(2*h-1, x)\n",
    "    rho_lps = jnp.sum(rhos * lps, axis = 1)\n",
    "    crossing_equation = (1 + rho_lps/lp0)\n",
    "    return  jnp.linalg.norm(crossing_equation)/h"
   ]
  },
  {
   "cell_type": "code",
   "execution_count": 531,
   "metadata": {},
   "outputs": [],
   "source": [
    "deltas = jnp.array([2.0350381802830926e+00, 3.1137220531908305e+00,\n",
    "              4.2770916146359808e+00, 5.5802827105955455e+00,\n",
    "              7.2134024986546702e+00, 9.1861644193223920e+00,], dtype=float)\n",
    "rhos = jnp.array([1]*6, dtype=float)"
   ]
  },
  {
   "cell_type": "code",
   "execution_count": null,
   "metadata": {},
   "outputs": [],
   "source": []
  },
  {
   "cell_type": "code",
   "execution_count": 532,
   "metadata": {},
   "outputs": [],
   "source": [
    "newt_rap_f = partial(newton_rap,primal)"
   ]
  },
  {
   "cell_type": "code",
   "execution_count": 533,
   "metadata": {},
   "outputs": [],
   "source": [
    "# deltas = jnp.array([2,3.,5.], dtype=float)\n",
    "out = newt_rap_f(jnp.concatenate((deltas,rhos)))"
   ]
  },
  {
   "cell_type": "code",
   "execution_count": 536,
   "metadata": {},
   "outputs": [
    {
     "data": {
      "text/plain": [
       "DeviceArray(False, dtype=bool)"
      ]
     },
     "execution_count": 536,
     "metadata": {},
     "output_type": "execute_result"
    }
   ],
   "source": [
    "out[2]\n",
    "out[-1]"
   ]
  },
  {
   "cell_type": "code",
   "execution_count": 537,
   "metadata": {
    "scrolled": true
   },
   "outputs": [
    {
     "data": {
      "text/plain": [
       "[DeviceArray([0., 0., 0., 0., 0., 0., 0., 0., 0., 0., 0., 0.], dtype=float64),\n",
       " DeviceArray([1.0460575371836562e+00, 8.1082468996395350e+15,\n",
       "              4.5040502948576744e+24, 4.9365089023581047e+29,\n",
       "              4.5344846707229360e+31, 6.0592211971946307e+31,\n",
       "              4.7446356440224180e+28, 7.9022126665078125e+27,\n",
       "              2.6309872407780447e+23, 2.8672246703048538e+17,\n",
       "              2.6754424924336313e+11, 4.6649042741262900e+04],            dtype=float64),\n",
       " DeviceArray([1.0460575371836562e+00, 8.1156156276790620e+15,\n",
       "              4.5165331827967399e+24, 4.9492299103415123e+29,\n",
       "              4.5526033170104228e+31, 6.0960661541799374e+31,\n",
       "              4.6508785459446038e+28, 7.9096163599832366e+27,\n",
       "              2.6481341097384052e+23, 2.8559945911942106e+17,\n",
       "              2.6897106355336606e+11, 4.5587611686846511e+04],            dtype=float64),\n",
       " DeviceArray([1.0460575371836562e+00, 7.5148217658338960e+15,\n",
       "              3.8607542117195832e+24, 3.8879326546970411e+29,\n",
       "              3.2846076098324106e+31, 3.9809735657905234e+31,\n",
       "              2.7229328708894966e+28, 4.0765224127497602e+27,\n",
       "              1.1787565291885744e+23, 9.1605043303558176e+16,\n",
       "              6.5293228358018394e+10, 5.2176025027168589e+03],            dtype=float64),\n",
       " DeviceArray([1.0460575371836562e+00, 7.2292071491758980e+15,\n",
       "              3.5594942291757901e+24, 3.4330605003916866e+29,\n",
       "              2.7530401442010047e+31, 3.1761428952736986e+31,\n",
       "              2.1133906976149618e+28, 2.9472275760728325e+27,\n",
       "              7.9894857869800937e+22, 6.6862745239745768e+16,\n",
       "              4.3841518721342537e+10, 2.7025510289278918e+03],            dtype=float64),\n",
       " DeviceArray([1.0460575371836562e+00, 7.2147753193419190e+15,\n",
       "              3.5443615926126865e+24, 3.4108631898100024e+29,\n",
       "              2.7272193754980004e+31, 3.1384067156965293e+31,\n",
       "              2.0875705829032969e+28, 2.8993828922121582e+27,\n",
       "              7.8351987844960741e+22, 6.6222210988696144e+16,\n",
       "              4.3226322595071617e+10, 2.6445913186286298e+03],            dtype=float64)]"
      ]
     },
     "execution_count": 537,
     "metadata": {},
     "output_type": "execute_result"
    }
   ],
   "source": [
    "[jnp.linalg.det(out[3][i]) for i in range(int(out[2]))]"
   ]
  },
  {
   "cell_type": "code",
   "execution_count": 529,
   "metadata": {
    "collapsed": true
   },
   "outputs": [
    {
     "data": {
      "text/plain": [
       "[DeviceArray([0., 0., 0., 0., 0., 0., 0., 0., 0., 0., 0., 0.], dtype=float64),\n",
       " DeviceArray([1.0460575371836562e+00, 7.7117532573388860e+15,\n",
       "              4.0654824573293908e+24, 4.2182796075137435e+29,\n",
       "              3.6576929499278181e+31, 4.5983640971574893e+31,\n",
       "              3.3740989697294811e+28, 5.2402045813331428e+27,\n",
       "              1.6169294685024004e+23, 1.6199836042690291e+17,\n",
       "              1.3743161885067387e+11, 2.1424906589637150e+04],            dtype=float64),\n",
       " DeviceArray([1.0460575371836562e+00, 7.7168217643619620e+15,\n",
       "              4.0736261296936443e+24, 4.2261437472159755e+29,\n",
       "              3.6682702430547701e+31, 4.6185724398495750e+31,\n",
       "              3.3259115239250889e+28, 5.2437741186507814e+27,\n",
       "              1.6245411596877149e+23, 1.6153999691674717e+17,\n",
       "              1.3795923862513147e+11, 2.1070994300893657e+04],            dtype=float64),\n",
       " DeviceArray([1.0460575371836562e+00, 7.3667268791227550e+15,\n",
       "              3.7048594258619636e+24, 3.6504398235761675e+29,\n",
       "              3.0083919243884214e+31, 3.5586378486801709e+31,\n",
       "              2.3911014875636943e+28, 3.4679111147878239e+27,\n",
       "              9.7386781623790900e+22, 7.6246528939117952e+16,\n",
       "              5.3163515591046257e+10, 4.0662284804628925e+03],            dtype=float64),\n",
       " DeviceArray([1.0460575371836562e+00, 7.2213655058526450e+15,\n",
       "              3.5514119413577156e+24, 3.4211785590155736e+29,\n",
       "              2.7395508429323223e+31, 3.1563654850539291e+31,\n",
       "              2.0989122400832366e+28, 2.9214522921490886e+27,\n",
       "              7.9070310619050915e+22, 6.6318637295384104e+16,\n",
       "              4.3414044207074585e+10, 2.6700438753995404e+03],            dtype=float64),\n",
       " DeviceArray([1.0460575371836562e+00, 7.2147738111986410e+15,\n",
       "              3.5443595616202570e+24, 3.4108605356603143e+29,\n",
       "              2.7272152337096574e+31, 3.1384014607422988e+31,\n",
       "              2.0875718716863613e+28, 2.8993813872695507e+27,\n",
       "              7.8351988874747165e+22, 6.6222971735154576e+16,\n",
       "              4.3227012719610229e+10, 2.6446719043533635e+03],            dtype=float64)]"
      ]
     },
     "execution_count": 529,
     "metadata": {},
     "output_type": "execute_result"
    }
   ],
   "source": [
    "[jnp.linalg.det(out[3][i]) for i in range(int(out[2]))]"
   ]
  },
  {
   "cell_type": "code",
   "execution_count": 625,
   "metadata": {},
   "outputs": [],
   "source": [
    "def hessian_around_x(v):\n",
    "    deltas = jnp.array([2.0350381802830926e+00, 3.1137220531908305e+00,\n",
    "              4.2770916146359808e+00, 5.5802827105955455e+00,\n",
    "              7.2134024986546702e+00, 9.0861644193223920e+00,], dtype=float)\n",
    "    deltas = deltas.at[-1].set(v)\n",
    "    rhos = jnp.array([7.0156142248953335e-01, 1.1793347523661235e-01,\n",
    "              5.3012136027625152e-03, 7.8741245069605828e-05,\n",
    "              3.0831266291151847e-07, 1.4004045035709713e-10])\n",
    "    params = jnp.concatenate((deltas,rhos))\n",
    "    f = primal\n",
    "    Jf = jit(jacfwd(f))\n",
    "    Hf = jax.hessian(f)\n",
    "    return jnp.linalg.norm(f(params))/12, jnp.abs(jnp.linalg.det(Jf(params))), jnp.abs(jnp.linalg.det(Hf(params)))"
   ]
  },
  {
   "cell_type": "code",
   "execution_count": null,
   "metadata": {},
   "outputs": [],
   "source": [
    "def hessian_around_x_(v):\n",
    "    deltas = jnp.array([1.0016846077063859e+00, 2.0132352894028078e+00,\n",
    "              3.0598908737963431e+00, 4.1938732667831005e+00,\n",
    "              5.5127067425895087e+00, 7.2147620696903632e+00,], dtype=float)\n",
    "    deltas = deltas.at[-1].set(v)\n",
    "    rhos = jnp.array([4.6280106792800985e-01, 1.2256423045130404e-02,\n",
    "              1.4097655836383145e-04, 8.1736939945799935e-07,\n",
    "              1.6024722350565098e-09, 4.1463710065057395e-13])\n",
    "    params = jnp.concatenate((deltas,rhos))\n",
    "    f = primal\n",
    "    Jf = jit(jacfwd(f))\n",
    "    Hf = jax.hessian(f)\n",
    "    return jnp.linalg.norm(f(params))/12, jnp.abs(jnp.linalg.det(Jf(params))), jnp.abs(jnp.linalg.det(Hf(params)))"
   ]
  },
  {
   "cell_type": "code",
   "execution_count": 629,
   "metadata": {},
   "outputs": [],
   "source": [
    "true_val = 9.0861644193223920\n",
    "scale = 100\n",
    "shift = 0.1\n",
    "xs = random.uniform(keys[1], (100,))*scale + shift\n",
    "fs,js, hs = vmap(hessian_around_x)(xs)"
   ]
  },
  {
   "cell_type": "code",
   "execution_count": 630,
   "metadata": {},
   "outputs": [],
   "source": [
    "true_val = 9.0861644193223920\n",
    "scale = 12\n",
    "shift = 0.1\n",
    "xs = random.uniform(keys[1], (100,))*scale + shift\n",
    "fs,js, hs = vmap(hessian_around_x)(xs)"
   ]
  },
  {
   "cell_type": "code",
   "execution_count": 631,
   "metadata": {
    "scrolled": true
   },
   "outputs": [
    {
     "data": {
      "image/png": "[encoded data removed]",
      "text/plain": [
       "<Figure size 432x288 with 1 Axes>"
      ]
     },
     "metadata": {
      "needs_background": "light"
     },
     "output_type": "display_data"
    }
   ],
   "source": [
    "plt.scatter(xs, fs)\n",
    "plt.yscale(\"log\")"
   ]
  },
  {
   "cell_type": "code",
   "execution_count": 632,
   "metadata": {
    "scrolled": false
   },
   "outputs": [
    {
     "data": {
      "image/png": "[encoded data removed]",
      "text/plain": [
       "<Figure size 432x288 with 1 Axes>"
      ]
     },
     "metadata": {
      "needs_background": "light"
     },
     "output_type": "display_data"
    }
   ],
   "source": [
    "plt.scatter(xs, js)\n",
    "plt.yscale(\"log\")"
   ]
  },
  {
   "cell_type": "code",
   "execution_count": 633,
   "metadata": {
    "scrolled": true
   },
   "outputs": [
    {
     "data": {
      "image/png": "[encoded data removed]",
      "text/plain": [
       "<Figure size 432x288 with 1 Axes>"
      ]
     },
     "metadata": {
      "needs_background": "light"
     },
     "output_type": "display_data"
    }
   ],
   "source": [
    "color = iter(cm.rainbow(np.linspace(0, 1, 20)))\n",
    "for i in range(12):\n",
    "    col = next(color)\n",
    "    plt.scatter(xs, hs[:,i], label=f\"{i}\", color = col)\n",
    "plt.legend()\n",
    "plt.yscale(\"log\")"
   ]
  },
  {
   "cell_type": "code",
   "execution_count": 634,
   "metadata": {},
   "outputs": [],
   "source": [
    "def primal_around_xy(v,w):\n",
    "    deltas = jnp.array([2.0350381802830926e+00, 3.1137220531908305e+00,\n",
    "              4.2770916146359808e+00, 5.5802827105955455e+00,\n",
    "              7.2134024986546702e+00, 9.0861644193223920e+00,], dtype=float)\n",
    "    deltas = deltas.at[-1].set(v)\n",
    "    deltas = deltas.at[-2].set(w)\n",
    "    rhos = jnp.array([7.0156142248953335e-01, 1.1793347523661235e-01,\n",
    "              5.3012136027625152e-03, 7.8741245069605828e-05,\n",
    "              3.0831266291151847e-07, 1.4004045035709713e-10])\n",
    "    params = jnp.concatenate((deltas,rhos))\n",
    "    f = primal\n",
    "    return jnp.linalg.norm(f(params))/12"
   ]
  },
  {
   "cell_type": "code",
   "execution_count": null,
   "metadata": {},
   "outputs": [],
   "source": [
    "import matplotlib.pyplot as plt\n",
    "from matplotlib import cm\n",
    "from matplotlib.ticker import LinearLocator\n",
    "import numpy as np\n",
    "\n",
    "true_val_2 = 9.0861644193223920\n",
    "true_val_1 = 7.2134024986546702\n",
    "vs = jnp.arange(6,10,0.001)\n",
    "ws = jnp.arange(6,10,0.001)\n",
    "f_= vmap(vmap(primal_around_xy, in_axes=(0,None), out_axes=0),in_axes=(None,0), out_axes=0)(vs, ws)\n",
    "\n",
    "\n",
    "\n",
    "\n",
    "fig, ax = plt.subplots(subplot_kw={\"projection\": \"3d\"})\n",
    "\n",
    "# Make data.\n",
    "X, Y = np.meshgrid(vs, ws)\n",
    "\n",
    "# Plot the surface.\n",
    "surf = ax.plot_surface(X, Y, f_, cmap=cm.coolwarm,\n",
    "                       linewidth=0, antialiased=False)\n",
    "\n",
    "# # Customize the z axis.\n",
    "# ax.set_zlim(-1.01, 1.01)\n",
    "# ax.zaxis.set_major_locator(LinearLocator(10))\n",
    "# # A StrMethodFormatter is used automatically\n",
    "# ax.zaxis.set_major_formatter('{x:.02f}')\n",
    "\n",
    "# Add a color bar which maps values to colors.\n",
    "fig.colorbar(surf, shrink=0.5, aspect=5)\n",
    "\n",
    "plt.show()"
   ]
  },
  {
   "cell_type": "code",
   "execution_count": 27,
   "metadata": {
    "scrolled": true
   },
   "outputs": [
    {
     "data": {
      "text/plain": [
       "[DeviceArray(0., dtype=float64),\n",
       " DeviceArray(1.4288818031067312e+08, dtype=float64),\n",
       " DeviceArray(4151.572112989068, dtype=float64),\n",
       " DeviceArray(5919.4406498975895, dtype=float64),\n",
       " DeviceArray(5813.114487779051, dtype=float64),\n",
       " DeviceArray(5813.026686637272, dtype=float64)]"
      ]
     },
     "execution_count": 27,
     "metadata": {},
     "output_type": "execute_result"
    }
   ],
   "source": [
    "[jnp.linalg.det(out[4][i]) for i in range(int(out[2]))]"
   ]
  },
  {
   "cell_type": "code",
   "execution_count": 29,
   "metadata": {
    "scrolled": true
   },
   "outputs": [
    {
     "data": {
      "text/plain": [
       "[DeviceArray(0., dtype=float64),\n",
       " DeviceArray(75015344.94898419, dtype=float64),\n",
       " DeviceArray(1904.1247064492063, dtype=float64),\n",
       " DeviceArray(9237.557247141496, dtype=float64),\n",
       " DeviceArray(6111.321079756201, dtype=float64),\n",
       " DeviceArray(5810.2752633577875, dtype=float64),\n",
       " DeviceArray(5813.025797222964, dtype=float64)]"
      ]
     },
     "execution_count": 29,
     "metadata": {},
     "output_type": "execute_result"
    }
   ],
   "source": [
    "[jnp.linalg.det(out[4][i]) for i in range(int(out[2]))]"
   ]
  },
  {
   "cell_type": "code",
   "execution_count": 31,
   "metadata": {
    "scrolled": true
   },
   "outputs": [
    {
     "data": {
      "text/plain": [
       "[DeviceArray(0., dtype=float64),\n",
       " DeviceArray(7876468.609372922, dtype=float64),\n",
       " DeviceArray(-1217.1154917015199, dtype=float64),\n",
       " DeviceArray(-1.4855091570540793, dtype=float64),\n",
       " DeviceArray(1.0004645121668654e+40, dtype=float64),\n",
       " DeviceArray(-1.0010201358433467e+98, dtype=float64)]"
      ]
     },
     "execution_count": 31,
     "metadata": {},
     "output_type": "execute_result"
    }
   ],
   "source": [
    "[jnp.linalg.det(out[4][i]) for i in range(int(out[2]))]"
   ]
  },
  {
   "cell_type": "code",
   "execution_count": 8,
   "metadata": {
    "scrolled": false
   },
   "outputs": [
    {
     "data": {
      "text/plain": [
       "[DeviceArray([0., 0., 0., 0., 0., 0.], dtype=float64),\n",
       " DeviceArray([-1.0227695425576850e+00, -3.2242604244827479e+05,\n",
       "              -9.9813211874751784e+06, -1.4969850293826342e+06,\n",
       "              -1.8627388773027611e+04, -3.1307746751696097e-01],            dtype=float64),\n",
       " DeviceArray([-1.0227695425576850e+00, -3.5867439613697102e+05,\n",
       "              -1.3643525152654633e+07, -1.7597014335657754e+06,\n",
       "              -2.2387740111752806e+04, -3.9796875660041275e-01],            dtype=float64),\n",
       " DeviceArray([-1.0227695425576850e+00, -4.0744789288040908e+05,\n",
       "              -1.8457791099028397e+07, -2.5562432935342533e+06,\n",
       "              -3.9809836606373960e+04, -2.8085711554715222e-04],            dtype=float64),\n",
       " DeviceArray([-1.0227695425576850e+00, -4.0394564019256085e+05,\n",
       "              -1.8086186820467286e+07, -2.4913751651027040e+06,\n",
       "              -3.8248154987867019e+04, -6.9107754690664299e-03],            dtype=float64),\n",
       " DeviceArray([-1.0227695425576850e+00, -4.0393624424761860e+05,\n",
       "              -1.8085091250092663e+07, -2.4912481278617061e+06,\n",
       "              -3.8245306896671711e+04, -6.9320460798812534e-03],            dtype=float64)]"
      ]
     },
     "execution_count": 8,
     "metadata": {},
     "output_type": "execute_result"
    }
   ],
   "source": [
    "[(jnp.linalg.det(out[-2][i])) for i in range(int(out[-3]))]"
   ]
  },
  {
   "cell_type": "code",
   "execution_count": 10,
   "metadata": {
    "scrolled": false
   },
   "outputs": [
    {
     "data": {
      "text/plain": [
       "[DeviceArray([0., 0., 0., 0., 0., 0.], dtype=float64),\n",
       " DeviceArray([-1.0227695425576850e+00, -1.3220205674905857e+05,\n",
       "              -1.3884159914996836e+06, -4.7464645892309301e+04,\n",
       "              -1.9200250652538596e+01, -4.2347043007164992e-02],            dtype=float64),\n",
       " DeviceArray([-1.0227695425576850e+00, -3.1882364610707597e+05,\n",
       "              -1.4580155379899802e+07, -7.0167947815780979e+04,\n",
       "              -2.9730558432310126e+01, -2.5920090917817568e-01],            dtype=float64),\n",
       " DeviceArray([-1.0227695425576850e+00, -9.1690773224006538e+04,\n",
       "              -7.5365356538146641e+05, -1.1069245846023282e+03,\n",
       "              -9.2594078519104839e-01, -1.6348428306214638e-03],            dtype=float64),\n",
       " DeviceArray([-1.0227695425576850e+00, -8.3466972022810238e+14,\n",
       "              -8.0195474937807131e+26, -1.6106196185576317e+37,\n",
       "              -1.3014980593626180e+46, -4.5395710718176794e+53],            dtype=float64),\n",
       " DeviceArray([-1.0227695425576850e+000, -2.8560267729276735e+030,\n",
       "              -3.1301580360143436e+058, -2.5974353955531172e+085,\n",
       "              -3.7193940613517950e+111, -1.3735166033818530e+137],            dtype=float64)]"
      ]
     },
     "execution_count": 10,
     "metadata": {},
     "output_type": "execute_result"
    }
   ],
   "source": [
    "[(jnp.linalg.det(out[-2][i])) for i in range(int(out[-3]))]"
   ]
  },
  {
   "cell_type": "code",
   "execution_count": 11,
   "metadata": {
    "scrolled": true
   },
   "outputs": [
    {
     "data": {
      "text/plain": [
       "(DeviceArray([ 1.1609034949883365e+28,  3.3103934697871296e+37,\n",
       "              -3.6964415305308001e+04, -1.1879012583024100e+30,\n",
       "              -2.5721798020478706e+22, -8.6923251042511538e+00],            dtype=float64),\n",
       " DeviceArray([8.6853606593374968e+059, 6.3067098128267900e+134,\n",
       "              3.0950414502004146e+209, 1.1045188205759163e+284,\n",
       "                                  inf,                     nan],            dtype=float64),\n",
       " DeviceArray(6., dtype=float64, weak_type=True))"
      ]
     },
     "execution_count": 11,
     "metadata": {},
     "output_type": "execute_result"
    }
   ],
   "source": [
    "out[0:3]"
   ]
  },
  {
   "cell_type": "code",
   "execution_count": 181,
   "metadata": {},
   "outputs": [
    {
     "data": {
      "text/plain": [
       "[DeviceArray(-inf, dtype=float64),\n",
       " DeviceArray(15.860035838932912, dtype=float64),\n",
       " DeviceArray(18.410068825121847, dtype=float64),\n",
       " DeviceArray(11.073452434028049, dtype=float64),\n",
       " DeviceArray(178.8138936379224, dtype=float64),\n",
       " DeviceArray(290.1174965477866, dtype=float64),\n",
       " DeviceArray(578.5529338415143, dtype=float64),\n",
       " DeviceArray(616.8324399576804, dtype=float64)]"
      ]
     },
     "execution_count": 181,
     "metadata": {},
     "output_type": "execute_result"
    }
   ],
   "source": [
    "[jnp.sum(jnp.log10(jnp.abs(jnp.linalg.det(out[-2][i])))) for i in range(int(out[-3]))]"
   ]
  },
  {
   "cell_type": "code",
   "execution_count": 188,
   "metadata": {},
   "outputs": [
    {
     "data": {
      "text/plain": [
       "DeviceArray(59214.112689100686, dtype=float64)"
      ]
     },
     "execution_count": 188,
     "metadata": {},
     "output_type": "execute_result"
    }
   ],
   "source": [
    "jnp.var(jnp.array([float(t) for t in Out[181][1:]]))"
   ]
  },
  {
   "cell_type": "code",
   "execution_count": 190,
   "metadata": {},
   "outputs": [
    {
     "data": {
      "text/plain": [
       "[DeviceArray(-inf, dtype=float64),\n",
       " DeviceArray(22.45841717827532, dtype=float64),\n",
       " DeviceArray(22.894702980976895, dtype=float64),\n",
       " DeviceArray(20.342107601473185, dtype=float64),\n",
       " DeviceArray(21.692024128649205, dtype=float64),\n",
       " DeviceArray(21.693267890591187, dtype=float64)]"
      ]
     },
     "execution_count": 190,
     "metadata": {},
     "output_type": "execute_result"
    }
   ],
   "source": [
    "[jnp.sum(jnp.log10(jnp.abs(jnp.linalg.det(out[-2][i])))) for i in range(int(out[-3]))]"
   ]
  },
  {
   "cell_type": "code",
   "execution_count": 15,
   "metadata": {},
   "outputs": [],
   "source": [
    "def rhos_optim(rhos, deltas, c, opt_fn, opt_state, steps=100):\n",
    "    \"\"\" Guess rhos, given a good guess for deltas\n",
    "\n",
    "        Params:\n",
    "        rho - initial values for rhos (arbitrary)\n",
    "        deltas - intitialised deltas (fixed)\n",
    "        opt_fn - optimization function e.g. Adam\n",
    "        opt_state - initial state\n",
    "\n",
    "        Returns:\n",
    "        rhos, losses,  state\n",
    "\n",
    "    \"\"\"\n",
    "    x = -(c-1)/12\n",
    "    h = len(deltas)\n",
    "    deltas = deltas + x\n",
    "    @jit\n",
    "    def loss_function(rhos): # same as primal_normal\n",
    "        lps = laguerre_deltas(2*h -1,deltas)\n",
    "        maxl = jnp.max(jnp.abs(lps), axis=0)\n",
    "        lps = lps/jnp.sqrt(maxl)\n",
    "        lp0 = laguerre_at_0(2*h-1, x)\n",
    "        rho_lps = jnp.sum(rhos * lps, axis = 1)\n",
    "        crossing_equation = (1 + rho_lps/lp0)\n",
    "        return jnp.mean((crossing_equation)**2) # mean squared loss\n",
    "\n",
    "    losses = []\n",
    "    for _ in tqdm(range(steps)): # optimiser\n",
    "        loss, grads = jax.value_and_grad(loss_function)(rhos) # loss and gradients calulated \n",
    "        updates, opt_state = opt_fn(grads, opt_state) \n",
    "        rhos += updates # update rho\n",
    "        losses.append(loss) \n",
    "\n",
    "    return  rhos, jnp.stack(losses), opt_state"
   ]
  },
  {
   "cell_type": "code",
   "execution_count": 24,
   "metadata": {},
   "outputs": [],
   "source": [
    "def dilation(dnm1,dn, fixed_point = 1, some_point = 0):\n",
    "    \"\"\"Calculate scaling factor \\epsilon for self-similar function: \n",
    "        f(\\lambda x) = \\lambda^{\\epsilon} f(x)\n",
    "        \n",
    "        Args:\n",
    "        dnm1: x\n",
    "        dn: \\lambda x\n",
    "        fixed_point:\n",
    "        some_point:\n",
    "        \n",
    "        Returns:\n",
    "        epsilons: \\epsilon\n",
    "    \"\"\"\n",
    "    h =  len(dnm1) - some_point if len(dnm1) - some_point> 0 else len(dnm1)\n",
    "    lambda_= (h+1 - fixed_point)/(h - fixed_point)\n",
    "    epsilon = jnp.log((dn[h+1]-dn[fixed_point-1])/(dnm1[h] - dnm1[fixed_point-1]))/jnp.log(lambda_) \n",
    "    return epsilon\n",
    "\n",
    "def guess_generator(dnm1, dn, fixed_point=1):\n",
    "    \"\"\"generate guess dnp1 from dnm1 and dn\n",
    "        \n",
    "        Args:\n",
    "        dnm1: x\n",
    "        dn: \\lambda x\n",
    "        fixed_point:\n",
    "        \n",
    "        Returns:\n",
    "        guess: dnp1\n",
    "    \"\"\"\n",
    "    \n",
    "    epsilon = dilation(dnm1, dn, fixed_point,0)\n",
    "    no_points = 1000\n",
    "    x_range = jnp.linspace(1.0,int(len(dn)),(int(len(dn))- 1)*no_points)\n",
    "    \n",
    "    x_discrete = jnp.arange(1, int(len(dn)) + 1, dtype = float)\n",
    "    \n",
    "    yn = jnp.interp(x_range, x_discrete, dn)\n",
    "    \n",
    "    lambda_ = (len(dn))/(len(dn) - 1)\n",
    "    \n",
    "    scale = lambda_ ** epsilon\n",
    "    \n",
    "    ynp1 = (yn - yn[0]) * scale + yn[0]\n",
    "    sample_rate = int((no_points-1)/ lambda_)\n",
    "    # Correction added to guess\n",
    "    # cors = jnp.array([0.007866155585121012, 0.00954485954845927 , 0.014117004802336118,\n",
    "    #    0.023951187818932042, 0.046797643955721294, 0.10137571941656    ])\n",
    "    guess = ynp1[::sample_rate]\n",
    "    # guess= guess.at[-6:].add(cors)\n",
    "    return guess"
   ]
  },
  {
   "cell_type": "code",
   "execution_count": 11,
   "metadata": {
    "scrolled": true
   },
   "outputs": [
    {
     "name": "stdout",
     "output_type": "stream",
     "text": [
      "number of deltas = 3\n",
      "number of deltas = 4\n",
      "number of deltas = 5\n",
      "number of deltas = 6\n",
      "number of deltas = 7\n",
      "number of deltas = 8\n",
      "nan found delta 8\n",
      "guess\n",
      "[1.012957173496282 2.248484536319232 3.493133677144044 4.740616658233486\n",
      " 5.975282326693441 7.225551649359862 8.469928860895001 9.70752723648185\n",
      " 1.                1.                1.                1.\n",
      " 1.                1.                1.                1.               ]\n",
      "params\n",
      "[ 1.0966179031868748e+10  7.9730964533663361e+10  2.1083351984346997e+11\n",
      "  1.0924948925301193e+11 -3.0953820930611432e+01 -1.7656114434591198e+10\n",
      " -1.6141547987848804e+11 -2.7874706153907349e+11 -2.9303697154101934e+09\n",
      " -1.8943468133937190e+09 -6.1130329732364081e+07 -4.9309613602463203e+05\n",
      "  1.6543612251060553e-23  4.8413051413031011e-01  3.5621150473750490e-01\n",
      "  2.0098262913920985e-03]\n"
     ]
    },
    {
     "data": {
      "text/plain": [
       "[<matplotlib.lines.Line2D at 0x7fa001f53d90>]"
      ]
     },
     "execution_count": 11,
     "metadata": {},
     "output_type": "execute_result"
    },
    {
     "data": {
      "image/png": "[encoded data removed]",
      "text/plain": [
       "<Figure size 432x288 with 1 Axes>"
      ]
     },
     "metadata": {
      "needs_background": "light"
     },
     "output_type": "display_data"
    }
   ],
   "source": [
    "laguerre_deltas = vmap(laguerre_at_x, in_axes = (None, 0), out_axes=1)\n",
    "color = iter(cm.rainbow(np.linspace(0, 1, 20)))\n",
    "\n",
    "c = 4\n",
    "x = -(c-1)/12\n",
    "\n",
    "list_losses = []\n",
    "list_params = []\n",
    "list_guesses = []\n",
    "deltas = jnp.array([2.12, 3.43, 5.13])\n",
    "a_mus = jnp.ones(deltas.shape, dtype = float)*1\n",
    "params = jnp.array([deltas,a_mus])\n",
    "params = params.flatten()\n",
    "\n",
    "list_guesses.append(params)\n",
    "rng = random.PRNGKey(1)\n",
    "keys = random.split(rng, 2)\n",
    "nr_primal = partial(newton_rap,primal)\n",
    "for p in range(4,12):\n",
    "    col = next(color)\n",
    "    print(f\"number of deltas = {p-1}\")\n",
    "    \n",
    "    \n",
    "    guess = params    \n",
    "    params, *others = nr_primal(x0 = params)\n",
    "        \n",
    "        \n",
    "    if others[-1]:\n",
    "        print(f\"nan found delta {p-1}\")\n",
    "        print(\"guess\")\n",
    "        print(guess)\n",
    "        print(\"params\")\n",
    "        print(params)\n",
    "        break\n",
    "        \n",
    "    list_params.append(params)\n",
    "    list_losses.append(primal(params))\n",
    "    \n",
    "    \n",
    "    r = p-2\n",
    "    k = 1\n",
    "    \n",
    "    h = len(params)//2\n",
    "    deltas = lax.dynamic_slice(params, (0,),(h,))\n",
    "    \n",
    "    x_ind = jnp.arange(1,p, dtype= float)\n",
    "    plt.plot(x_ind,deltas, color=col)\n",
    "    \n",
    "    amus = jnp.ones(p, dtype=float)*k\n",
    "    scale = (deltas[r] - deltas[0])/(r)\n",
    "    \n",
    "    keys = random.split(keys[1],2)\n",
    "    \n",
    "    \n",
    "    new_deltas = (scale * (jnp.arange(p)) + deltas[0] ) + random.uniform(keys[1], jnp.arange(p).shape) * 0.1/p    \n",
    "    \n",
    "   \n",
    "    x_ind = jnp.arange(1,p+1, dtype= float)\n",
    "    plt.scatter(x_ind,new_deltas, color = col)\n",
    "    params = jnp.array([new_deltas,amus]).flatten()\n",
    "    list_guesses.append(params)\n",
    "    if p == 11:\n",
    "        print(\"guess\")\n",
    "        print(params)\n",
    "\n",
    "plt.plot(x_ind,new_deltas)\n",
    "plt.plot(x_ind, 1 + x_ind)"
   ]
  },
  {
   "cell_type": "code",
   "execution_count": 12,
   "metadata": {},
   "outputs": [
    {
     "data": {
      "text/plain": [
       "[DeviceArray([1.0158511490826954e+00, 2.1196816083979155e+00,\n",
       "              3.5215858665828543e+00, 4.5951934687671403e-01,\n",
       "              9.2919160051298470e-03, 2.6964383324894495e-05],            dtype=float64),\n",
       " DeviceArray([1.0069956892523999e+00, 2.0537160120181941e+00,\n",
       "              3.2322754035337184e+00, 4.7432510539667954e+00,\n",
       "              4.6167666469849589e-01, 1.1079017333260974e-02,\n",
       "              7.7606394878914712e-05, 8.7874929673402223e-08],            dtype=float64),\n",
       " DeviceArray([1.0033343667906682e+00, 2.0259624038981561e+00,\n",
       "              3.1148869458219295e+00, 4.3630179569557122e+00,\n",
       "              5.9760933140553298e+00, 4.6246725122370214e-01,\n",
       "              1.1882499110274983e-02, 1.1708826782586571e-04,\n",
       "              4.1648452223277569e-07, 2.1143898677039670e-10],            dtype=float64),\n",
       " DeviceArray([1.0016846077063859e+00, 2.0132352894028078e+00,\n",
       "              3.0598908737963431e+00, 4.1938732667831005e+00,\n",
       "              5.5127067425895087e+00, 7.2147620696903632e+00,\n",
       "              4.6280106792800985e-01, 1.2256423045130404e-02,\n",
       "              1.4097655836383145e-04, 8.1736939945799935e-07,\n",
       "              1.6024722350565098e-09, 4.1463710065057395e-13],            dtype=float64),\n",
       " DeviceArray([1.0008911077231029e+00, 2.0070389362236769e+00,\n",
       "              3.0323790015331920e+00, 4.1077238351283452e+00,\n",
       "              5.2911029594565866e+00, 6.6741410210617209e+00,\n",
       "              8.4581347574600123e+00, 4.6295618214972667e-01,\n",
       "              1.2438704207011951e-02, 1.5429226925858601e-04,\n",
       "              1.1415358147120600e-06, 4.1518849668549774e-09,\n",
       "              4.9091845097473970e-12, 6.9586738871520648e-16],            dtype=float64)]"
      ]
     },
     "execution_count": 12,
     "metadata": {},
     "output_type": "execute_result"
    }
   ],
   "source": [
    "list_params"
   ]
  },
  {
   "cell_type": "code",
   "execution_count": 154,
   "metadata": {
    "collapsed": true
   },
   "outputs": [
    {
     "data": {
      "text/plain": [
       "[DeviceArray([2.12, 3.43, 5.13, 1.  , 1.  , 1.  ], dtype=float64),\n",
       " DeviceArray([2.1467345642628493, 3.636151017591032 , 5.144902525677382 ,\n",
       "              6.644776315099856 , 1.                , 1.                ,\n",
       "              1.                , 1.                ], dtype=float64),\n",
       " DeviceArray([2.0841683015733015, 3.5535620922139923, 5.009391134090036 ,\n",
       "              6.46225073142989  , 7.917785494874783 , 1.                ,\n",
       "              1.                , 1.                , 1.                ,\n",
       "              1.                ], dtype=float64),\n",
       " DeviceArray([2.0610914827542266, 3.4885496831637846, 4.913585758028263 ,\n",
       "              6.3558612074573   , 7.771210359921089 , 9.209656566834882 ,\n",
       "              1.                , 1.                , 1.                ,\n",
       "              1.                , 1.                , 1.                ],            dtype=float64),\n",
       " DeviceArray([ 2.0362048573065437,  3.4594606663369842,\n",
       "               4.860270346851098 ,  6.2720618072411085,\n",
       "               7.685427864136111 ,  9.090050235138277 ,\n",
       "              10.509427161888784 ,  1.                ,\n",
       "               1.                ,  1.                ,\n",
       "               1.                ,  1.                ,\n",
       "               1.                ,  1.                ], dtype=float64),\n",
       " DeviceArray([ 2.0361199579735287,  3.425039272968532 ,\n",
       "               4.823080365965398 ,  6.223955299226892 ,\n",
       "               7.612012919858901 ,  9.015674194697375 ,\n",
       "              10.413443358404567 , 11.804433686163469 ,\n",
       "               1.                ,  1.                ,\n",
       "               1.                ,  1.                ,\n",
       "               1.                ,  1.                ,\n",
       "               1.                ,  1.                ], dtype=float64),\n",
       " DeviceArray([ 2.019174311714356,  3.411889911437191,  4.796111480274573,\n",
       "               6.177354906292943,  7.559857465519137,  8.94938055871291 ,\n",
       "              10.337981915847491, 11.721986019437647, 13.107005464796297,\n",
       "               1.               ,  1.               ,  1.               ,\n",
       "               1.               ,  1.               ,  1.               ,\n",
       "               1.               ,  1.               ,  1.               ],            dtype=float64),\n",
       " DeviceArray([ 2.017249300339194 ,  3.3927607513883506,\n",
       "               4.768198752960007 ,  6.143808457268086 ,\n",
       "               7.525190136057094 ,  8.90699613953484  ,\n",
       "              10.283048916437501 , 11.657384618497105 ,\n",
       "              13.032702658534825 , 14.41516791424     ,\n",
       "               1.                ,  1.                ,\n",
       "               1.                ,  1.                ,\n",
       "               1.                ,  1.                ,\n",
       "               1.                ,  1.                ,\n",
       "               1.                ,  1.                ], dtype=float64)]"
      ]
     },
     "execution_count": 154,
     "metadata": {},
     "output_type": "execute_result"
    }
   ],
   "source": [
    "list_guesses"
   ]
  },
  {
   "cell_type": "code",
   "execution_count": 25,
   "metadata": {},
   "outputs": [
    {
     "name": "stdout",
     "output_type": "stream",
     "text": [
      "run 11\n"
     ]
    },
    {
     "name": "stderr",
     "output_type": "stream",
     "text": [
      "100%|██████████| 2000/2000 [00:05<00:00, 373.04it/s]\n"
     ]
    },
    {
     "name": "stdout",
     "output_type": "stream",
     "text": [
      "[ 0.0000000000000000e+00  1.1102230246251565e-16  0.0000000000000000e+00\n",
      "  0.0000000000000000e+00  0.0000000000000000e+00  2.2204460492503131e-16\n",
      "  4.4408920985006262e-16 -4.4408920985006262e-16 -1.3322676295501878e-15\n",
      " -4.4408920985006262e-16  0.0000000000000000e+00  0.0000000000000000e+00\n",
      " -2.2204460492503131e-16 -4.4408920985006262e-16]\n",
      "new guess \n",
      "[1.0008911077231026 2.006041624653802  3.0271436874716917\n",
      " 4.084634715250448  5.212435959448474  6.4600417036237925\n",
      " 7.90573891920658   9.687964329377357 ]\n",
      "run 12\n"
     ]
    },
    {
     "name": "stderr",
     "output_type": "stream",
     "text": [
      "100%|██████████| 2000/2000 [00:05<00:00, 373.65it/s]\n"
     ]
    },
    {
     "name": "stdout",
     "output_type": "stream",
     "text": [
      "[-2.2204460492503131e-16  1.1102230246251565e-16  0.0000000000000000e+00\n",
      "  0.0000000000000000e+00  3.3306690738754696e-16 -2.2204460492503131e-16\n",
      " -6.6613381477509392e-16 -2.2204460492503131e-16  0.0000000000000000e+00\n",
      " -2.2204460492503131e-16  0.0000000000000000e+00  0.0000000000000000e+00\n",
      "  7.7715611723760958e-16  2.2204460492503131e-16 -2.2204460492503131e-16\n",
      " -6.6613381477509392e-16]\n",
      "new guess \n",
      "[ 1.0004893715327567  2.0033475413220687  3.0154182620715595\n",
      "  4.049805706020494   5.130009949562354   6.290353800246503\n",
      "  7.580644610709943   9.080845254237143  10.938716681200868 ]\n",
      "run 13\n"
     ]
    },
    {
     "name": "stderr",
     "output_type": "stream",
     "text": [
      "100%|██████████| 2000/2000 [00:05<00:00, 366.09it/s]\n"
     ]
    },
    {
     "name": "stdout",
     "output_type": "stream",
     "text": [
      "[ 0.0000000000000000e+00  1.1102230246251565e-16 -2.2204460492503131e-16\n",
      "  0.0000000000000000e+00  4.4408920985006262e-16  2.2204460492503131e-16\n",
      "  0.0000000000000000e+00  2.2204460492503131e-16  6.6613381477509392e-16\n",
      "  7.7715611723760958e-16  3.3306690738754696e-16 -6.6613381477509392e-16\n",
      " -1.7763568394002505e-15 -2.2204460492503131e-15 -2.4424906541753444e-15\n",
      " -1.1102230246251565e-15  1.2212453270876722e-15  1.4432899320127035e-15]\n",
      "new guess \n",
      "[ 1.0002773499279907  2.0019243273393776  3.008975878568096\n",
      "  4.029713600703263   5.080150535988842   6.184839904538988\n",
      "  7.378811601631137   8.711920994617705  10.263666208837954\n",
      " 12.191344556017926 ]\n",
      "run 14\n"
     ]
    },
    {
     "name": "stderr",
     "output_type": "stream",
     "text": [
      "100%|██████████| 2000/2000 [00:05<00:00, 380.12it/s]\n"
     ]
    },
    {
     "name": "stdout",
     "output_type": "stream",
     "text": [
      "[ 0.0000000000000000e+00 -2.2204460492503131e-16 -2.2204460492503131e-16\n",
      "  4.4408920985006262e-16 -2.2204460492503131e-16 -2.2204460492503131e-16\n",
      "  4.4408920985006262e-16  2.2204460492503131e-16  4.4408920985006262e-16\n",
      "  1.2212453270876722e-15  3.3306690738754696e-16 -6.6613381477509392e-16\n",
      " -6.6613381477509392e-16 -2.2204460492503131e-16 -6.6613381477509392e-16\n",
      " -1.5543122344752192e-15 -2.2204460492503131e-15 -2.4424906541753444e-15\n",
      " -2.6645352591003757e-15 -3.5527136788005009e-15]\n",
      "new guess \n",
      "[ 1.0001614718907599  2.0009438658842957  3.0049488303853638\n",
      "  4.017377556743922   5.048936719960445   6.11714347943976\n",
      "  7.247715651439771   8.475553741032387   9.849406571545924\n",
      " 11.449354858839659  13.441616234094317 ]\n",
      "run 15\n"
     ]
    },
    {
     "name": "stderr",
     "output_type": "stream",
     "text": [
      "100%|██████████| 2000/2000 [00:05<00:00, 371.57it/s]\n"
     ]
    },
    {
     "name": "stdout",
     "output_type": "stream",
     "text": [
      "[ 2.2204460492503131e-16  3.3306690738754696e-16  0.0000000000000000e+00\n",
      " -4.4408920985006262e-16  0.0000000000000000e+00  2.2204460492503131e-16\n",
      "  6.6613381477509392e-16  2.2204460492503131e-16  0.0000000000000000e+00\n",
      "  2.2204460492503131e-16  0.0000000000000000e+00 -2.2204460492503131e-16\n",
      "  3.3306690738754696e-16  3.3306690738754696e-16 -2.2204460492503131e-16\n",
      " -1.1102230246251565e-15 -1.5543122344752192e-15 -1.9984014443252818e-15\n",
      " -2.4424906541753444e-15 -2.8865798640254070e-15 -2.6645352591003757e-15\n",
      " -3.1086244689504383e-15]\n",
      "new guess \n",
      "[ 1.0000962293382831  2.0003424690619944  3.0025428795971933\n",
      "  4.009968758783129   5.029688351427623   6.074023310511004\n",
      "  7.162025689515874   8.319662892791902   9.58113817273538\n",
      " 10.994743449025671  12.64050703536245   14.69327400392693  ]\n",
      "run 16\n"
     ]
    },
    {
     "name": "stderr",
     "output_type": "stream",
     "text": [
      "100%|██████████| 2000/2000 [00:05<00:00, 380.94it/s]\n"
     ]
    },
    {
     "name": "stdout",
     "output_type": "stream",
     "text": [
      "[-4.4408920985006262e-16  4.4408920985006262e-16  0.0000000000000000e+00\n",
      " -4.4408920985006262e-16 -2.2204460492503131e-16 -2.2204460492503131e-16\n",
      " -1.1102230246251565e-15 -1.1102230246251565e-15 -8.8817841970012523e-16\n",
      " -2.2204460492503131e-16  2.2204460492503131e-16  2.2204460492503131e-16\n",
      "  0.0000000000000000e+00 -2.2204460492503131e-16 -8.8817841970012523e-16\n",
      " -1.3322676295501878e-15 -1.3322676295501878e-15 -2.2204460492503131e-16\n",
      "  9.9920072216264089e-16  1.9984014443252818e-15  2.3314683517128287e-15\n",
      " -4.4408920985006262e-16 -3.5527136788005009e-15 -3.9968028886505635e-15]\n",
      "new guess \n",
      "[ 1.0000585371620854  1.9994089169553175  2.9999622300288777\n",
      "  4.0037835302420755  5.015495630820816   6.04360305010923\n",
      "  7.10204379464696    8.21050345705616    9.394707889810578\n",
      " 10.68810480966085   12.13783842711137   13.823647806334643\n",
      " 15.932341137732655 ]\n",
      "run 17\n"
     ]
    },
    {
     "name": "stderr",
     "output_type": "stream",
     "text": [
      "100%|██████████| 2000/2000 [00:05<00:00, 380.82it/s]\n"
     ]
    },
    {
     "name": "stdout",
     "output_type": "stream",
     "text": [
      "[ 0.0000000000000000e+00  1.1102230246251565e-16 -2.2204460492503131e-16\n",
      " -4.4408920985006262e-16 -4.4408920985006262e-16 -4.4408920985006262e-16\n",
      " -6.6613381477509392e-16 -4.4408920985006262e-16 -4.4408920985006262e-16\n",
      "  0.0000000000000000e+00  5.5511151231257827e-16  8.8817841970012523e-16\n",
      "  7.7715611723760958e-16  0.0000000000000000e+00 -8.8817841970012523e-16\n",
      " -1.1102230246251565e-15 -1.1102230246251565e-15 -1.3322676295501878e-15\n",
      " -2.8865798640254070e-15 -3.3306690738754696e-15 -1.7763568394002505e-15\n",
      " -2.2204460492503131e-16  2.2204460492503131e-16 -8.8817841970012523e-16\n",
      " -8.8817841970012523e-16 -8.8817841970012523e-16]\n",
      "new guess \n",
      "[ 1.0000362633767292  1.9998589639920143  3.000435651402272\n",
      "  4.00308667912773    5.010848446144441   6.029556462963043\n",
      "  7.069323414158484   8.145165128574028   9.277196046429339\n",
      " 10.490830432972253  11.818759182895503  13.30820861309321\n",
      " 15.040589836103146  17.204856305759066 ]\n",
      "run 18\n"
     ]
    },
    {
     "name": "stderr",
     "output_type": "stream",
     "text": [
      "100%|██████████| 2000/2000 [00:05<00:00, 379.67it/s]\n"
     ]
    },
    {
     "name": "stdout",
     "output_type": "stream",
     "text": [
      "[ 0.0000000000000000e+00  0.0000000000000000e+00  0.0000000000000000e+00\n",
      "  4.4408920985006262e-16  6.6613381477509392e-16  4.4408920985006262e-16\n",
      " -2.2204460492503131e-16 -2.2204460492503131e-16  0.0000000000000000e+00\n",
      "  0.0000000000000000e+00  0.0000000000000000e+00 -4.4408920985006262e-16\n",
      " -2.2204460492503131e-16  1.1102230246251565e-15  2.3314683517128287e-15\n",
      "  2.7755575615628914e-15  1.6653345369377348e-15  3.3306690738754696e-16\n",
      "  0.0000000000000000e+00 -2.2204460492503131e-16  3.3306690738754696e-16\n",
      "  8.8817841970012523e-16 -2.2204460492503131e-16 -1.1102230246251565e-15\n",
      " -8.8817841970012523e-16  9.9920072216264089e-16  2.9976021664879227e-15\n",
      "  3.4416913763379853e-15]\n",
      "new guess \n",
      "[ 1.0000228346904674  1.9991947582418617  2.9988448215020593\n",
      "  3.999821558581227   5.004112778137251   6.015665027534307\n",
      "  7.04164848287323    8.093294253167192   9.186305191901953\n",
      " 10.340679050880043  11.581057460944718  12.939396375663536\n",
      " 14.462261963536625  16.230874932875455  18.4455165936252   ]\n",
      "run 19\n"
     ]
    },
    {
     "name": "stderr",
     "output_type": "stream",
     "text": [
      "100%|██████████| 2000/2000 [00:05<00:00, 379.68it/s]\n"
     ]
    },
    {
     "name": "stdout",
     "output_type": "stream",
     "text": [
      "[ 0.0000000000000000e+00 -4.4408920985006262e-16  0.0000000000000000e+00\n",
      "  0.0000000000000000e+00  0.0000000000000000e+00  4.4408920985006262e-16\n",
      "  1.1102230246251565e-16  0.0000000000000000e+00  0.0000000000000000e+00\n",
      "  4.4408920985006262e-16 -4.4408920985006262e-16 -1.1102230246251565e-15\n",
      " -1.1102230246251565e-15 -4.4408920985006262e-16 -1.3322676295501878e-15\n",
      " -1.5543122344752192e-15 -8.8817841970012523e-16  0.0000000000000000e+00\n",
      "  9.9920072216264089e-16  1.3322676295501878e-15  9.9920072216264089e-16\n",
      "  6.6613381477509392e-16  4.4408920985006262e-16 -2.2204460492503131e-16\n",
      " -8.8817841970012523e-16 -2.2204460492503131e-15 -2.6645352591003757e-15\n",
      " -2.6645352591003757e-15 -3.1086244689504383e-15 -3.5527136788005009e-15]\n",
      "new guess \n",
      "[ 1.0000145922388417  1.999360255025807   2.9990137003730393\n",
      "  3.99952723003548    5.002213037297031   6.009741463735695\n",
      "  7.027155790869777   8.062759818149086   9.128761529404674\n",
      " 10.24119665994819   11.419741140927554  12.688449313947618\n",
      " 14.078682703029129  15.63715747452096   17.446417378387135\n",
      " 19.71081745245146  ]\n",
      "run 20\n"
     ]
    },
    {
     "name": "stderr",
     "output_type": "stream",
     "text": [
      "100%|██████████| 2000/2000 [00:05<00:00, 377.71it/s]\n"
     ]
    },
    {
     "name": "stdout",
     "output_type": "stream",
     "text": [
      "[ 6.6613381477509392e-16  0.0000000000000000e+00  0.0000000000000000e+00\n",
      " -4.4408920985006262e-16 -2.2204460492503131e-16 -6.6613381477509392e-16\n",
      " -2.2204460492503131e-16  2.2204460492503131e-16  8.8817841970012523e-16\n",
      "  4.4408920985006262e-16  3.3306690738754696e-16 -4.4408920985006262e-16\n",
      " -4.4408920985006262e-16 -6.6613381477509392e-16 -1.3322676295501878e-15\n",
      " -6.6613381477509392e-16  1.1102230246251565e-16 -4.4408920985006262e-16\n",
      " -2.8865798640254070e-15 -3.3306690738754696e-15 -3.1086244689504383e-15\n",
      " -2.8865798640254070e-15 -2.8865798640254070e-15 -1.7763568394002505e-15\n",
      " -4.4408920985006262e-16  9.9920072216264089e-16  1.3322676295501878e-15\n",
      "  1.3322676295501878e-15  2.2204460492503131e-16 -3.1086244689504383e-15\n",
      " -6.4392935428259079e-15 -6.8833827526759706e-15]\n",
      "new guess \n",
      "[ 1.0000094507155681  1.999114543194145   2.9984200180973914\n",
      "  3.998288401832194   4.999589679302483   6.004126204471078\n",
      "  7.015405356906583   8.039455345291284   9.08559655461641\n",
      " 10.166617531435458  11.298549325239446  12.500577711306734\n",
      " 13.796019942463428  15.215814935760534  16.80656682020939\n",
      " 18.651280864175103  20.962349648754582 ]\n",
      "run 21\n"
     ]
    },
    {
     "name": "stderr",
     "output_type": "stream",
     "text": [
      "100%|██████████| 2000/2000 [00:05<00:00, 367.58it/s]\n"
     ]
    },
    {
     "name": "stdout",
     "output_type": "stream",
     "text": [
      "[ 2.2204460492503131e-16 -2.2204460492503131e-16  0.0000000000000000e+00\n",
      "  0.0000000000000000e+00 -2.2204460492503131e-16  0.0000000000000000e+00\n",
      "  7.7715611723760958e-16 -2.2204460492503131e-16 -4.4408920985006262e-16\n",
      "  0.0000000000000000e+00  5.5511151231257827e-16  3.3306690738754696e-16\n",
      " -8.8817841970012523e-16 -1.5543122344752192e-15 -8.8817841970012523e-16\n",
      " -1.9984014443252818e-15 -3.3306690738754696e-15 -2.2204460492503131e-15\n",
      "  4.4408920985006262e-16  1.7763568394002505e-15  1.1102230246251565e-15\n",
      " -4.4408920985006262e-16 -1.5543122344752192e-15 -8.8817841970012523e-16\n",
      " -4.4408920985006262e-16 -1.7763568394002505e-15 -2.6645352591003757e-15\n",
      " -3.1086244689504383e-15 -2.8865798640254070e-15 -2.2204460492503131e-15\n",
      " -1.1102230246251565e-15  1.6653345369377348e-15  4.8849813083506888e-15\n",
      "  5.6621374255882984e-15]\n",
      "new guess \n",
      "[ 1.0000061961759195  1.9994064000340748  2.9989387067825763\n",
      "  3.9988438403711446  4.99970408214831    6.002742092468319\n",
      "  7.010392901808743   8.026992046642507   9.059559662916657\n",
      " 10.118199596133113  11.216052253026886  12.368962088889214\n",
      " 13.595557433981392  14.918691377407857  16.369070975542503\n",
      " 17.993724186542707  19.877374436183157  22.234433289006628 ]\n",
      "run 22\n"
     ]
    },
    {
     "name": "stderr",
     "output_type": "stream",
     "text": [
      "100%|██████████| 2000/2000 [00:05<00:00, 369.71it/s]\n"
     ]
    },
    {
     "name": "stdout",
     "output_type": "stream",
     "text": [
      "[ 0.0000000000000000e+00  1.1102230246251565e-16  0.0000000000000000e+00\n",
      "  0.0000000000000000e+00  3.3306690738754696e-16 -6.6613381477509392e-16\n",
      " -1.1102230246251565e-15  5.5511151231257827e-16  8.8817841970012523e-16\n",
      "  5.5511151231257827e-16  2.2204460492503131e-16 -8.8817841970012523e-16\n",
      " -1.3322676295501878e-15 -8.8817841970012523e-16  2.2204460492503131e-16\n",
      "  8.8817841970012523e-16  2.2204460492503131e-16 -1.1102230246251565e-15\n",
      " -8.8817841970012523e-16  1.4432899320127035e-15  2.3314683517128287e-15\n",
      " -2.2204460492503131e-16 -1.5543122344752192e-15 -1.1102230246251565e-15\n",
      " -4.4408920985006262e-16 -2.2204460492503131e-16  4.4408920985006262e-16\n",
      "  8.8817841970012523e-16  1.2212453270876722e-15  2.2204460492503131e-15\n",
      "  2.8865798640254070e-15  3.4416913763379853e-15  3.2196467714129540e-15\n",
      "  2.1094237467877974e-15  1.1102230246251565e-15  1.3322676295501878e-15]\n",
      "new guess \n",
      "[ 1.000004108345848   1.9990791497230238  2.9982420892539245\n",
      "  3.9976539295363946  4.9977062882959125  5.999229319597436\n",
      "  7.003904607619111   8.014810032186512   9.037130504065086\n",
      " 10.078687146129202  11.15011692497393   12.26459978886712\n",
      " 13.437568078159888  14.687084101193287  16.035446421899902\n",
      " 17.513104809925036  19.167079456031555  21.082248634812974\n",
      " 23.48209822494607  ]\n",
      "run 23\n"
     ]
    },
    {
     "name": "stderr",
     "output_type": "stream",
     "text": [
      "100%|██████████| 2000/2000 [00:05<00:00, 363.63it/s]\n"
     ]
    },
    {
     "name": "stdout",
     "output_type": "stream",
     "text": [
      "[-2.2204460492503131e-16  1.1102230246251565e-16  2.2204460492503131e-16\n",
      "  4.4408920985006262e-16  3.3306690738754696e-16  0.0000000000000000e+00\n",
      " -4.4408920985006262e-16  2.2204460492503131e-16  2.2204460492503131e-16\n",
      " -4.4408920985006262e-16 -1.3322676295501878e-15 -1.7763568394002505e-15\n",
      " -8.8817841970012523e-16  7.7715611723760958e-16  1.5543122344752192e-15\n",
      "  2.9976021664879227e-15  3.2196467714129540e-15  3.1086244689504383e-15\n",
      "  9.9920072216264089e-16 -6.6613381477509392e-16 -1.1102230246251565e-15\n",
      " -4.4408920985006262e-16 -4.4408920985006262e-16 -1.5543122344752192e-15\n",
      " -1.3322676295501878e-15 -8.8817841970012523e-16 -6.6613381477509392e-16\n",
      " -4.4408920985006262e-16 -4.4408920985006262e-16 -4.4408920985006262e-16\n",
      " -1.3322676295501878e-15 -1.7763568394002505e-15 -1.7763568394002505e-15\n",
      " -1.9984014443252818e-15 -2.2204460492503131e-15 -2.8865798640254070e-15\n",
      " -3.7747582837255322e-15 -4.4408920985006262e-15]\n",
      "new guess \n",
      "[ 1.000002752444669   1.999123904910242   2.9983041682477496\n",
      "  3.997652330851936   4.9974342277608255  5.998217492147447\n",
      "  7.0011668576362975  8.008460364592366   9.023889075552912\n",
      " 10.053419772308903  11.105552575326922  12.191232467582248\n",
      " 13.323504136682946  14.51736937837934   15.79035702311072\n",
      " 17.164439217863308  18.669985594579853  20.35435698006704\n",
      " 22.30352633087507   24.74547109842653  ]\n",
      "run 24\n"
     ]
    },
    {
     "name": "stderr",
     "output_type": "stream",
     "text": [
      "100%|██████████| 2000/2000 [00:05<00:00, 370.74it/s]\n"
     ]
    },
    {
     "name": "stdout",
     "output_type": "stream",
     "text": [
      "[ 0.0000000000000000e+00 -4.4408920985006262e-16  2.2204460492503131e-16\n",
      "  6.6613381477509392e-16  5.5511151231257827e-16  5.5511151231257827e-16\n",
      " -2.2204460492503131e-16  2.2204460492503131e-16 -4.4408920985006262e-16\n",
      " -8.8817841970012523e-16 -4.4408920985006262e-16  3.3306690738754696e-16\n",
      "  0.0000000000000000e+00  7.7715611723760958e-16  1.9984014443252818e-15\n",
      "  2.3314683517128287e-15  1.8873791418627661e-15  1.9984014443252818e-15\n",
      "  1.7763568394002505e-15  0.0000000000000000e+00 -6.6613381477509392e-16\n",
      " -4.4408920985006262e-16  0.0000000000000000e+00  4.4408920985006262e-16\n",
      "  1.9984014443252818e-15  2.6645352591003757e-15  2.1094237467877974e-15\n",
      "  8.8817841970012523e-16  6.6613381477509392e-16  1.3322676295501878e-15\n",
      "  5.5511151231257827e-16 -1.3322676295501878e-15 -1.7763568394002505e-15\n",
      "  8.8817841970012523e-16  5.5511151231257827e-15  7.9936057773011271e-15\n",
      "  6.7723604502134549e-15  3.8857805861880479e-15  2.8865798640254070e-15\n",
      "  2.8865798640254070e-15]\n",
      "new guess \n",
      "[ 1.0000018618667001  1.99948113647265    2.9990005560921937\n",
      "  3.998634333408555   4.998564530815779   5.9991821308687685\n",
      "  7.001297371589482   8.00645052788197    9.01739405912142\n",
      " 10.038621727639825  11.076824553404956  12.140999629432592\n",
      " 13.242215334501422  14.39327362554516   15.608719746836709\n",
      " 16.905699296594882  18.305975207097667  19.840060229513593\n",
      " 21.555989184592956  23.541773742011458  26.025153081956475 ]\n",
      "run 25\n",
      "[ 2.2204460492503131e-16  3.3306690738754696e-16  2.2204460492503131e-16\n",
      " -4.4408920985006262e-16 -2.2204460492503131e-16 -2.2204460492503131e-16\n",
      "  4.4408920985006262e-16  5.5511151231257827e-16  0.0000000000000000e+00\n",
      " -8.8817841970012523e-16 -8.8817841970012523e-16 -6.6613381477509392e-16\n",
      " -1.3322676295501878e-15 -6.6613381477509392e-16 -2.2204460492503131e-16\n",
      " -6.6613381477509392e-16 -1.1102230246251565e-15 -1.1102230246251565e-15\n",
      " -6.6613381477509392e-16 -1.1102230246251565e-15 -4.4408920985006262e-16\n",
      "  1.4432899320127035e-15  2.3314683517128287e-15  1.9984014443252818e-15\n",
      "  5.5511151231257827e-16 -6.6613381477509392e-16 -1.1102230246251565e-15\n",
      " -4.4408920985006262e-16  7.7715611723760958e-16  2.2204460492503131e-15\n",
      "  2.6645352591003757e-15  2.5535129566378600e-15  2.7755575615628914e-15\n",
      "  3.3306690738754696e-15  2.4424906541753444e-15  2.2204460492503131e-16\n",
      " -3.1086244689504383e-15 -5.7731597280508140e-15 -5.7731597280508140e-15\n",
      " -3.7747582837255322e-15 -3.1086244689504383e-15 -3.9968028886505635e-15]\n",
      "new guess \n",
      "[ 1.0000012707661652  1.9990528918640569  2.9981319670153264\n",
      "  3.9972893971425023  4.9966503821641135  5.996484834805437\n",
      "  6.997355966776948   8.000347363989864   9.007434846013652\n",
      " 10.021943213630323  11.049024024992576  12.095918391148878\n",
      " 13.171898938010578  14.287941866859857  15.456458337017395\n",
      " 16.691519589893556  18.00983402638691   19.43289799951716\n",
      " 20.99109426571      22.73241569417602   24.744498521130332\n",
      " 27.266035192403212 ]\n",
      "run 26\n",
      "aborted due to nan\n"
     ]
    }
   ],
   "source": [
    "list_params_n = []\n",
    "list_deltas=[]\n",
    "list_guesses = []\n",
    "c  = 4\n",
    "#deltas at 10\n",
    "# deltas_nm1 = jnp.array([2.0087250774670635e+00, 3.0284738337579089e+00,\n",
    "#               4.0702579984187093e+00, 5.1489830905152969e+00,\n",
    "#               6.2846424950416377e+00, 7.5030369320194046e+00,\n",
    "#               8.8383108750694248e+00, 1.0340822370332926e+01,\n",
    "#               1.2100429543282575e+01, 1.4340733644624255e+01])\n",
    "\n",
    "# #delta at 11\n",
    "# deltas_n = jnp.array([ 2.0087250774670684,  3.003572694143946 ,\n",
    "#               4.0170404711910646,  5.05977751818666  ,\n",
    "#               6.145403599576878 ,  7.290835270242067 ,\n",
    "#               8.517198395370421 ,  9.8520027755382   ,\n",
    "#              11.333659047501556 , 13.100298554534404 ,\n",
    "#              15.602738195447228])\n",
    "\n",
    "# a_mus = jnp.array([9.3752351008611274e+00, 4.4929261201295596e+01,\n",
    "#        7.2318721831577193e+01, 6.3074912091117852e+01,\n",
    "#        4.3204885219588775e+01, 2.1197389391231862e+01,\n",
    "#        7.1262995497691684e+00, 1.8737659240062021e+00,\n",
    "#        3.0516249443686172e-01, 3.6314089832267180e-02,\n",
    "#        5.1417535858557049e-04])\n",
    "deltas_nm1 = list_params[-2][:len(list_params[-2])//2]\n",
    "deltas_n = list_params[-1][:len(list_params[-1])//2]\n",
    "deltas_g = deltas_n\n",
    "deltas_n = deltas_nm1\n",
    "adam = optax.adam(learning_rate=0.2)\n",
    "a_mus = jnp.ones(deltas_g.shape, dtype = float) * 1\n",
    "h = len(deltas_g)\n",
    "nr_primal_normal = partial(newton_rap,primal_normal)\n",
    "for p in range(11, 40):\n",
    "    print(f\"run {p}\")\n",
    "    \n",
    "    a_mus_ = jnp.ones(deltas_g.shape, dtype = float) * 1\n",
    "    a_mus = a_mus_.at[0:h].set(a_mus)\n",
    "    if p < 25:\n",
    "        a_mus, losses, _ = rhos_optim(a_mus, deltas_g, c, opt_fn=adam.update, opt_state=adam.init(a_mus), steps=2000)\n",
    "    else:\n",
    "        res = optimize.minimize(primal_normal_optim, a_mus, args=(deltas_g), method=\"Nelder-Mead\", tol=1e-15, options={\"maxiter\": 5000, \"xatol\": 1e-15}) \n",
    "        a_mus = res.x\n",
    "\n",
    "    params = jnp.array([deltas_g,a_mus])\n",
    "    params = params.flatten()\n",
    "\n",
    "    params, *others = nr_primal_normal(params)\n",
    "\n",
    "    if not others[-1]: # if converges\n",
    "        x = -(c-1)/12\n",
    "        list_params_n.append(params)\n",
    "        deltas_nm1 = deltas_n\n",
    "        h = len(params)//2\n",
    "        deltas_n = lax.dynamic_slice(params, (0,),(h,))\n",
    "        list_deltas.append(deltas_n)\n",
    "        print(primal_normal(params))\n",
    "    else:\n",
    "        print(\"aborted due to nan\")\n",
    "        break\n",
    "        \n",
    "    deltas_g = guess_generator(deltas_nm1, deltas_n, fixed_point=1) #+ jnp.arange(p+1)/(3*p)\n",
    "    list_guesses.append(deltas_g)\n",
    "    print(f\"new guess \\n{deltas_g}\")\n"
   ]
  },
  {
   "cell_type": "code",
   "execution_count": 21,
   "metadata": {},
   "outputs": [
    {
     "data": {
      "text/plain": [
       "[]"
      ]
     },
     "execution_count": 21,
     "metadata": {},
     "output_type": "execute_result"
    }
   ],
   "source": []
  },
  {
   "cell_type": "code",
   "execution_count": 19,
   "metadata": {
    "scrolled": false
   },
   "outputs": [
    {
     "name": "stdout",
     "output_type": "stream",
     "text": [
      "run 11\n"
     ]
    },
    {
     "ename": "TypeError",
     "evalue": "rhos_optim() missing 1 required positional argument: 'c'",
     "output_type": "error",
     "traceback": [
      "\u001b[0;31m---------------------------------------------------------------------------\u001b[0m",
      "\u001b[0;31mTypeError\u001b[0m                                 Traceback (most recent call last)",
      "\u001b[0;32m/var/folders/t4/0j0zhyds3djbczt_13m883lr0000gn/T/ipykernel_95857/1088756510.py\u001b[0m in \u001b[0;36m<module>\u001b[0;34m\u001b[0m\n\u001b[1;32m     36\u001b[0m     \u001b[0ma_mus\u001b[0m \u001b[0;34m=\u001b[0m \u001b[0ma_mus_\u001b[0m\u001b[0;34m.\u001b[0m\u001b[0mat\u001b[0m\u001b[0;34m[\u001b[0m\u001b[0;36m0\u001b[0m\u001b[0;34m:\u001b[0m\u001b[0mh\u001b[0m\u001b[0;34m]\u001b[0m\u001b[0;34m.\u001b[0m\u001b[0mset\u001b[0m\u001b[0;34m(\u001b[0m\u001b[0ma_mus\u001b[0m\u001b[0;34m)\u001b[0m\u001b[0;34m\u001b[0m\u001b[0;34m\u001b[0m\u001b[0m\n\u001b[1;32m     37\u001b[0m     \u001b[0;32mif\u001b[0m \u001b[0mp\u001b[0m \u001b[0;34m<\u001b[0m \u001b[0;36m25\u001b[0m\u001b[0;34m:\u001b[0m\u001b[0;34m\u001b[0m\u001b[0;34m\u001b[0m\u001b[0m\n\u001b[0;32m---> 38\u001b[0;31m         \u001b[0ma_mus\u001b[0m\u001b[0;34m,\u001b[0m \u001b[0mlosses\u001b[0m\u001b[0;34m,\u001b[0m \u001b[0m_\u001b[0m \u001b[0;34m=\u001b[0m \u001b[0mrhos_optim\u001b[0m\u001b[0;34m(\u001b[0m\u001b[0ma_mus\u001b[0m\u001b[0;34m,\u001b[0m \u001b[0mdeltas_g\u001b[0m\u001b[0;34m,\u001b[0m \u001b[0mopt_fn\u001b[0m\u001b[0;34m=\u001b[0m\u001b[0madam\u001b[0m\u001b[0;34m.\u001b[0m\u001b[0mupdate\u001b[0m\u001b[0;34m,\u001b[0m \u001b[0mopt_state\u001b[0m\u001b[0;34m=\u001b[0m\u001b[0madam\u001b[0m\u001b[0;34m.\u001b[0m\u001b[0minit\u001b[0m\u001b[0;34m(\u001b[0m\u001b[0ma_mus\u001b[0m\u001b[0;34m)\u001b[0m\u001b[0;34m,\u001b[0m \u001b[0msteps\u001b[0m\u001b[0;34m=\u001b[0m\u001b[0;36m2000\u001b[0m\u001b[0;34m)\u001b[0m\u001b[0;34m\u001b[0m\u001b[0;34m\u001b[0m\u001b[0m\n\u001b[0m\u001b[1;32m     39\u001b[0m     \u001b[0;32melse\u001b[0m\u001b[0;34m:\u001b[0m\u001b[0;34m\u001b[0m\u001b[0;34m\u001b[0m\u001b[0m\n\u001b[1;32m     40\u001b[0m         \u001b[0mres\u001b[0m \u001b[0;34m=\u001b[0m \u001b[0moptimize\u001b[0m\u001b[0;34m.\u001b[0m\u001b[0mminimize\u001b[0m\u001b[0;34m(\u001b[0m\u001b[0mprimal_normal_optim\u001b[0m\u001b[0;34m,\u001b[0m \u001b[0ma_mus\u001b[0m\u001b[0;34m,\u001b[0m \u001b[0margs\u001b[0m\u001b[0;34m=\u001b[0m\u001b[0;34m(\u001b[0m\u001b[0mdeltas_g\u001b[0m\u001b[0;34m)\u001b[0m\u001b[0;34m,\u001b[0m \u001b[0mmethod\u001b[0m\u001b[0;34m=\u001b[0m\u001b[0;34m\"Nelder-Mead\"\u001b[0m\u001b[0;34m,\u001b[0m \u001b[0mtol\u001b[0m\u001b[0;34m=\u001b[0m\u001b[0;36m1e-15\u001b[0m\u001b[0;34m,\u001b[0m \u001b[0moptions\u001b[0m\u001b[0;34m=\u001b[0m\u001b[0;34m{\u001b[0m\u001b[0;34m\"maxiter\"\u001b[0m\u001b[0;34m:\u001b[0m \u001b[0;36m5000\u001b[0m\u001b[0;34m,\u001b[0m \u001b[0;34m\"xatol\"\u001b[0m\u001b[0;34m:\u001b[0m \u001b[0;36m1e-15\u001b[0m\u001b[0;34m}\u001b[0m\u001b[0;34m)\u001b[0m\u001b[0;34m\u001b[0m\u001b[0;34m\u001b[0m\u001b[0m\n",
      "\u001b[0;31mTypeError\u001b[0m: rhos_optim() missing 1 required positional argument: 'c'"
     ]
    }
   ],
   "source": [
    "list_params_n = []\n",
    "list_deltas=[]\n",
    "list_guesses = []\n",
    "c = 12\n",
    "#deltas at 10\n",
    "deltas_nm1 = jnp.array([2.0087250774670635e+00, 3.0284738337579089e+00,\n",
    "              4.0702579984187093e+00, 5.1489830905152969e+00,\n",
    "              6.2846424950416377e+00, 7.5030369320194046e+00,\n",
    "              8.8383108750694248e+00, 1.0340822370332926e+01,\n",
    "              1.2100429543282575e+01, 1.4340733644624255e+01])\n",
    "\n",
    "#delta at 11\n",
    "deltas_n = jnp.array([ 2.0087250774670684,  3.003572694143946 ,\n",
    "              4.0170404711910646,  5.05977751818666  ,\n",
    "              6.145403599576878 ,  7.290835270242067 ,\n",
    "              8.517198395370421 ,  9.8520027755382   ,\n",
    "             11.333659047501556 , 13.100298554534404 ,\n",
    "             15.602738195447228])\n",
    "\n",
    "# a_mus = jnp.array([9.3752351008611274e+00, 4.4929261201295596e+01,\n",
    "#        7.2318721831577193e+01, 6.3074912091117852e+01,\n",
    "#        4.3204885219588775e+01, 2.1197389391231862e+01,\n",
    "#        7.1262995497691684e+00, 1.8737659240062021e+00,\n",
    "#        3.0516249443686172e-01, 3.6314089832267180e-02,\n",
    "#        5.1417535858557049e-04])\n",
    "\n",
    "deltas_g = deltas_n\n",
    "deltas_n = deltas_nm1\n",
    "adam = optax.adam(learning_rate=0.2)\n",
    "a_mus = jnp.ones(deltas_g.shape, dtype = float) * 1\n",
    "h = len(deltas_g)\n",
    "nr_primal_normal = partial(newton_rap,primal_normal)\n",
    "for p in range(11, 40):\n",
    "    print(f\"run {p}\")\n",
    "    \n",
    "    a_mus_ = jnp.ones(deltas_g.shape, dtype = float) * 1\n",
    "    a_mus = a_mus_.at[0:h].set(a_mus)\n",
    "    if p < 25:\n",
    "        a_mus, losses, _ = rhos_optim(a_mus, deltas_g,c, opt_fn=adam.update, opt_state=adam.init(a_mus), steps=2000)\n",
    "    else:\n",
    "        res = optimize.minimize(primal_normal_optim, a_mus, args=(deltas_g), method=\"Nelder-Mead\", tol=1e-15, options={\"maxiter\": 5000, \"xatol\": 1e-15}) \n",
    "        a_mus = res.x\n",
    "\n",
    "    params = jnp.array([deltas_g,a_mus])\n",
    "    params = params.flatten()\n",
    "\n",
    "    params, *others = primal_normal(x0 = params)\n",
    "\n",
    "    if not others[-1]: # if converges\n",
    "        c = 12\n",
    "        x = -(c-1)/12\n",
    "        list_params_n.append(params)\n",
    "        deltas_nm1 = deltas_n\n",
    "        h = len(params)//2\n",
    "        deltas_n = lax.dynamic_slice(params, (0,),(h,))\n",
    "        list_deltas.append(deltas_n)\n",
    "        print(primal_normal(params))\n",
    "    else:\n",
    "        print(\"aborted due to nan\")\n",
    "        break\n",
    "        \n",
    "    deltas_g = guess_generator(deltas_nm1, deltas_n, fixed_point=1) #+ jnp.arange(p+1)/(3*p)\n",
    "    list_guesses.append(deltas_g)\n",
    "    print(f\"new guess \\n{deltas_g}\")\n"
   ]
  },
  {
   "cell_type": "code",
   "execution_count": 19,
   "metadata": {
    "scrolled": false
   },
   "outputs": [
    {
     "ename": "IndexError",
     "evalue": "list index out of range",
     "output_type": "error",
     "traceback": [
      "\u001b[0;31m---------------------------------------------------------------------------\u001b[0m",
      "\u001b[0;31mIndexError\u001b[0m                                Traceback (most recent call last)",
      "\u001b[0;32m/var/folders/t4/0j0zhyds3djbczt_13m883lr0000gn/T/ipykernel_81611/3596928901.py\u001b[0m in \u001b[0;36m<module>\u001b[0;34m\u001b[0m\n\u001b[1;32m      2\u001b[0m \u001b[0;34m\u001b[0m\u001b[0m\n\u001b[1;32m      3\u001b[0m \u001b[0;32mfor\u001b[0m \u001b[0mn\u001b[0m \u001b[0;32min\u001b[0m \u001b[0mrange\u001b[0m\u001b[0;34m(\u001b[0m\u001b[0;36m19\u001b[0m\u001b[0;34m)\u001b[0m\u001b[0;34m:\u001b[0m\u001b[0;34m\u001b[0m\u001b[0;34m\u001b[0m\u001b[0m\n\u001b[0;32m----> 4\u001b[0;31m     \u001b[0mcor\u001b[0m \u001b[0;34m=\u001b[0m \u001b[0mlist_deltas\u001b[0m\u001b[0;34m[\u001b[0m\u001b[0mn\u001b[0m\u001b[0;34m+\u001b[0m\u001b[0;36m1\u001b[0m\u001b[0;34m]\u001b[0m \u001b[0;34m-\u001b[0m \u001b[0mlist_guesses\u001b[0m\u001b[0;34m[\u001b[0m\u001b[0mn\u001b[0m\u001b[0;34m]\u001b[0m\u001b[0;34m\u001b[0m\u001b[0;34m\u001b[0m\u001b[0m\n\u001b[0m\u001b[1;32m      5\u001b[0m     \u001b[0mplt\u001b[0m\u001b[0;34m.\u001b[0m\u001b[0mplot\u001b[0m\u001b[0;34m(\u001b[0m\u001b[0mnp\u001b[0m\u001b[0;34m.\u001b[0m\u001b[0marange\u001b[0m\u001b[0;34m(\u001b[0m\u001b[0;36m1\u001b[0m\u001b[0;34m,\u001b[0m\u001b[0;36m13\u001b[0m\u001b[0;34m+\u001b[0m\u001b[0mn\u001b[0m\u001b[0;34m)\u001b[0m\u001b[0;34m,\u001b[0m\u001b[0mcor\u001b[0m\u001b[0;34m,\u001b[0m \u001b[0;34m\"o-\"\u001b[0m\u001b[0;34m)\u001b[0m\u001b[0;34m\u001b[0m\u001b[0;34m\u001b[0m\u001b[0m\n\u001b[1;32m      6\u001b[0m     \u001b[0mplt\u001b[0m\u001b[0;34m.\u001b[0m\u001b[0mxlim\u001b[0m\u001b[0;34m(\u001b[0m\u001b[0;36m0\u001b[0m\u001b[0;34m,\u001b[0m\u001b[0;36m15\u001b[0m\u001b[0;34m+\u001b[0m\u001b[0mn\u001b[0m\u001b[0;34m)\u001b[0m\u001b[0;34m\u001b[0m\u001b[0;34m\u001b[0m\u001b[0m\n",
      "\u001b[0;31mIndexError\u001b[0m: list index out of range"
     ]
    },
    {
     "data": {
      "image/png": "[encoded data removed]",
      "text/plain": [
       "<Figure size 432x288 with 1 Axes>"
      ]
     },
     "metadata": {
      "needs_background": "light"
     },
     "output_type": "display_data"
    }
   ],
   "source": [
    "#Guess - True value\n",
    "\n",
    "for n in range(19):\n",
    "    cor = list_deltas[n+1] - list_guesses[n]\n",
    "    plt.plot(np.arange(1,13+n),cor, \"o-\")\n",
    "    plt.xlim(0,15+n)"
   ]
  },
  {
   "cell_type": "code",
   "execution_count": 21,
   "metadata": {
    "scrolled": true
   },
   "outputs": [
    {
     "data": {
      "image/png": "[encoded data removed]",
      "text/plain": [
       "<Figure size 432x288 with 1 Axes>"
      ]
     },
     "metadata": {
      "needs_background": "light"
     },
     "output_type": "display_data"
    }
   ],
   "source": [
    "# Plot for rhos at different steps\n",
    "for i, rho in enumerate(list_params_n):\n",
    "    h = len(rho) // 2\n",
    "    rho = rho[h:]\n",
    "    plt.plot(rho)"
   ]
  },
  {
   "cell_type": "code",
   "execution_count": 22,
   "metadata": {
    "scrolled": true
   },
   "outputs": [
    {
     "data": {
      "text/plain": [
       "[<matplotlib.lines.Line2D at 0x7f94dfa72f40>]"
      ]
     },
     "execution_count": 22,
     "metadata": {},
     "output_type": "execute_result"
    },
    {
     "data": {
      "image/png": "[encoded data removed]",
      "text/plain": [
       "<Figure size 432x288 with 1 Axes>"
      ]
     },
     "metadata": {
      "needs_background": "light"
     },
     "output_type": "display_data"
    }
   ],
   "source": [
    "#Deltas vs index\n",
    "list_deltas\n",
    "for delta in list_deltas:\n",
    "    plt.plot(delta)\n",
    "xrange = np.arange(1,30)\n",
    "plt.plot(1+xrange)"
   ]
  },
  {
   "cell_type": "code",
   "execution_count": 20,
   "metadata": {
    "scrolled": false
   },
   "outputs": [
    {
     "data": {
      "image/png": "[encoded data removed]",
      "text/plain": [
       "<Figure size 432x288 with 1 Axes>"
      ]
     },
     "metadata": {
      "needs_background": "light"
     },
     "output_type": "display_data"
    }
   ],
   "source": [
    "# Comparing guess from guess_generator and true value\n",
    "\n",
    "def dilation(dnm1,dn, fixed_point = 1, some_point = 0):\n",
    "    h =  len(dnm1) - some_point if len(dnm1) - some_point> 0 else len(dnm1)\n",
    "    lambda_= (h+1 - fixed_point)/(h - fixed_point)\n",
    "    epsilon = jnp.log((dn[h+1]-dn[fixed_point-1])/(dnm1[h] - dnm1[fixed_point-1]))/jnp.log(lambda_) \n",
    "    return epsilon\n",
    "\n",
    "def guess_generator(dnm1, dn, fixed_point=1):\n",
    "    \n",
    "    epsilon = dilation(dnm1, dn, fixed_point,3)\n",
    "    no_points = 1000\n",
    "    x_range = jnp.linspace(1.0,int(len(dn)),(int(len(dn))- 1)*no_points)\n",
    "    \n",
    "    x_discrete = jnp.arange(1, int(len(dn)) + 1, dtype = float)\n",
    "    \n",
    "    yn = jnp.interp(x_range, x_discrete, dn)\n",
    "    \n",
    "    lambda_ = (len(dn))/(len(dn) - 1)\n",
    "    \n",
    "    scale = lambda_ ** epsilon\n",
    "    \n",
    "    ynp1 = (yn - yn[0]) * scale + yn[0]\n",
    "    sample_rate = int((no_points-1)/ lambda_)\n",
    "    guess = ynp1[::sample_rate]\n",
    "\n",
    "    return guess\n",
    "\n",
    "corrections = []\n",
    "for n in range(1,10):\n",
    "    guess = guess_generator(list_deltas[n], list_deltas[n+1], fixed_point=1)\n",
    "    cor = guess - list_deltas[n+2]\n",
    "    corrections.append(cor[-6:])\n",
    "    plt.plot(np.arange(1,14+n),cor, \"o-\")\n",
    "    plt.xlim(0,15+n)"
   ]
  },
  {
   "cell_type": "code",
   "execution_count": null,
   "metadata": {},
   "outputs": [],
   "source": []
  },
  {
   "cell_type": "code",
   "execution_count": 410,
   "metadata": {},
   "outputs": [],
   "source": [
    "fun = lambda x: jnp.array([x[0]**2 + x[1]**2, x[0]/x[1]])"
   ]
  },
  {
   "cell_type": "code",
   "execution_count": 407,
   "metadata": {},
   "outputs": [],
   "source": [
    "Jf = jit(jacfwd(fun))\n",
    "Hf = jax.hessian(fun)"
   ]
  },
  {
   "cell_type": "code",
   "execution_count": 411,
   "metadata": {},
   "outputs": [
    {
     "data": {
      "text/plain": [
       "DeviceArray([5. , 0.5], dtype=float64)"
      ]
     },
     "execution_count": 411,
     "metadata": {},
     "output_type": "execute_result"
    }
   ],
   "source": [
    "fun(jnp.array([1.,2.]))"
   ]
  },
  {
   "cell_type": "code",
   "execution_count": 422,
   "metadata": {},
   "outputs": [
    {
     "data": {
      "text/plain": [
       "DeviceArray([[ 2.  ,  4.  ],\n",
       "             [ 0.5 , -0.25]], dtype=float64)"
      ]
     },
     "execution_count": 422,
     "metadata": {},
     "output_type": "execute_result"
    }
   ],
   "source": [
    "Jf(jnp.array([1.,2.])"
   ]
  },
  {
   "cell_type": "code",
   "execution_count": 433,
   "metadata": {},
   "outputs": [
    {
     "data": {
      "text/plain": [
       "DeviceArray([[[ 2.  ,  0.  ],\n",
       "              [ 0.  ,  2.  ]],\n",
       "\n",
       "             [[ 0.  , -0.25],\n",
       "              [-0.25,  0.25]]], dtype=float64)"
      ]
     },
     "execution_count": 433,
     "metadata": {},
     "output_type": "execute_result"
    }
   ],
   "source": [
    "Hf(jnp.array([1.,2.]))"
   ]
  },
  {
   "cell_type": "code",
   "execution_count": null,
   "metadata": {},
   "outputs": [],
   "source": []
  }
 ],
 "metadata": {
  "@webio": {
   "lastCommId": null,
   "lastKernelId": null
  },
  "kernelspec": {
   "display_name": "Python 3 (ipykernel)",
   "language": "python",
   "name": "python3"
  },
  "language_info": {
   "codemirror_mode": {
    "name": "ipython",
    "version": 3
   },
   "file_extension": ".py",
   "mimetype": "text/x-python",
   "name": "python",
   "nbconvert_exporter": "python",
   "pygments_lexer": "ipython3",
   "version": "3.9.7"
  },
  "vscode": {
   "interpreter": {
    "hash": "b466399646a69c0617672abf57399a3e9eb826bbf974fdc8916a8a8d36e765db"
   }
  }
 },
 "nbformat": 4,
 "nbformat_minor": 2
}
