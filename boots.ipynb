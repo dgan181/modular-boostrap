{
 "cells": [
  {
   "cell_type": "code",
   "execution_count": 1,
   "metadata": {},
   "outputs": [],
   "source": [
    "import jax\n",
    "from cft import *\n",
    "import jax.numpy as jnp\n",
    "import matplotlib.pyplot as plt\n",
    "from tqdm import tqdm\n",
    "import optax\n",
    "from jax import jit, vmap, lax, grad, jacfwd\n",
    "\n",
    "from functools import partial\n",
    "\n",
    "from scipy import optimize\n",
    "\n",
    "jax.config.update(\"jax_enable_x64\", True)\n",
    "jnp.set_printoptions(precision=20)\n",
    "\n",
    "from matplotlib.pyplot import cm"
   ]
  },
  {
   "cell_type": "code",
   "execution_count": 1324,
   "metadata": {},
   "outputs": [],
   "source": [
    "def boots(beta,c, params, opt_fn, opt_state, steps=100):\n",
    "    \"\"\" finds deltas\n",
    "\n",
    "        Params:\n",
    "        beta - random point for beta\n",
    "        c - central charge\n",
    "        deltas - intitialised deltas\n",
    "        opt_fn - optimization function e.g. Adam\n",
    "        opt_state - initial state\n",
    "\n",
    "        Returns:\n",
    "        losses, deltas, state\n",
    "\n",
    "    \"\"\"\n",
    "#     @jit\n",
    "    def loss_function(params):\n",
    "        identy = vmap(reduced_partition_function_spinless, in_axes=(None, 0, None), out_axes=0)(params, beta, c)\n",
    "        transformed = vmap(reduced_partition_function_spinless, in_axes=(None, 0, None), out_axes=0)(params, 1/beta, c)\n",
    "#         print(identy.shape)\n",
    "        return jnp.mean((identy-transformed)**2) # mean squared loss\n",
    "\n",
    "    losses = []\n",
    "    for _ in tqdm(range(steps)):\n",
    "        # loss and gradients calulated with \n",
    "        loss, grads = jax.value_and_grad(loss_function)(params) \n",
    "        updates, opt_state = opt_fn(grads, opt_state)\n",
    "        params += updates\n",
    "        losses.append(loss) \n",
    "\n",
    "    return jnp.stack(losses), params, opt_state\n"
   ]
  },
  {
   "cell_type": "code",
   "execution_count": 1332,
   "metadata": {
    "scrolled": true
   },
   "outputs": [
    {
     "name": "stderr",
     "output_type": "stream",
     "text": [
      "100%|████████████████████████████████████████| 800/800 [00:07<00:00, 111.51it/s]\n",
      "100%|████████████████████████████████████████| 800/800 [00:06<00:00, 123.59it/s]\n",
      "100%|████████████████████████████████████████| 800/800 [00:06<00:00, 130.27it/s]\n",
      "100%|████████████████████████████████████████| 800/800 [00:06<00:00, 116.38it/s]\n"
     ]
    },
    {
     "data": {
      "image/png": "[encoded data removed]",
      "text/plain": [
       "<Figure size 432x288 with 1 Axes>"
      ]
     },
     "metadata": {
      "needs_background": "light"
     },
     "output_type": "display_data"
    }
   ],
   "source": [
    "number_delta = 10\n",
    "rng = random.PRNGKey(12)\n",
    "keys = random.split(rng, 2)\n",
    "batch_size = 128\n",
    "params = random.uniform(keys[1], (batch_size, 2, number_delta))*2\n",
    "beta_size = 2*number_delta\n",
    "beta = (random.uniform(keys[0], (beta_size,)) + 1/2 )\n",
    "c = 4\n",
    "step=800\n",
    "\n",
    "# test for different learning rates\n",
    "for lr in [5e-4 ,5e-3, 5e-2, 0.1]:\n",
    "    adam = optax.adam(learning_rate=lr)\n",
    "#     params = random.uniform(keys[1], (2, number_delta))*2\n",
    "    params = random.uniform(keys[1], (batch_size, 2, 10))*2\n",
    "    losses, params, _ = boots(beta, c, params, opt_fn=adam.update, opt_state=adam.init(params),steps=step)\n",
    "    steps = np.linspace(1,step,step)\n",
    "    plt.plot(steps,losses,label=f\"{lr}\")\n",
    "    plt.yscale(\"log\")\n",
    "    plt.legend()\n",
    "\n",
    "    # print(learned_deltas)"
   ]
  },
  {
   "cell_type": "code",
   "execution_count": 1333,
   "metadata": {},
   "outputs": [
    {
     "data": {
      "text/plain": [
       "(128, 2, 10)"
      ]
     },
     "execution_count": 1333,
     "metadata": {},
     "output_type": "execute_result"
    }
   ],
   "source": [
    "params.shape"
   ]
  },
  {
   "cell_type": "code",
   "execution_count": 1335,
   "metadata": {},
   "outputs": [
    {
     "data": {
      "text/plain": [
       "DeviceArray([[[ 0.37861199,  0.37862294,  0.83809272, ...,  0.9152998 ,\n",
       "                0.91793441,  0.9403382 ],\n",
       "              [ 0.37860556,  0.8097835 ,  0.91130832, ...,  0.91613582,\n",
       "                0.91669292,  2.07845667]],\n",
       "\n",
       "             [[ 0.34025298,  7.33085342,  7.54149412, ..., 12.54906638,\n",
       "               14.77312594, 16.47673069],\n",
       "              [ 0.34499449,  5.87408497,  7.90694758, ..., 12.59748878,\n",
       "               13.06718227, 14.87715586]],\n",
       "\n",
       "             [[ 0.06371786,  0.18590958,  0.33128305, ...,  1.43608001,\n",
       "                1.44248092,  1.62621345],\n",
       "              [ 0.12126838,  0.44449996,  0.598009  , ...,  1.62174401,\n",
       "                1.63637134,  1.78587965]],\n",
       "\n",
       "             ...,\n",
       "\n",
       "             [[ 0.06848676,  0.08964665,  0.33792242, ...,  1.49667898,\n",
       "                1.76248279,  1.82130552],\n",
       "              [ 0.09261414,  1.01789018,  1.11071099, ...,  1.25261273,\n",
       "                1.51837084,  1.6275978 ]],\n",
       "\n",
       "             [[ 0.17539854,  0.24987877,  0.37545894, ...,  1.64321846,\n",
       "                1.78079505,  1.91364906],\n",
       "              [ 0.26569458,  0.31357899,  0.4654255 , ...,  1.64551603,\n",
       "                1.90377754,  1.93741946]],\n",
       "\n",
       "             [[ 0.12980849,  0.30915181,  0.48494991, ...,  1.42358474,\n",
       "                1.56293687,  1.88775468],\n",
       "              [ 0.28821534,  0.71579571,  0.74744404, ...,  1.17879287,\n",
       "                1.18997883,  1.72534894]]], dtype=float64)"
      ]
     },
     "execution_count": 1335,
     "metadata": {},
     "output_type": "execute_result"
    }
   ],
   "source": [
    "jnp.sort(params)"
   ]
  },
  {
   "cell_type": "code",
   "execution_count": 78,
   "metadata": {},
   "outputs": [
    {
     "name": "stderr",
     "output_type": "stream",
     "text": [
      "  5%|▍         | 4521/100000 [00:15<05:24, 294.38it/s]\n"
     ]
    },
    {
     "ename": "KeyboardInterrupt",
     "evalue": "",
     "output_type": "error",
     "traceback": [
      "\u001b[0;31m---------------------------------------------------------------------------\u001b[0m",
      "\u001b[0;31mKeyboardInterrupt\u001b[0m                         Traceback (most recent call last)",
      "\u001b[0;32m/var/folders/t4/0j0zhyds3djbczt_13m883lr0000gn/T/ipykernel_39425/4034971966.py\u001b[0m in \u001b[0;36m<module>\u001b[0;34m\u001b[0m\n\u001b[1;32m     16\u001b[0m     \u001b[0;31m# if epoch > 2:\u001b[0m\u001b[0;34m\u001b[0m\u001b[0;34m\u001b[0m\u001b[0m\n\u001b[1;32m     17\u001b[0m     \u001b[0;31m# lr = lr/10\u001b[0m\u001b[0;34m\u001b[0m\u001b[0;34m\u001b[0m\u001b[0m\n\u001b[0;32m---> 18\u001b[0;31m     \u001b[0mlosses\u001b[0m\u001b[0;34m,\u001b[0m \u001b[0mparams\u001b[0m\u001b[0;34m,\u001b[0m \u001b[0m_\u001b[0m \u001b[0;34m=\u001b[0m \u001b[0mboots\u001b[0m\u001b[0;34m(\u001b[0m\u001b[0mbeta\u001b[0m\u001b[0;34m,\u001b[0m \u001b[0mc\u001b[0m\u001b[0;34m,\u001b[0m \u001b[0mparams\u001b[0m\u001b[0;34m,\u001b[0m \u001b[0mopt_fn\u001b[0m\u001b[0;34m=\u001b[0m\u001b[0madam\u001b[0m\u001b[0;34m.\u001b[0m\u001b[0mupdate\u001b[0m\u001b[0;34m,\u001b[0m \u001b[0mopt_state\u001b[0m\u001b[0;34m=\u001b[0m\u001b[0madam\u001b[0m\u001b[0;34m.\u001b[0m\u001b[0minit\u001b[0m\u001b[0;34m(\u001b[0m\u001b[0mparams\u001b[0m\u001b[0;34m)\u001b[0m\u001b[0;34m,\u001b[0m\u001b[0msteps\u001b[0m\u001b[0;34m=\u001b[0m\u001b[0mstep\u001b[0m\u001b[0;34m)\u001b[0m\u001b[0;34m\u001b[0m\u001b[0;34m\u001b[0m\u001b[0m\n\u001b[0m\u001b[1;32m     19\u001b[0m     \u001b[0msteps\u001b[0m \u001b[0;34m=\u001b[0m \u001b[0mnp\u001b[0m\u001b[0;34m.\u001b[0m\u001b[0mlinspace\u001b[0m\u001b[0;34m(\u001b[0m\u001b[0mepoch\u001b[0m\u001b[0;34m*\u001b[0m\u001b[0mstep\u001b[0m\u001b[0;34m+\u001b[0m\u001b[0;36m1\u001b[0m\u001b[0;34m,\u001b[0m\u001b[0;34m(\u001b[0m\u001b[0mepoch\u001b[0m\u001b[0;34m+\u001b[0m\u001b[0;36m1\u001b[0m\u001b[0;34m)\u001b[0m\u001b[0;34m*\u001b[0m\u001b[0mstep\u001b[0m\u001b[0;34m,\u001b[0m\u001b[0mstep\u001b[0m\u001b[0;34m)\u001b[0m\u001b[0;34m\u001b[0m\u001b[0;34m\u001b[0m\u001b[0m\n\u001b[1;32m     20\u001b[0m     \u001b[0mplt\u001b[0m\u001b[0;34m.\u001b[0m\u001b[0mplot\u001b[0m\u001b[0;34m(\u001b[0m\u001b[0msteps\u001b[0m\u001b[0;34m,\u001b[0m\u001b[0mlosses\u001b[0m\u001b[0;34m)\u001b[0m\u001b[0;34m\u001b[0m\u001b[0;34m\u001b[0m\u001b[0m\n",
      "\u001b[0;32m/var/folders/t4/0j0zhyds3djbczt_13m883lr0000gn/T/ipykernel_39425/214753983.py\u001b[0m in \u001b[0;36mboots\u001b[0;34m(beta, c, params, opt_fn, opt_state, steps)\u001b[0m\n\u001b[1;32m     23\u001b[0m         \u001b[0;31m# loss and gradients calulated with\u001b[0m\u001b[0;34m\u001b[0m\u001b[0;34m\u001b[0m\u001b[0m\n\u001b[1;32m     24\u001b[0m         \u001b[0mloss\u001b[0m\u001b[0;34m,\u001b[0m \u001b[0mgrads\u001b[0m \u001b[0;34m=\u001b[0m \u001b[0mjax\u001b[0m\u001b[0;34m.\u001b[0m\u001b[0mvalue_and_grad\u001b[0m\u001b[0;34m(\u001b[0m\u001b[0mloss_function\u001b[0m\u001b[0;34m)\u001b[0m\u001b[0;34m(\u001b[0m\u001b[0mparams\u001b[0m\u001b[0;34m)\u001b[0m\u001b[0;34m\u001b[0m\u001b[0;34m\u001b[0m\u001b[0m\n\u001b[0;32m---> 25\u001b[0;31m         \u001b[0mupdates\u001b[0m\u001b[0;34m,\u001b[0m \u001b[0mopt_state\u001b[0m \u001b[0;34m=\u001b[0m \u001b[0mopt_fn\u001b[0m\u001b[0;34m(\u001b[0m\u001b[0mgrads\u001b[0m\u001b[0;34m,\u001b[0m \u001b[0mopt_state\u001b[0m\u001b[0;34m)\u001b[0m\u001b[0;34m\u001b[0m\u001b[0;34m\u001b[0m\u001b[0m\n\u001b[0m\u001b[1;32m     26\u001b[0m         \u001b[0mparams\u001b[0m \u001b[0;34m+=\u001b[0m \u001b[0mupdates\u001b[0m\u001b[0;34m\u001b[0m\u001b[0;34m\u001b[0m\u001b[0m\n\u001b[1;32m     27\u001b[0m         \u001b[0mlosses\u001b[0m\u001b[0;34m.\u001b[0m\u001b[0mappend\u001b[0m\u001b[0;34m(\u001b[0m\u001b[0mloss\u001b[0m\u001b[0;34m)\u001b[0m\u001b[0;34m\u001b[0m\u001b[0;34m\u001b[0m\u001b[0m\n",
      "\u001b[0;32m~/opt/anaconda3/lib/python3.9/site-packages/optax/_src/combine.py\u001b[0m in \u001b[0;36mupdate_fn\u001b[0;34m(updates, state, params)\u001b[0m\n\u001b[1;32m     52\u001b[0m     \u001b[0mnew_state\u001b[0m \u001b[0;34m=\u001b[0m \u001b[0;34m[\u001b[0m\u001b[0;34m]\u001b[0m\u001b[0;34m\u001b[0m\u001b[0;34m\u001b[0m\u001b[0m\n\u001b[1;32m     53\u001b[0m     \u001b[0;32mfor\u001b[0m \u001b[0ms\u001b[0m\u001b[0;34m,\u001b[0m \u001b[0mfn\u001b[0m \u001b[0;32min\u001b[0m \u001b[0mzip\u001b[0m\u001b[0;34m(\u001b[0m\u001b[0mstate\u001b[0m\u001b[0;34m,\u001b[0m \u001b[0mupdate_fns\u001b[0m\u001b[0;34m)\u001b[0m\u001b[0;34m:\u001b[0m\u001b[0;34m\u001b[0m\u001b[0;34m\u001b[0m\u001b[0m\n\u001b[0;32m---> 54\u001b[0;31m       \u001b[0mupdates\u001b[0m\u001b[0;34m,\u001b[0m \u001b[0mnew_s\u001b[0m \u001b[0;34m=\u001b[0m \u001b[0mfn\u001b[0m\u001b[0;34m(\u001b[0m\u001b[0mupdates\u001b[0m\u001b[0;34m,\u001b[0m \u001b[0ms\u001b[0m\u001b[0;34m,\u001b[0m \u001b[0mparams\u001b[0m\u001b[0;34m)\u001b[0m\u001b[0;34m\u001b[0m\u001b[0;34m\u001b[0m\u001b[0m\n\u001b[0m\u001b[1;32m     55\u001b[0m       \u001b[0mnew_state\u001b[0m\u001b[0;34m.\u001b[0m\u001b[0mappend\u001b[0m\u001b[0;34m(\u001b[0m\u001b[0mnew_s\u001b[0m\u001b[0;34m)\u001b[0m\u001b[0;34m\u001b[0m\u001b[0;34m\u001b[0m\u001b[0m\n\u001b[1;32m     56\u001b[0m     \u001b[0;32mreturn\u001b[0m \u001b[0mupdates\u001b[0m\u001b[0;34m,\u001b[0m \u001b[0mtuple\u001b[0m\u001b[0;34m(\u001b[0m\u001b[0mnew_state\u001b[0m\u001b[0;34m)\u001b[0m\u001b[0;34m\u001b[0m\u001b[0;34m\u001b[0m\u001b[0m\n",
      "\u001b[0;32m~/opt/anaconda3/lib/python3.9/site-packages/optax/_src/transform.py\u001b[0m in \u001b[0;36mupdate_fn\u001b[0;34m(***failed resolving arguments***)\u001b[0m\n\u001b[1;32m    340\u001b[0m   \u001b[0;32mdef\u001b[0m \u001b[0mupdate_fn\u001b[0m\u001b[0;34m(\u001b[0m\u001b[0mupdates\u001b[0m\u001b[0;34m,\u001b[0m \u001b[0mstate\u001b[0m\u001b[0;34m,\u001b[0m \u001b[0mparams\u001b[0m\u001b[0;34m=\u001b[0m\u001b[0;32mNone\u001b[0m\u001b[0;34m)\u001b[0m\u001b[0;34m:\u001b[0m\u001b[0;34m\u001b[0m\u001b[0;34m\u001b[0m\u001b[0m\n\u001b[1;32m    341\u001b[0m     \u001b[0;32mdel\u001b[0m \u001b[0mparams\u001b[0m\u001b[0;34m\u001b[0m\u001b[0;34m\u001b[0m\u001b[0m\n\u001b[0;32m--> 342\u001b[0;31m     \u001b[0mmu\u001b[0m \u001b[0;34m=\u001b[0m \u001b[0mupdate_moment\u001b[0m\u001b[0;34m(\u001b[0m\u001b[0mupdates\u001b[0m\u001b[0;34m,\u001b[0m \u001b[0mstate\u001b[0m\u001b[0;34m.\u001b[0m\u001b[0mmu\u001b[0m\u001b[0;34m,\u001b[0m \u001b[0mb1\u001b[0m\u001b[0;34m,\u001b[0m \u001b[0;36m1\u001b[0m\u001b[0;34m)\u001b[0m\u001b[0;34m\u001b[0m\u001b[0;34m\u001b[0m\u001b[0m\n\u001b[0m\u001b[1;32m    343\u001b[0m     \u001b[0mnu\u001b[0m \u001b[0;34m=\u001b[0m \u001b[0mupdate_moment_per_elem_norm\u001b[0m\u001b[0;34m(\u001b[0m\u001b[0mupdates\u001b[0m\u001b[0;34m,\u001b[0m \u001b[0mstate\u001b[0m\u001b[0;34m.\u001b[0m\u001b[0mnu\u001b[0m\u001b[0;34m,\u001b[0m \u001b[0mb2\u001b[0m\u001b[0;34m,\u001b[0m \u001b[0;36m2\u001b[0m\u001b[0;34m)\u001b[0m\u001b[0;34m\u001b[0m\u001b[0;34m\u001b[0m\u001b[0m\n\u001b[1;32m    344\u001b[0m     \u001b[0mcount_inc\u001b[0m \u001b[0;34m=\u001b[0m \u001b[0mnumerics\u001b[0m\u001b[0;34m.\u001b[0m\u001b[0msafe_int32_increment\u001b[0m\u001b[0;34m(\u001b[0m\u001b[0mstate\u001b[0m\u001b[0;34m.\u001b[0m\u001b[0mcount\u001b[0m\u001b[0;34m)\u001b[0m\u001b[0;34m\u001b[0m\u001b[0;34m\u001b[0m\u001b[0m\n",
      "\u001b[0;32m~/opt/anaconda3/lib/python3.9/site-packages/optax/_src/transform.py\u001b[0m in \u001b[0;36mupdate_moment\u001b[0;34m(updates, moments, decay, order)\u001b[0m\n\u001b[1;32m     81\u001b[0m \u001b[0;32mdef\u001b[0m \u001b[0mupdate_moment\u001b[0m\u001b[0;34m(\u001b[0m\u001b[0mupdates\u001b[0m\u001b[0;34m,\u001b[0m \u001b[0mmoments\u001b[0m\u001b[0;34m,\u001b[0m \u001b[0mdecay\u001b[0m\u001b[0;34m,\u001b[0m \u001b[0morder\u001b[0m\u001b[0;34m)\u001b[0m\u001b[0;34m:\u001b[0m\u001b[0;34m\u001b[0m\u001b[0;34m\u001b[0m\u001b[0m\n\u001b[1;32m     82\u001b[0m   \u001b[0;34m\"\"\"Compute the exponential moving average of the `order`-th moment.\"\"\"\u001b[0m\u001b[0;34m\u001b[0m\u001b[0;34m\u001b[0m\u001b[0m\n\u001b[0;32m---> 83\u001b[0;31m   return jax.tree_util.tree_map(\n\u001b[0m\u001b[1;32m     84\u001b[0m       lambda g, t: (1 - decay) * (g ** order) + decay * t, updates, moments)\n\u001b[1;32m     85\u001b[0m \u001b[0;34m\u001b[0m\u001b[0m\n",
      "\u001b[0;32m~/opt/anaconda3/lib/python3.9/site-packages/jax/_src/tree_util.py\u001b[0m in \u001b[0;36mtree_map\u001b[0;34m(f, tree, is_leaf, *rest)\u001b[0m\n\u001b[1;32m    205\u001b[0m   \u001b[0mleaves\u001b[0m\u001b[0;34m,\u001b[0m \u001b[0mtreedef\u001b[0m \u001b[0;34m=\u001b[0m \u001b[0mtree_flatten\u001b[0m\u001b[0;34m(\u001b[0m\u001b[0mtree\u001b[0m\u001b[0;34m,\u001b[0m \u001b[0mis_leaf\u001b[0m\u001b[0;34m)\u001b[0m\u001b[0;34m\u001b[0m\u001b[0;34m\u001b[0m\u001b[0m\n\u001b[1;32m    206\u001b[0m   \u001b[0mall_leaves\u001b[0m \u001b[0;34m=\u001b[0m \u001b[0;34m[\u001b[0m\u001b[0mleaves\u001b[0m\u001b[0;34m]\u001b[0m \u001b[0;34m+\u001b[0m \u001b[0;34m[\u001b[0m\u001b[0mtreedef\u001b[0m\u001b[0;34m.\u001b[0m\u001b[0mflatten_up_to\u001b[0m\u001b[0;34m(\u001b[0m\u001b[0mr\u001b[0m\u001b[0;34m)\u001b[0m \u001b[0;32mfor\u001b[0m \u001b[0mr\u001b[0m \u001b[0;32min\u001b[0m \u001b[0mrest\u001b[0m\u001b[0;34m]\u001b[0m\u001b[0;34m\u001b[0m\u001b[0;34m\u001b[0m\u001b[0m\n\u001b[0;32m--> 207\u001b[0;31m   \u001b[0;32mreturn\u001b[0m \u001b[0mtreedef\u001b[0m\u001b[0;34m.\u001b[0m\u001b[0munflatten\u001b[0m\u001b[0;34m(\u001b[0m\u001b[0mf\u001b[0m\u001b[0;34m(\u001b[0m\u001b[0;34m*\u001b[0m\u001b[0mxs\u001b[0m\u001b[0;34m)\u001b[0m \u001b[0;32mfor\u001b[0m \u001b[0mxs\u001b[0m \u001b[0;32min\u001b[0m \u001b[0mzip\u001b[0m\u001b[0;34m(\u001b[0m\u001b[0;34m*\u001b[0m\u001b[0mall_leaves\u001b[0m\u001b[0;34m)\u001b[0m\u001b[0;34m)\u001b[0m\u001b[0;34m\u001b[0m\u001b[0;34m\u001b[0m\u001b[0m\n\u001b[0m\u001b[1;32m    208\u001b[0m \u001b[0;34m\u001b[0m\u001b[0m\n\u001b[1;32m    209\u001b[0m \u001b[0;32mdef\u001b[0m \u001b[0mbuild_tree\u001b[0m\u001b[0;34m(\u001b[0m\u001b[0mtreedef\u001b[0m\u001b[0;34m:\u001b[0m \u001b[0mPyTreeDef\u001b[0m\u001b[0;34m,\u001b[0m \u001b[0mxs\u001b[0m\u001b[0;34m:\u001b[0m \u001b[0mAny\u001b[0m\u001b[0;34m)\u001b[0m \u001b[0;34m->\u001b[0m \u001b[0mAny\u001b[0m\u001b[0;34m:\u001b[0m\u001b[0;34m\u001b[0m\u001b[0;34m\u001b[0m\u001b[0m\n",
      "\u001b[0;32m~/opt/anaconda3/lib/python3.9/site-packages/jax/_src/tree_util.py\u001b[0m in \u001b[0;36m<genexpr>\u001b[0;34m(.0)\u001b[0m\n\u001b[1;32m    205\u001b[0m   \u001b[0mleaves\u001b[0m\u001b[0;34m,\u001b[0m \u001b[0mtreedef\u001b[0m \u001b[0;34m=\u001b[0m \u001b[0mtree_flatten\u001b[0m\u001b[0;34m(\u001b[0m\u001b[0mtree\u001b[0m\u001b[0;34m,\u001b[0m \u001b[0mis_leaf\u001b[0m\u001b[0;34m)\u001b[0m\u001b[0;34m\u001b[0m\u001b[0;34m\u001b[0m\u001b[0m\n\u001b[1;32m    206\u001b[0m   \u001b[0mall_leaves\u001b[0m \u001b[0;34m=\u001b[0m \u001b[0;34m[\u001b[0m\u001b[0mleaves\u001b[0m\u001b[0;34m]\u001b[0m \u001b[0;34m+\u001b[0m \u001b[0;34m[\u001b[0m\u001b[0mtreedef\u001b[0m\u001b[0;34m.\u001b[0m\u001b[0mflatten_up_to\u001b[0m\u001b[0;34m(\u001b[0m\u001b[0mr\u001b[0m\u001b[0;34m)\u001b[0m \u001b[0;32mfor\u001b[0m \u001b[0mr\u001b[0m \u001b[0;32min\u001b[0m \u001b[0mrest\u001b[0m\u001b[0;34m]\u001b[0m\u001b[0;34m\u001b[0m\u001b[0;34m\u001b[0m\u001b[0m\n\u001b[0;32m--> 207\u001b[0;31m   \u001b[0;32mreturn\u001b[0m \u001b[0mtreedef\u001b[0m\u001b[0;34m.\u001b[0m\u001b[0munflatten\u001b[0m\u001b[0;34m(\u001b[0m\u001b[0mf\u001b[0m\u001b[0;34m(\u001b[0m\u001b[0;34m*\u001b[0m\u001b[0mxs\u001b[0m\u001b[0;34m)\u001b[0m \u001b[0;32mfor\u001b[0m \u001b[0mxs\u001b[0m \u001b[0;32min\u001b[0m \u001b[0mzip\u001b[0m\u001b[0;34m(\u001b[0m\u001b[0;34m*\u001b[0m\u001b[0mall_leaves\u001b[0m\u001b[0;34m)\u001b[0m\u001b[0;34m)\u001b[0m\u001b[0;34m\u001b[0m\u001b[0;34m\u001b[0m\u001b[0m\n\u001b[0m\u001b[1;32m    208\u001b[0m \u001b[0;34m\u001b[0m\u001b[0m\n\u001b[1;32m    209\u001b[0m \u001b[0;32mdef\u001b[0m \u001b[0mbuild_tree\u001b[0m\u001b[0;34m(\u001b[0m\u001b[0mtreedef\u001b[0m\u001b[0;34m:\u001b[0m \u001b[0mPyTreeDef\u001b[0m\u001b[0;34m,\u001b[0m \u001b[0mxs\u001b[0m\u001b[0;34m:\u001b[0m \u001b[0mAny\u001b[0m\u001b[0;34m)\u001b[0m \u001b[0;34m->\u001b[0m \u001b[0mAny\u001b[0m\u001b[0;34m:\u001b[0m\u001b[0;34m\u001b[0m\u001b[0;34m\u001b[0m\u001b[0m\n",
      "\u001b[0;32m~/opt/anaconda3/lib/python3.9/site-packages/optax/_src/transform.py\u001b[0m in \u001b[0;36m<lambda>\u001b[0;34m(g, t)\u001b[0m\n\u001b[1;32m     82\u001b[0m   \u001b[0;34m\"\"\"Compute the exponential moving average of the `order`-th moment.\"\"\"\u001b[0m\u001b[0;34m\u001b[0m\u001b[0;34m\u001b[0m\u001b[0m\n\u001b[1;32m     83\u001b[0m   return jax.tree_util.tree_map(\n\u001b[0;32m---> 84\u001b[0;31m       lambda g, t: (1 - decay) * (g ** order) + decay * t, updates, moments)\n\u001b[0m\u001b[1;32m     85\u001b[0m \u001b[0;34m\u001b[0m\u001b[0m\n\u001b[1;32m     86\u001b[0m \u001b[0;34m\u001b[0m\u001b[0m\n",
      "\u001b[0;32m~/opt/anaconda3/lib/python3.9/site-packages/jax/_src/numpy/lax_numpy.py\u001b[0m in \u001b[0;36mdeferring_binary_op\u001b[0;34m(self, other)\u001b[0m\n\u001b[1;32m   4934\u001b[0m     \u001b[0margs\u001b[0m \u001b[0;34m=\u001b[0m \u001b[0;34m(\u001b[0m\u001b[0mother\u001b[0m\u001b[0;34m,\u001b[0m \u001b[0mself\u001b[0m\u001b[0;34m)\u001b[0m \u001b[0;32mif\u001b[0m \u001b[0mswap\u001b[0m \u001b[0;32melse\u001b[0m \u001b[0;34m(\u001b[0m\u001b[0mself\u001b[0m\u001b[0;34m,\u001b[0m \u001b[0mother\u001b[0m\u001b[0;34m)\u001b[0m\u001b[0;34m\u001b[0m\u001b[0;34m\u001b[0m\u001b[0m\n\u001b[1;32m   4935\u001b[0m     \u001b[0;32mif\u001b[0m \u001b[0misinstance\u001b[0m\u001b[0;34m(\u001b[0m\u001b[0mother\u001b[0m\u001b[0;34m,\u001b[0m \u001b[0m_accepted_binop_types\u001b[0m\u001b[0;34m)\u001b[0m\u001b[0;34m:\u001b[0m\u001b[0;34m\u001b[0m\u001b[0;34m\u001b[0m\u001b[0m\n\u001b[0;32m-> 4936\u001b[0;31m       \u001b[0;32mreturn\u001b[0m \u001b[0mbinary_op\u001b[0m\u001b[0;34m(\u001b[0m\u001b[0;34m*\u001b[0m\u001b[0margs\u001b[0m\u001b[0;34m)\u001b[0m\u001b[0;34m\u001b[0m\u001b[0;34m\u001b[0m\u001b[0m\n\u001b[0m\u001b[1;32m   4937\u001b[0m     \u001b[0;32mif\u001b[0m \u001b[0misinstance\u001b[0m\u001b[0;34m(\u001b[0m\u001b[0mother\u001b[0m\u001b[0;34m,\u001b[0m \u001b[0m_rejected_binop_types\u001b[0m\u001b[0;34m)\u001b[0m\u001b[0;34m:\u001b[0m\u001b[0;34m\u001b[0m\u001b[0;34m\u001b[0m\u001b[0m\n\u001b[1;32m   4938\u001b[0m       raise TypeError(f\"unsupported operand type(s) for {opchar}: \"\n",
      "\u001b[0;32m~/opt/anaconda3/lib/python3.9/site-packages/jax/_src/numpy/ufuncs.py\u001b[0m in \u001b[0;36mpower\u001b[0;34m(x1, x2)\u001b[0m\n\u001b[1;32m    337\u001b[0m   \u001b[0;31m# code path is to make sure we end up with a precise output for the common\u001b[0m\u001b[0;34m\u001b[0m\u001b[0;34m\u001b[0m\u001b[0m\n\u001b[1;32m    338\u001b[0m   \u001b[0;31m# pattern ``x ** 2`` or similar.\u001b[0m\u001b[0;34m\u001b[0m\u001b[0;34m\u001b[0m\u001b[0m\n\u001b[0;32m--> 339\u001b[0;31m   \u001b[0;32mif\u001b[0m \u001b[0misinstance\u001b[0m\u001b[0;34m(\u001b[0m\u001b[0mcore\u001b[0m\u001b[0;34m.\u001b[0m\u001b[0mget_aval\u001b[0m\u001b[0;34m(\u001b[0m\u001b[0mx2\u001b[0m\u001b[0;34m)\u001b[0m\u001b[0;34m,\u001b[0m \u001b[0mcore\u001b[0m\u001b[0;34m.\u001b[0m\u001b[0mConcreteArray\u001b[0m\u001b[0;34m)\u001b[0m\u001b[0;34m:\u001b[0m\u001b[0;34m\u001b[0m\u001b[0;34m\u001b[0m\u001b[0m\n\u001b[0m\u001b[1;32m    340\u001b[0m     \u001b[0;32mtry\u001b[0m\u001b[0;34m:\u001b[0m\u001b[0;34m\u001b[0m\u001b[0;34m\u001b[0m\u001b[0m\n\u001b[1;32m    341\u001b[0m       \u001b[0mx2\u001b[0m \u001b[0;34m=\u001b[0m \u001b[0moperator\u001b[0m\u001b[0;34m.\u001b[0m\u001b[0mindex\u001b[0m\u001b[0;34m(\u001b[0m\u001b[0mx2\u001b[0m\u001b[0;34m)\u001b[0m  \u001b[0;31m# type: ignore[arg-type]\u001b[0m\u001b[0;34m\u001b[0m\u001b[0;34m\u001b[0m\u001b[0m\n",
      "\u001b[0;32m~/opt/anaconda3/lib/python3.9/site-packages/jax/core.py\u001b[0m in \u001b[0;36mget_aval\u001b[0;34m(x)\u001b[0m\n\u001b[1;32m   1254\u001b[0m     \u001b[0;32mreturn\u001b[0m \u001b[0mx\u001b[0m\u001b[0;34m.\u001b[0m\u001b[0maval\u001b[0m\u001b[0;34m\u001b[0m\u001b[0;34m\u001b[0m\u001b[0m\n\u001b[1;32m   1255\u001b[0m   \u001b[0;32melse\u001b[0m\u001b[0;34m:\u001b[0m\u001b[0;34m\u001b[0m\u001b[0;34m\u001b[0m\u001b[0m\n\u001b[0;32m-> 1256\u001b[0;31m     \u001b[0;32mreturn\u001b[0m \u001b[0mconcrete_aval\u001b[0m\u001b[0;34m(\u001b[0m\u001b[0mx\u001b[0m\u001b[0;34m)\u001b[0m\u001b[0;34m\u001b[0m\u001b[0;34m\u001b[0m\u001b[0m\n\u001b[0m\u001b[1;32m   1257\u001b[0m \u001b[0;34m\u001b[0m\u001b[0m\n\u001b[1;32m   1258\u001b[0m \u001b[0;34m\u001b[0m\u001b[0m\n",
      "\u001b[0;32m~/opt/anaconda3/lib/python3.9/site-packages/jax/core.py\u001b[0m in \u001b[0;36mconcrete_aval\u001b[0;34m(x)\u001b[0m\n\u001b[1;32m   1243\u001b[0m   \u001b[0;32mfor\u001b[0m \u001b[0mtyp\u001b[0m \u001b[0;32min\u001b[0m \u001b[0mtype\u001b[0m\u001b[0;34m(\u001b[0m\u001b[0mx\u001b[0m\u001b[0;34m)\u001b[0m\u001b[0;34m.\u001b[0m\u001b[0m__mro__\u001b[0m\u001b[0;34m:\u001b[0m\u001b[0;34m\u001b[0m\u001b[0;34m\u001b[0m\u001b[0m\n\u001b[1;32m   1244\u001b[0m     \u001b[0mhandler\u001b[0m \u001b[0;34m=\u001b[0m \u001b[0mpytype_aval_mappings\u001b[0m\u001b[0;34m.\u001b[0m\u001b[0mget\u001b[0m\u001b[0;34m(\u001b[0m\u001b[0mtyp\u001b[0m\u001b[0;34m)\u001b[0m\u001b[0;34m\u001b[0m\u001b[0;34m\u001b[0m\u001b[0m\n\u001b[0;32m-> 1245\u001b[0;31m     \u001b[0;32mif\u001b[0m \u001b[0mhandler\u001b[0m\u001b[0;34m:\u001b[0m \u001b[0;32mreturn\u001b[0m \u001b[0mhandler\u001b[0m\u001b[0;34m(\u001b[0m\u001b[0mx\u001b[0m\u001b[0;34m)\u001b[0m\u001b[0;34m\u001b[0m\u001b[0;34m\u001b[0m\u001b[0m\n\u001b[0m\u001b[1;32m   1246\u001b[0m   \u001b[0;32mif\u001b[0m \u001b[0mhasattr\u001b[0m\u001b[0;34m(\u001b[0m\u001b[0mx\u001b[0m\u001b[0;34m,\u001b[0m \u001b[0;34m'__jax_array__'\u001b[0m\u001b[0;34m)\u001b[0m\u001b[0;34m:\u001b[0m\u001b[0;34m\u001b[0m\u001b[0;34m\u001b[0m\u001b[0m\n\u001b[1;32m   1247\u001b[0m     \u001b[0;32mreturn\u001b[0m \u001b[0mconcrete_aval\u001b[0m\u001b[0;34m(\u001b[0m\u001b[0mx\u001b[0m\u001b[0;34m.\u001b[0m\u001b[0m__jax_array__\u001b[0m\u001b[0;34m(\u001b[0m\u001b[0;34m)\u001b[0m\u001b[0;34m)\u001b[0m\u001b[0;34m\u001b[0m\u001b[0;34m\u001b[0m\u001b[0m\n",
      "\u001b[0;32m~/opt/anaconda3/lib/python3.9/site-packages/jax/_src/abstract_arrays.py\u001b[0m in \u001b[0;36m_make_concrete_python_scalar\u001b[0;34m(t, x)\u001b[0m\n\u001b[1;32m     66\u001b[0m \u001b[0;34m\u001b[0m\u001b[0m\n\u001b[1;32m     67\u001b[0m \u001b[0;32mdef\u001b[0m \u001b[0m_make_concrete_python_scalar\u001b[0m\u001b[0;34m(\u001b[0m\u001b[0mt\u001b[0m\u001b[0;34m,\u001b[0m \u001b[0mx\u001b[0m\u001b[0;34m)\u001b[0m\u001b[0;34m:\u001b[0m\u001b[0;34m\u001b[0m\u001b[0;34m\u001b[0m\u001b[0m\n\u001b[0;32m---> 68\u001b[0;31m   \u001b[0mdtype\u001b[0m \u001b[0;34m=\u001b[0m \u001b[0mdtypes\u001b[0m\u001b[0;34m.\u001b[0m\u001b[0m_scalar_type_to_dtype\u001b[0m\u001b[0;34m(\u001b[0m\u001b[0mt\u001b[0m\u001b[0;34m,\u001b[0m \u001b[0mx\u001b[0m\u001b[0;34m)\u001b[0m\u001b[0;34m\u001b[0m\u001b[0;34m\u001b[0m\u001b[0m\n\u001b[0m\u001b[1;32m     69\u001b[0m   \u001b[0;32mreturn\u001b[0m \u001b[0mcanonical_concrete_aval\u001b[0m\u001b[0;34m(\u001b[0m\u001b[0mnp\u001b[0m\u001b[0;34m.\u001b[0m\u001b[0marray\u001b[0m\u001b[0;34m(\u001b[0m\u001b[0mx\u001b[0m\u001b[0;34m,\u001b[0m \u001b[0mdtype\u001b[0m\u001b[0;34m=\u001b[0m\u001b[0mdtype\u001b[0m\u001b[0;34m)\u001b[0m\u001b[0;34m,\u001b[0m \u001b[0mweak_type\u001b[0m\u001b[0;34m=\u001b[0m\u001b[0;32mTrue\u001b[0m\u001b[0;34m)\u001b[0m\u001b[0;34m\u001b[0m\u001b[0;34m\u001b[0m\u001b[0m\n\u001b[1;32m     70\u001b[0m \u001b[0;34m\u001b[0m\u001b[0m\n",
      "\u001b[0;32m~/opt/anaconda3/lib/python3.9/site-packages/jax/_src/dtypes.py\u001b[0m in \u001b[0;36m_scalar_type_to_dtype\u001b[0;34m(typ, value)\u001b[0m\n\u001b[1;32m    165\u001b[0m   \u001b[0mOverflowError\u001b[0m\u001b[0;34m:\u001b[0m \u001b[0mPython\u001b[0m \u001b[0mint\u001b[0m \u001b[0;36m9223372036854775808\u001b[0m \u001b[0mtoo\u001b[0m \u001b[0mlarge\u001b[0m \u001b[0mto\u001b[0m \u001b[0mconvert\u001b[0m \u001b[0mto\u001b[0m \u001b[0mint32\u001b[0m\u001b[0;34m\u001b[0m\u001b[0;34m\u001b[0m\u001b[0m\n\u001b[1;32m    166\u001b[0m   \"\"\"\n\u001b[0;32m--> 167\u001b[0;31m   \u001b[0mdtype\u001b[0m \u001b[0;34m=\u001b[0m \u001b[0mcanonicalize_dtype\u001b[0m\u001b[0;34m(\u001b[0m\u001b[0mpython_scalar_dtypes\u001b[0m\u001b[0;34m[\u001b[0m\u001b[0mtyp\u001b[0m\u001b[0;34m]\u001b[0m\u001b[0;34m)\u001b[0m\u001b[0;34m\u001b[0m\u001b[0;34m\u001b[0m\u001b[0m\n\u001b[0m\u001b[1;32m    168\u001b[0m   \u001b[0;32mif\u001b[0m \u001b[0mtyp\u001b[0m \u001b[0;32mis\u001b[0m \u001b[0mint\u001b[0m \u001b[0;32mand\u001b[0m \u001b[0mvalue\u001b[0m \u001b[0;32mis\u001b[0m \u001b[0;32mnot\u001b[0m \u001b[0;32mNone\u001b[0m\u001b[0;34m:\u001b[0m\u001b[0;34m\u001b[0m\u001b[0;34m\u001b[0m\u001b[0m\n\u001b[1;32m    169\u001b[0m     \u001b[0;32mif\u001b[0m \u001b[0mvalue\u001b[0m \u001b[0;34m<\u001b[0m \u001b[0mnp\u001b[0m\u001b[0;34m.\u001b[0m\u001b[0miinfo\u001b[0m\u001b[0;34m(\u001b[0m\u001b[0mdtype\u001b[0m\u001b[0;34m)\u001b[0m\u001b[0;34m.\u001b[0m\u001b[0mmin\u001b[0m \u001b[0;32mor\u001b[0m \u001b[0mvalue\u001b[0m \u001b[0;34m>\u001b[0m \u001b[0mnp\u001b[0m\u001b[0;34m.\u001b[0m\u001b[0miinfo\u001b[0m\u001b[0;34m(\u001b[0m\u001b[0mdtype\u001b[0m\u001b[0;34m)\u001b[0m\u001b[0;34m.\u001b[0m\u001b[0mmax\u001b[0m\u001b[0;34m:\u001b[0m\u001b[0;34m\u001b[0m\u001b[0;34m\u001b[0m\u001b[0m\n",
      "\u001b[0;32m~/opt/anaconda3/lib/python3.9/site-packages/jax/_src/dtypes.py\u001b[0m in \u001b[0;36mcanonicalize_dtype\u001b[0;34m(dtype, allow_opaque_dtype)\u001b[0m\n\u001b[1;32m    116\u001b[0m \u001b[0;34m\u001b[0m\u001b[0m\n\u001b[1;32m    117\u001b[0m \u001b[0;32mdef\u001b[0m \u001b[0mcanonicalize_dtype\u001b[0m\u001b[0;34m(\u001b[0m\u001b[0mdtype\u001b[0m\u001b[0;34m:\u001b[0m \u001b[0mAny\u001b[0m\u001b[0;34m,\u001b[0m \u001b[0mallow_opaque_dtype\u001b[0m\u001b[0;34m:\u001b[0m \u001b[0mbool\u001b[0m \u001b[0;34m=\u001b[0m \u001b[0;32mFalse\u001b[0m\u001b[0;34m)\u001b[0m \u001b[0;34m->\u001b[0m \u001b[0mUnion\u001b[0m\u001b[0;34m[\u001b[0m\u001b[0mDType\u001b[0m\u001b[0;34m,\u001b[0m \u001b[0mOpaqueDType\u001b[0m\u001b[0;34m]\u001b[0m\u001b[0;34m:\u001b[0m\u001b[0;34m\u001b[0m\u001b[0;34m\u001b[0m\u001b[0m\n\u001b[0;32m--> 118\u001b[0;31m   \u001b[0;32mreturn\u001b[0m \u001b[0m_canonicalize_dtype\u001b[0m\u001b[0;34m(\u001b[0m\u001b[0mconfig\u001b[0m\u001b[0;34m.\u001b[0m\u001b[0mx64_enabled\u001b[0m\u001b[0;34m,\u001b[0m \u001b[0mallow_opaque_dtype\u001b[0m\u001b[0;34m,\u001b[0m \u001b[0mdtype\u001b[0m\u001b[0;34m)\u001b[0m\u001b[0;34m\u001b[0m\u001b[0;34m\u001b[0m\u001b[0m\n\u001b[0m\u001b[1;32m    119\u001b[0m \u001b[0;34m\u001b[0m\u001b[0m\n\u001b[1;32m    120\u001b[0m \u001b[0;31m# Default dtypes corresponding to Python scalars.\u001b[0m\u001b[0;34m\u001b[0m\u001b[0;34m\u001b[0m\u001b[0m\n",
      "\u001b[0;32m~/opt/anaconda3/lib/python3.9/site-packages/jax/_src/config.py\u001b[0m in \u001b[0;36mget_state\u001b[0;34m(self)\u001b[0m\n\u001b[1;32m    244\u001b[0m     \u001b[0;32mdef\u001b[0m \u001b[0mget_state\u001b[0m\u001b[0;34m(\u001b[0m\u001b[0mself\u001b[0m\u001b[0;34m)\u001b[0m\u001b[0;34m:\u001b[0m\u001b[0;34m\u001b[0m\u001b[0;34m\u001b[0m\u001b[0m\n\u001b[1;32m    245\u001b[0m       \u001b[0mval\u001b[0m \u001b[0;34m=\u001b[0m \u001b[0mgetattr\u001b[0m\u001b[0;34m(\u001b[0m\u001b[0m_thread_local_state\u001b[0m\u001b[0;34m,\u001b[0m \u001b[0mname\u001b[0m\u001b[0;34m,\u001b[0m \u001b[0munset\u001b[0m\u001b[0;34m)\u001b[0m\u001b[0;34m\u001b[0m\u001b[0;34m\u001b[0m\u001b[0m\n\u001b[0;32m--> 246\u001b[0;31m       \u001b[0;32mreturn\u001b[0m \u001b[0mval\u001b[0m \u001b[0;32mif\u001b[0m \u001b[0mval\u001b[0m \u001b[0;32mis\u001b[0m \u001b[0;32mnot\u001b[0m \u001b[0munset\u001b[0m \u001b[0;32melse\u001b[0m \u001b[0mself\u001b[0m\u001b[0;34m.\u001b[0m\u001b[0m_read\u001b[0m\u001b[0;34m(\u001b[0m\u001b[0mname\u001b[0m\u001b[0;34m)\u001b[0m\u001b[0;34m\u001b[0m\u001b[0;34m\u001b[0m\u001b[0m\n\u001b[0m\u001b[1;32m    247\u001b[0m     \u001b[0msetattr\u001b[0m\u001b[0;34m(\u001b[0m\u001b[0mConfig\u001b[0m\u001b[0;34m,\u001b[0m \u001b[0mname\u001b[0m\u001b[0;34m,\u001b[0m \u001b[0mproperty\u001b[0m\u001b[0;34m(\u001b[0m\u001b[0mget_state\u001b[0m\u001b[0;34m)\u001b[0m\u001b[0;34m)\u001b[0m\u001b[0;34m\u001b[0m\u001b[0;34m\u001b[0m\u001b[0m\n\u001b[1;32m    248\u001b[0m \u001b[0;34m\u001b[0m\u001b[0m\n",
      "\u001b[0;32m~/opt/anaconda3/lib/python3.9/site-packages/jax/_src/config.py\u001b[0m in \u001b[0;36m_read\u001b[0;34m(self, name)\u001b[0m\n\u001b[1;32m     98\u001b[0m     \u001b[0;32mreturn\u001b[0m \u001b[0mself\u001b[0m\u001b[0;34m.\u001b[0m\u001b[0m_read\u001b[0m\u001b[0;34m(\u001b[0m\u001b[0mname\u001b[0m\u001b[0;34m)\u001b[0m\u001b[0;34m\u001b[0m\u001b[0;34m\u001b[0m\u001b[0m\n\u001b[1;32m     99\u001b[0m \u001b[0;34m\u001b[0m\u001b[0m\n\u001b[0;32m--> 100\u001b[0;31m   \u001b[0;32mdef\u001b[0m \u001b[0m_read\u001b[0m\u001b[0;34m(\u001b[0m\u001b[0mself\u001b[0m\u001b[0;34m,\u001b[0m \u001b[0mname\u001b[0m\u001b[0;34m)\u001b[0m\u001b[0;34m:\u001b[0m\u001b[0;34m\u001b[0m\u001b[0;34m\u001b[0m\u001b[0m\n\u001b[0m\u001b[1;32m    101\u001b[0m     \u001b[0;32mif\u001b[0m \u001b[0mself\u001b[0m\u001b[0;34m.\u001b[0m\u001b[0muse_absl\u001b[0m\u001b[0;34m:\u001b[0m\u001b[0;34m\u001b[0m\u001b[0;34m\u001b[0m\u001b[0m\n\u001b[1;32m    102\u001b[0m       \u001b[0;32mreturn\u001b[0m \u001b[0mgetattr\u001b[0m\u001b[0;34m(\u001b[0m\u001b[0mself\u001b[0m\u001b[0;34m.\u001b[0m\u001b[0mabsl_flags\u001b[0m\u001b[0;34m.\u001b[0m\u001b[0mFLAGS\u001b[0m\u001b[0;34m,\u001b[0m \u001b[0mname\u001b[0m\u001b[0;34m)\u001b[0m\u001b[0;34m\u001b[0m\u001b[0;34m\u001b[0m\u001b[0m\n",
      "\u001b[0;31mKeyboardInterrupt\u001b[0m: "
     ]
    }
   ],
   "source": [
    "batch_size = 128\n",
    "rng = random.PRNGKey(12)\n",
    "keys = random.split(rng, 2)\n",
    "beta = (random.uniform(keys[0], (batch_size,)) + 1/2 )\n",
    "# params = random.uniform(keys[1], (batch_size, 2, 10))*2\n",
    "\n",
    "step=100000\n",
    "lr = 0.00005\n",
    "# params = random.uniform(keys[1], (batch_size, 2, 6))*10\n",
    "\n",
    "for epoch in range(1):\n",
    "    key_n, *keys = random.split(key_n, 3)\n",
    "    # beta = (random.uniform(keys[0], (batch_size,)) + 1/2 )\n",
    "    c = 3.5\n",
    "    adam = optax.adam(learning_rate=lr)\n",
    "    # if epoch > 2:\n",
    "    # lr = lr/10\n",
    "    losses, params, _ = boots(beta, c, params, opt_fn=adam.update, opt_state=adam.init(params),steps=step)\n",
    "    steps = np.linspace(epoch*step+1,(epoch+1)*step,step)\n",
    "    plt.plot(steps,losses)\n",
    "    plt.yscale(\"log\")\n"
   ]
  },
  {
   "cell_type": "markdown",
   "metadata": {},
   "source": [
    "## Random Rough stuff beyond this point"
   ]
  },
  {
   "cell_type": "code",
   "execution_count": 95,
   "metadata": {},
   "outputs": [],
   "source": [
    "@jit\n",
    "def loss_function(params, beta, c):\n",
    "        identy = vmap(reduced_partition_function_spinless, in_axes=(0,0,None), out_axes=0)(params, beta, c)\n",
    "        transformed = vmap(reduced_partition_function_spinless, in_axes=(0,0, None), out_axes=0)(params, 1/beta, c)\n",
    "        return jnp.mean((identy-transformed)**2) # mean squared loss\n"
   ]
  },
  {
   "cell_type": "markdown",
   "metadata": {},
   "source": [
    "## Using Scipy optimizers"
   ]
  },
  {
   "cell_type": "code",
   "execution_count": 46,
   "metadata": {},
   "outputs": [],
   "source": [
    "from jaxopt import ScipyRootFinding\n",
    "from scipy import optimize"
   ]
  },
  {
   "cell_type": "code",
   "execution_count": 1265,
   "metadata": {},
   "outputs": [
    {
     "name": "stdout",
     "output_type": "stream",
     "text": [
      "(2, 4)\n",
      "(2, 5)\n",
      "(2, 6)\n",
      "(2, 7)\n",
      "(2, 8)\n"
     ]
    },
    {
     "data": {
      "text/plain": [
       "[<matplotlib.lines.Line2D at 0x7fe3483109d0>]"
      ]
     },
     "execution_count": 1265,
     "metadata": {},
     "output_type": "execute_result"
    },
    {
     "data": {
      "image/png": "[encoded data removed]",
      "text/plain": [
       "<Figure size 432x288 with 1 Axes>"
      ]
     },
     "metadata": {
      "needs_background": "light"
     },
     "output_type": "display_data"
    }
   ],
   "source": [
    "laguerre_deltas = vmap(laguerre_at_x, in_axes = (None, 0), out_axes=1)\n",
    "amus = jnp.ones(3, dtype=float)*1\n",
    "deltas = jnp.array([ 2.13,  3.43,  5.12])\n",
    "params = jnp.array([deltas,\n",
    "              amus])\n",
    "color = iter(cm.rainbow(np.linspace(0, 1, 20)))\n",
    "c = 12\n",
    "x = -(c-1)/12\n",
    "\n",
    "@jit\n",
    "def primal(params):\n",
    "    deltas = params[0]\n",
    "    rhos = params[1]\n",
    "    deltas = deltas + x\n",
    "    l = len(params[0])*2\n",
    "    lps = laguerre_deltas(l-1,deltas)\n",
    "#     maxl = jnp.max(jnp.abs(lps), axis=0)\n",
    "#     lps = lps/maxl\n",
    "    lp0 = laguerre_at_0(l-1, x)\n",
    "    rho_lps = jnp.sum(rhos * lps, axis = 1)\n",
    "    crossing_equation = (1 + rho_lps/lp0)\n",
    "    return  crossing_equation\n",
    "\n",
    "list_params = []\n",
    "list_losses = []\n",
    "\n",
    "for p in range(4,9):\n",
    "    col = next(color)\n",
    "    solver = ScipyRootFinding(method='hybr', jit=True, optimality_fun=primal)\n",
    "    res = solver.run(params)\n",
    "    list_losses.append(primal(res.params))\n",
    "\n",
    "    deltas = res.params[0]\n",
    "    list_params.append(res.params)\n",
    "    \n",
    "    x_ind = jnp.arange(1,p, dtype= float)\n",
    "    plt.plot(x_ind,deltas, color=col)\n",
    "    \n",
    "    r = 1\n",
    "    if p> 5:\n",
    "        r = 4\n",
    "    amus = jnp.ones(p, dtype=float)*1\n",
    "    scale = (deltas[r] - deltas[0])/(r)\n",
    "    new_deltas = scale * (jnp.arange(p)) + deltas[0]\n",
    "    \n",
    "    # d = jnp.linspace(1.0,p,(p-1)*100)\n",
    "    # dp = (jnp.arange(1, p, dtype = float) - 1) *scale + 1\n",
    "    # fp = (deltas - deltas[0])*scale + deltas[0]\n",
    "    # y_ = jnp.interp(d,dp,fp)\n",
    "    # new_deltas = y_[::rate]\n",
    "   \n",
    "    xx = jnp.arange(1,p+1, dtype= float)\n",
    "\n",
    "    # plt.plot(d,y_)\n",
    "#     plt.plot(xx,new_deltas)\n",
    "    \n",
    "    x_ind = jnp.arange(1,p+1, dtype= float)\n",
    "    plt.scatter(x_ind,new_deltas, color = col)\n",
    "    \n",
    "    params = jnp.array([new_deltas,amus])\n",
    "\n",
    "    print(params.shape)\n",
    "    \n",
    "\n",
    "\n",
    "plt.plot(xx,new_deltas)\n",
    "plt.plot(xx, 1 + xx)"
   ]
  },
  {
   "cell_type": "code",
   "execution_count": 1511,
   "metadata": {},
   "outputs": [
    {
     "data": {
      "text/plain": [
       "[DeviceArray([2.1317e+00, 3.4346e+00, 5.1289e+00, 7.2654e-01, 6.9311e-02,\n",
       "              5.5533e-04], dtype=float64),\n",
       " DeviceArray([2.0811e+00, 3.2639e+00, 4.6514e+00, 6.4502e+00, 7.1628e-01,\n",
       "              9.3342e-02, 2.0470e-03, 5.0207e-06], dtype=float64),\n",
       " DeviceArray([2.0524e+00, 3.1700e+00, 4.4146e+00, 5.8786e+00, 7.7691e+00,\n",
       "              7.0774e-01, 1.0843e-01, 3.7741e-03, 3.1295e-05, 3.0565e-08],            dtype=float64),\n",
       " DeviceArray([2.0350e+00, 3.1137e+00, 4.2771e+00, 5.5803e+00, 7.1134e+00,\n",
       "              9.0862e+00, 7.0156e-01, 1.1793e-01, 5.3012e-03, 7.8741e-05,\n",
       "              3.0831e-07, 1.4004e-10], dtype=float64),\n",
       " DeviceArray([2.0241e+00, 3.0782e+00, 4.1910e+00, 5.3998e+00, 6.7577e+00,\n",
       "              8.3541e+00, 1.0402e+01, 6.9724e-01, 1.2403e-01, 6.5096e-03,\n",
       "              1.3541e-04, 1.0492e-06, 2.2043e-09, 5.1659e-13],            dtype=float64),\n",
       " DeviceArray([2.0169e+00, 3.0549e+00, 4.1346e+00, 5.2828e+00, 6.5355e+00,\n",
       "              7.9447e+00, 9.5994e+00, 1.1716e+01, 6.9423e-01, 1.2804e-01,\n",
       "              7.4191e-03, 1.9082e-04, 2.2188e-06, 1.0033e-08, 1.2308e-11,\n",
       "              1.6042e-15], dtype=float64)]"
      ]
     },
     "execution_count": 1511,
     "metadata": {},
     "output_type": "execute_result"
    }
   ],
   "source": [
    "list_params"
   ]
  },
  {
   "cell_type": "code",
   "execution_count": 1262,
   "metadata": {},
   "outputs": [
    {
     "data": {
      "text/plain": [
       "[DeviceArray([  1.        ,   1.        ,   0.99999995,   0.99999887,\n",
       "                0.99997976,   0.99971997,   0.99699679,   0.97487917,\n",
       "                0.83540544,   0.1537606 ,  -2.40988261,  -9.71681222,\n",
       "              -25.02235022, -47.031585  , -64.58581308, -62.16052018,\n",
       "              -37.93276363, -10.56730566], dtype=float64)]"
      ]
     },
     "execution_count": 1262,
     "metadata": {},
     "output_type": "execute_result"
    }
   ],
   "source": [
    "list_losses"
   ]
  },
  {
   "cell_type": "code",
   "execution_count": 931,
   "metadata": {},
   "outputs": [],
   "source": [
    "amus = jnp.ones(3, dtype=float)*10000\n",
    "deltas = jnp.array([ 2.13,  3.33,  5.13])\n",
    "params = jnp.array([deltas,amus])\n",
    "\n",
    "deltas = params[0]\n",
    "rhos = params[1]\n",
    "deltas = deltas + x\n",
    "l = len(params[0])*2\n",
    "lps = laguerre_deltas(l-1,deltas)\n",
    "maxl = jnp.max(jnp.abs(lps), axis=0)\n",
    "lps = lps/maxl\n",
    "lp0 = laguerre_at_0(l-1, x)\n",
    "rho_lps = jnp.sum(rhos * lps, axis = 1)\n",
    "crossing_equation = (1 + rho_lps/lp0)\n"
   ]
  },
  {
   "cell_type": "markdown",
   "metadata": {},
   "source": [
    "## Using newton-raphson"
   ]
  },
  {
   "cell_type": "code",
   "execution_count": 2,
   "metadata": {},
   "outputs": [],
   "source": [
    "laguerre_deltas = vmap(laguerre_at_x, in_axes = (None, 0), out_axes=1)\n",
    "\n",
    "c = 12\n",
    "x = -(c-1)/12\n",
    "\n",
    "@jit\n",
    "def primal(params):\n",
    "    h = len(params)//2\n",
    "    deltas = lax.dynamic_slice(params, (0,),(h,))\n",
    "    rhos = lax.dynamic_slice(params, (h,),(h,))\n",
    "    deltas = deltas + x\n",
    "    lps = laguerre_deltas(2*h -1,deltas)\n",
    "#     maxl = jnp.max(jnp.abs(lps), axis=0)\n",
    "#     lps = lps/maxl\n",
    "    lp0 = laguerre_at_0(2*h-1, x)\n",
    "    rho_lps = jnp.sum(rhos * lps, axis = 1)\n",
    "    crossing_equation = (1 + rho_lps/lp0)\n",
    "    return  crossing_equation\n",
    "\n",
    "@jit\n",
    "def nr_primal(x0, tol=1e-10, max_iter=2000):\n",
    "    \"\"\"\n",
    "    Finds a solution to a system of nonlinear equations using the Newton-Raphson method.\n",
    "\n",
    "    Args:\n",
    "        f (function): A function that takes a vector x and returns a vector of the same length.\n",
    "        x0 (array): Initial guess for the solution vector.\n",
    "        tol (float): Tolerance for the norm of the residual vector. Default is 1e-6.\n",
    "        max_iter (int): Maximum number of iterations. Default is 100.\n",
    "\n",
    "    Returns:\n",
    "        x (array): Solution vector.\n",
    "    \"\"\"\n",
    "\n",
    "    f = primal\n",
    "\n",
    "    Jf = jit(jacfwd(f))\n",
    "\n",
    "    @jit\n",
    "    def newton_step(val):\n",
    "        x, r, n, _ = val\n",
    "        n = n + 1\n",
    "        J = Jf(x)\n",
    "        r = f(x)\n",
    "        dx = jnp.linalg.solve(J, -r)\n",
    "        x1 = x + dx\n",
    "        abort = jnp.any(jnp.isnan(x1))\n",
    "        return (jnp.where(abort, x, x1), r , n, abort)\n",
    "    \n",
    "    def cond(val):\n",
    "        x, r, n, abort = val\n",
    "        return (~abort) & (jnp.max(jnp.abs(r)) > tol) & ( n< max_iter)\n",
    "\n",
    "    \n",
    "    return  lax.while_loop(cond, newton_step, (x0, jnp.ones(x0.shape), 0.0, False))"
   ]
  },
  {
   "cell_type": "code",
   "execution_count": 143,
   "metadata": {},
   "outputs": [],
   "source": [
    "@jit\n",
    "def primal_normal(params):\n",
    "    h = len(params)//2\n",
    "    deltas = lax.dynamic_slice(params, (0,),(h,))\n",
    "    rhos = lax.dynamic_slice(params, (h,),(h,))\n",
    "    deltas = deltas + x\n",
    "    lps = laguerre_deltas(2*h -1,deltas)\n",
    "    maxl = jnp.max(jnp.abs(lps), axis=0)\n",
    "    lps = lps/maxl\n",
    "    lp0 = laguerre_at_0(2*h-1, x)\n",
    "    rho_lps = jnp.sum(rhos * lps, axis = 1)\n",
    "    crossing_equation = (1 + rho_lps/lp0)\n",
    "    return  crossing_equation\n",
    "\n",
    "\n",
    "\n",
    "@jit\n",
    "def nr_primal_normal(x0, tol=1e-7, max_iter=10000):\n",
    "    \"\"\"\n",
    "    Finds a solution to a system of nonlinear equations using the Newton-Raphson method.\n",
    "\n",
    "    Args:\n",
    "        f (function): A function that takes a vector x and returns a vector of the same length.\n",
    "        x0 (array): Initial guess for the solution vector.\n",
    "        tol (float): Tolerance for the norm of the residual vector. Default is 1e-6.\n",
    "        max_iter (int): Maximum number of iterations. Default is 100.\n",
    "\n",
    "    Returns:\n",
    "        x (array): Solution vector.\n",
    "    \"\"\"\n",
    "\n",
    "    f = primal_normal\n",
    "    Jf = jit(jacfwd(f))\n",
    "\n",
    "    @jit\n",
    "    def newton_step(val):\n",
    "        x, r, n, _ = val\n",
    "        n = n + 1\n",
    "        J = Jf(x)\n",
    "        r = f(x)\n",
    "        dx = jnp.linalg.solve(J, -r)\n",
    "        x1 = x + dx\n",
    "        abort = jnp.any(jnp.isnan(x1))\n",
    "        return (jnp.where(abort, x, x1), r , n, abort)\n",
    "    \n",
    "    def cond(val):\n",
    "        x, r, n, abort = val\n",
    "        return ( ~abort) & (jnp.max(jnp.abs(r)) > tol) & ( n< max_iter) \n",
    "\n",
    "    return  lax.while_loop(cond, newton_step, (x0, jnp.ones(x0.shape), 0.0, False))"
   ]
  },
  {
   "cell_type": "code",
   "execution_count": 151,
   "metadata": {
    "scrolled": true
   },
   "outputs": [
    {
     "name": "stdout",
     "output_type": "stream",
     "text": [
      "[ 5.4134279338466360e+137  1.7114621232571491e+099\n",
      "  2.1316272704546278e+118  2.0975105967508458e+054\n",
      "  2.5127467471413652e+005 -3.0561388898143645e+013\n",
      " -2.5379439009827586e+061  6.6468848835707851e+076\n",
      " -1.5328268384867627e+082]\n"
     ]
    },
    {
     "data": {
      "image/png": "[encoded data removed]",
      "text/plain": [
       "<Figure size 432x288 with 1 Axes>"
      ]
     },
     "metadata": {
      "needs_background": "light"
     },
     "output_type": "display_data"
    }
   ],
   "source": [
    "param_ = jnp.array([ 2.0120404550857076e+00, 3.0392491923626603e+00,\n",
    "              4.0965561547156177e+00, 5.2037799304975634e+00,\n",
    "              6.3873114412628693e+00, 7.6822445932447554e+00,\n",
    "              9.1394981550072174e+00, 1.0848360167089290e+01,\n",
    "              1.3028786422743138e+01,\n",
    "  1.              ,    1.       ,           1.,\n",
    "  1.             ,     1.      ,            1.,\n",
    "  1.             ,     1.      ,            1.             ,     ])\n",
    "\n",
    "params, *others = nr_primal( x0 = param_ )\n",
    "\n",
    "p = 10\n",
    "r = 1\n",
    "h = len(params)//2\n",
    "deltas = lax.dynamic_slice(params, (0,),(h,))\n",
    "\n",
    "print(deltas)\n",
    "x_ind = jnp.arange(1,p, dtype= float)\n",
    "plt.plot(x_ind,deltas, color=col)\n",
    "\n",
    "amus = jnp.ones(p, dtype=float)*k\n",
    "scale = (deltas[r] - deltas[0])/(r)\n",
    "\n",
    "new_deltas = scale * (jnp.arange(p)) + deltas[0]             \n",
    "keys = random.split(keys[1],2)\n",
    "\n",
    "x_ind = jnp.arange(1,p+1, dtype= float)\n",
    "plt.scatter(x_ind,new_deltas, color = col)\n",
    "params = jnp.array([new_deltas,amus]).flatten()"
   ]
  },
  {
   "cell_type": "code",
   "execution_count": 213,
   "metadata": {
    "scrolled": true
   },
   "outputs": [
    {
     "name": "stdout",
     "output_type": "stream",
     "text": [
      "number of deltas = 3\n",
      "number of deltas = 4\n",
      "number of deltas = 5\n",
      "number of deltas = 6\n",
      "number of deltas = 7\n",
      "number of deltas = 8\n",
      "number of deltas = 9\n",
      "number of deltas = 10\n",
      "nan found delta 10\n",
      "guess\n",
      "[ 2.017249300339194   3.3927607513883506  4.768198752960007\n",
      "  6.143808457268086   7.525190136057094   8.90699613953484\n",
      " 10.283048916437501  11.657384618497105  13.032702658534825\n",
      " 14.41516791424       1.                  1.\n",
      "  1.                  1.                  1.\n",
      "  1.                  1.                  1.\n",
      "  1.                  1.                ]\n",
      "params\n",
      "[-2.1646184099173912e+01  5.4498129776367969e+13  1.2629199350631425e+15\n",
      " -2.8604250007812175e+15 -5.2550574565010540e+15 -1.2939662275980162e+16\n",
      " -3.8468491782079416e+16 -1.1508962036608955e+17 -3.1061046881668992e+17\n",
      " -7.1648731854528166e+17  3.0895286329268856e-11 -1.9375931312296709e+14\n",
      " -7.8524232586669500e+13 -1.4216750287196431e+14 -4.2163250017263438e+13\n",
      " -5.3097402310382627e+12 -3.7571855394323419e+11 -1.3410795560261265e+10\n",
      " -1.9700306896112531e+08 -7.1629925615215546e+05]\n"
     ]
    },
    {
     "data": {
      "text/plain": [
       "[<matplotlib.lines.Line2D at 0x7ff0135fdbb0>]"
      ]
     },
     "execution_count": 213,
     "metadata": {},
     "output_type": "execute_result"
    },
    {
     "data": {
      "image/png": "[encoded data removed]",
      "text/plain": [
       "<Figure size 432x288 with 1 Axes>"
      ]
     },
     "metadata": {
      "needs_background": "light"
     },
     "output_type": "display_data"
    }
   ],
   "source": [
    "laguerre_deltas = vmap(laguerre_at_x, in_axes = (None, 0), out_axes=1)\n",
    "color = iter(cm.rainbow(np.linspace(0, 1, 20)))\n",
    "\n",
    "c = 12\n",
    "x = -(c-1)/12\n",
    "\n",
    "list_losses = []\n",
    "list_params = []\n",
    "list_guesses = []\n",
    "deltas = jnp.array([2.12, 3.43, 5.13])\n",
    "a_mus = jnp.ones(deltas.shape, dtype = float)*1\n",
    "params = jnp.array([deltas,a_mus])\n",
    "params = params.flatten()\n",
    "\n",
    "list_guesses.append(params)\n",
    "rng = random.PRNGKey(1)\n",
    "keys = random.split(rng, 2)\n",
    "\n",
    "for p in range(4,12):\n",
    "    col = next(color)\n",
    "    print(f\"number of deltas = {p-1}\")\n",
    "    \n",
    "    \n",
    "    guess = params    \n",
    "    params, *others = nr_primal(x0 = params)\n",
    "        \n",
    "        \n",
    "    if others[2]:\n",
    "        print(f\"nan found delta {p-1}\")\n",
    "        print(\"guess\")\n",
    "        print(guess)\n",
    "        print(\"params\")\n",
    "        print(params)\n",
    "        break\n",
    "        \n",
    "    list_params.append(params)\n",
    "    list_losses.append(primal(params))\n",
    "    \n",
    "    \n",
    "    r = p-2\n",
    "    k = 1\n",
    "    \n",
    "    h = len(params)//2\n",
    "    deltas = lax.dynamic_slice(params, (0,),(h,))\n",
    "    \n",
    "    x_ind = jnp.arange(1,p, dtype= float)\n",
    "    plt.plot(x_ind,deltas, color=col)\n",
    "    \n",
    "    amus = jnp.ones(p, dtype=float)*k\n",
    "    scale = (deltas[r] - deltas[0])/(r)\n",
    "    \n",
    "    keys = random.split(keys[1],2)\n",
    "    \n",
    "    \n",
    "    new_deltas = (scale * (jnp.arange(p)) + deltas[0] ) + random.uniform(keys[1], jnp.arange(p).shape) * 0.1/p    \n",
    "    \n",
    "   \n",
    "    x_ind = jnp.arange(1,p+1, dtype= float)\n",
    "    plt.scatter(x_ind,new_deltas, color = col)\n",
    "    params = jnp.array([new_deltas,amus]).flatten()\n",
    "    list_guesses.append(params)\n",
    "    if p == 11:\n",
    "        print(\"guess\")\n",
    "        print(params)\n",
    "\n",
    "plt.plot(x_ind,new_deltas)\n",
    "plt.plot(x_ind, 1 + x_ind)"
   ]
  },
  {
   "cell_type": "code",
   "execution_count": 1421,
   "metadata": {
    "scrolled": true
   },
   "outputs": [
    {
     "data": {
      "text/plain": [
       "[DeviceArray([-2.22044605e-16, -2.22044605e-16, -2.22044605e-16,\n",
       "              -6.66133815e-16, -1.55431223e-15, -2.44249065e-15],            dtype=float64),\n",
       " DeviceArray([ 1.11022302e-16,  3.33066907e-16,  8.88178420e-16,\n",
       "               5.55111512e-16,  2.22044605e-16,  3.33066907e-16,\n",
       "              -2.22044605e-16, -2.22044605e-16], dtype=float64),\n",
       " DeviceArray([ 1.11022302e-16, -2.22044605e-16, -8.88178420e-16,\n",
       "              -6.66133815e-16, -2.22044605e-16, -2.22044605e-16,\n",
       "              -2.22044605e-16, -1.11022302e-15, -2.66453526e-15,\n",
       "              -3.99680289e-15], dtype=float64),\n",
       " DeviceArray([ 0.00000000e+00, -2.22044605e-16,  0.00000000e+00,\n",
       "              -2.22044605e-16, -2.22044605e-16, -6.66133815e-16,\n",
       "              -1.11022302e-15, -1.33226763e-15, -1.33226763e-15,\n",
       "              -1.33226763e-15, -6.66133815e-16, -6.66133815e-16],            dtype=float64),\n",
       " DeviceArray([ 1.11022302e-16,  2.22044605e-16,  0.00000000e+00,\n",
       "               1.11022302e-16,  1.11022302e-16, -2.22044605e-16,\n",
       "              -6.66133815e-16, -8.88178420e-16, -2.22044605e-16,\n",
       "               1.77635684e-15,  3.99680289e-15,  3.44169138e-15,\n",
       "               1.44328993e-15, -8.88178420e-16], dtype=float64),\n",
       " DeviceArray([ 0.00000000e+00, -2.22044605e-16,  4.44089210e-16,\n",
       "               9.99200722e-16,  1.44328993e-15,  1.44328993e-15,\n",
       "               1.33226763e-15,  1.22124533e-15,  1.77635684e-15,\n",
       "               2.55351296e-15,  2.22044605e-15,  7.77156117e-16,\n",
       "              -1.11022302e-15, -1.55431223e-15, -1.55431223e-15,\n",
       "              -1.77635684e-15], dtype=float64)]"
      ]
     },
     "execution_count": 1421,
     "metadata": {},
     "output_type": "execute_result"
    }
   ],
   "source": [
    "list_losses"
   ]
  },
  {
   "cell_type": "code",
   "execution_count": 177,
   "metadata": {
    "scrolled": false
   },
   "outputs": [
    {
     "data": {
      "text/plain": [
       "[DeviceArray([2.1317077922680436e+00, 3.4345579133998454e+00,\n",
       "              5.1288629421203309e+00, 7.2653863900192672e-01,\n",
       "              6.9310807635990318e-02, 5.5532667447074225e-04],            dtype=float64),\n",
       " DeviceArray([2.0811133956832402e+00, 3.2639281955913151e+00,\n",
       "              4.6513903315237819e+00, 6.4502049247322848e+00,\n",
       "              7.1628415647350008e-01, 9.3342091051700674e-02,\n",
       "              2.0470462135811535e-03, 5.0206551839411923e-06],            dtype=float64),\n",
       " DeviceArray([2.0524040148793965e+00, 3.1700080874847241e+00,\n",
       "              4.4146115985187446e+00, 5.8785778582483488e+00,\n",
       "              7.7691247395614491e+00, 7.0774478356108439e-01,\n",
       "              1.0843346313186764e-01, 3.7741037729852110e-03,\n",
       "              3.1294760674281467e-05, 3.0565078062830900e-08],            dtype=float64),\n",
       " DeviceArray([2.0350381802830926e+00, 3.1137220531908305e+00,\n",
       "              4.2770916146359808e+00, 5.5802827105955455e+00,\n",
       "              7.1134024986546702e+00, 9.0861644193223920e+00,\n",
       "              7.0156142248953335e-01, 1.1793347523661235e-01,\n",
       "              5.3012136027625152e-03, 7.8741245069605828e-05,\n",
       "              3.0831266291151847e-07, 1.4004045035709713e-10],            dtype=float64),\n",
       " DeviceArray([2.0240538922003495e+00, 3.0781824407329310e+00,\n",
       "              4.1909990258154277e+00, 5.3997970218915823e+00,\n",
       "              6.7577433526345985e+00, 8.3540758194496139e+00,\n",
       "              1.0401649254969579e+01, 6.9723725964286754e-01,\n",
       "              1.2403273746792610e-01, 6.5095970771787935e-03,\n",
       "              1.3540815637887404e-04, 1.0491893109994610e-06,\n",
       "              2.2043486363377065e-09, 5.1659074567630286e-13],            dtype=float64),\n",
       " DeviceArray([2.0168682169115923e+00, 3.0549114254659542e+00,\n",
       "              4.1346229456931107e+00, 5.2827826032482168e+00,\n",
       "              6.5355287814747625e+00, 7.9447127641675204e+00,\n",
       "              9.5993573904474587e+00, 1.1715801393523762e+01,\n",
       "              6.9423004100711805e-01, 1.2804032188814482e-01,\n",
       "              7.4191273937656271e-03, 1.9082010372134487e-04,\n",
       "              2.2187963515459401e-06, 1.0033314679549705e-08,\n",
       "              1.2308025590674007e-11, 1.6041734179736997e-15],            dtype=float64),\n",
       " DeviceArray([2.0120404550857076e+00, 3.0392491923626603e+00,\n",
       "              4.0965561547156177e+00, 5.2037799304975634e+00,\n",
       "              6.3873114412628693e+00, 7.6822445932447554e+00,\n",
       "              9.1394981550072174e+00, 1.0848360167089290e+01,\n",
       "              1.3028786422743138e+01, 6.9212853999978974e-01,\n",
       "              1.3073306180198341e-01, 8.0887154588221745e-03,\n",
       "              2.3944897795426020e-04, 3.6233475808155982e-06,\n",
       "              2.6093214943480962e-08, 7.4069716395724989e-11,\n",
       "              5.6369366840481026e-14, 4.3263444185580045e-18],            dtype=float64)]"
      ]
     },
     "execution_count": 177,
     "metadata": {},
     "output_type": "execute_result"
    }
   ],
   "source": [
    "list_params"
   ]
  },
  {
   "cell_type": "code",
   "execution_count": 1423,
   "metadata": {
    "scrolled": false
   },
   "outputs": [
    {
     "data": {
      "text/plain": [
       "[DeviceArray([2.12, 3.43, 5.13, 1.  , 1.  , 1.  ], dtype=float64),\n",
       " DeviceArray([2.13170779, 3.63028537, 5.12886294, 6.62744052, 1.        ,\n",
       "              1.        , 1.        , 1.        ], dtype=float64),\n",
       " DeviceArray([2.0811134 , 3.53747724, 4.99384108, 6.45020492, 7.90656877,\n",
       "              1.        , 1.        , 1.        , 1.        , 1.        ],            dtype=float64),\n",
       " DeviceArray([2.05240401, 3.4815842 , 4.91076438, 6.33994456, 7.76912474,\n",
       "              9.19830492, 1.        , 1.        , 1.        , 1.        ,\n",
       "              1.        , 1.        ], dtype=float64),\n",
       " DeviceArray([ 2.03503818,  3.44526343,  4.85548868,  6.26571392,\n",
       "               7.67593917,  9.08616442, 10.49638967,  1.        ,\n",
       "               1.        ,  1.        ,  1.        ,  1.        ,\n",
       "               1.        ,  1.        ], dtype=float64),\n",
       " DeviceArray([ 2.02405389,  3.42031979,  4.81658568,  6.21285157,\n",
       "               7.60911747,  9.00538336, 10.40164925, 11.79791515,\n",
       "               1.        ,  1.        ,  1.        ,  1.        ,\n",
       "               1.        ,  1.        ,  1.        ,  1.        ],            dtype=float64),\n",
       " DeviceArray([ 2.01686822,  3.4024301 ,  4.78799198,  6.17355386,\n",
       "               7.55911575,  8.94467763, 10.33023951, 11.71580139,\n",
       "              13.10136328,  1.        ,  1.        ,  1.        ,\n",
       "               1.        ,  1.        ,  1.        ,  1.        ,\n",
       "               1.        ,  1.        ], dtype=float64)]"
      ]
     },
     "execution_count": 1423,
     "metadata": {},
     "output_type": "execute_result"
    }
   ],
   "source": [
    "list_guesses"
   ]
  },
  {
   "cell_type": "code",
   "execution_count": null,
   "metadata": {},
   "outputs": [],
   "source": []
  },
  {
   "cell_type": "code",
   "execution_count": 217,
   "metadata": {},
   "outputs": [],
   "source": [
    "def dilation(dnm1,dn, fixed_point = 1):\n",
    "    lamda = (len(dn) - fixed_point)/(len(dnm1) - fixed_point)\n",
    "    epsilon = jnp.log((dn[-1]-dn[fixed_point-1])/(dnm1[-1] - dnm1[fixed_point-1]))/jnp.log(lamda) \n",
    "    return epsilon\n",
    "    "
   ]
  },
  {
   "cell_type": "code",
   "execution_count": 230,
   "metadata": {},
   "outputs": [],
   "source": [
    "def guess_generator(dnm1, dn, fixed_point=1):\n",
    "    epsilon = dilation(dnm1, dn, fixed_point)\n",
    "    x_range = jnp.linspace(1.0,int(len(dn)),(int(len(dn))- 1)*50)\n",
    "    x_discrete = jnp.arange(1, int(len(dn)) + 1, dtype = float)\n",
    "    yn = jnp.interp(x_range, x_discrete, dn)\n",
    "    lamda = (len(dn))/(len(dn) - 1)\n",
    "    scale = lamda ** epsilon\n",
    "    ynp1 = (yn - yn[0]) * scale + yn[0]\n",
    "    sample_rate = int(49/ lamda)\n",
    "    return ynp1[::sample_rate]"
   ]
  },
  {
   "cell_type": "code",
   "execution_count": 251,
   "metadata": {},
   "outputs": [],
   "source": [
    "delta_9 = jnp.array([2.0120404550857076e+00, 3.0392491923626603e+00,\n",
    "              4.0965561547156177e+00, 5.2037799304975634e+00,\n",
    "              6.3873114412628693e+00, 7.6822445932447554e+00,\n",
    "              9.1394981550072174e+00, 1.0848360167089290e+01,\n",
    "              1.3028786422743138e+01])\n",
    "delta_8 = jnp.array([2.0168682169115923e+00, 3.0549114254659542e+00,\n",
    "              4.1346229456931107e+00, 5.2827826032482168e+00,\n",
    "              6.5355287814747625e+00, 7.9447127641675204e+00,\n",
    "              9.5993573904474587e+00, 1.1715801393523762e+01])\n",
    "\n",
    "delta_10_g = guess_generator(delta_8, delta_9)"
   ]
  },
  {
   "cell_type": "code",
   "execution_count": 252,
   "metadata": {},
   "outputs": [
    {
     "data": {
      "text/plain": [
       "DeviceArray([ 2.0120404550857076,  3.0029824030746606,\n",
       "              4.018317608212593 ,  5.071051348505971 ,\n",
       "              6.177488064176538 ,  7.357972267166592 ,\n",
       "              8.638595251101338 , 10.054277143078906 ,\n",
       "             11.702805810763287 , 13.752030067349533 ], dtype=float64)"
      ]
     },
     "execution_count": 252,
     "metadata": {},
     "output_type": "execute_result"
    }
   ],
   "source": [
    "delta_10_g"
   ]
  },
  {
   "cell_type": "code",
   "execution_count": 176,
   "metadata": {},
   "outputs": [
    {
     "data": {
      "text/plain": [
       "DeviceArray([ 4.2798757623374507e+02,  2.2512591641159845e+04,\n",
       "              5.2692638073172616e+29,  8.5649498274126999e+58,\n",
       "              2.6373908282620422e+58,  7.0232631362268895e+62,\n",
       "             -5.9636073564312469e+62, -1.4854715108664540e+63,\n",
       "             -1.0256882271445237e+64, -1.4866451734384411e+65,\n",
       "              3.7247087709881592e+08,  8.8186153403426088e+14,\n",
       "              3.9049358798055339e+40,  5.2034898023118011e+69,\n",
       "             -2.0761597988872749e+67, -5.2353966669812862e+69,\n",
       "              5.1763496665682994e+67,  8.9770417914920842e+65,\n",
       "              8.4928360887714808e+63,  9.0349367041655676e+60],            dtype=float64)"
      ]
     },
     "execution_count": 176,
     "metadata": {},
     "output_type": "execute_result"
    }
   ],
   "source": [
    "deltas = jnp.array([2.0120404550857076,  3.0029824030746606,\n",
    "              4.018317608212593 ,  5.071051348505971 ,\n",
    "              6.177488064176538 ,  7.357972267166592 ,\n",
    "              8.638595251101338 , 10.054277143078906 ,\n",
    "             11.702805810763287 , 13.752030067349533])\n",
    "deltas = deltas + random.uniform(keys[1], jnp.arange(10).shape) *0.031456\n",
    "a_mus = jnp.ones(deltas.shape, dtype = float)*1e9\n",
    "params = jnp.array([deltas,a_mus]).flatten() \n",
    "\n",
    "params, *others = nr_primal( x0 = params )\n",
    "params"
   ]
  },
  {
   "cell_type": "markdown",
   "metadata": {},
   "source": [
    "r = []\n",
    "for i in range(8):\n",
    "    r.append(((i+3)/(i+2))**(1.0258644707202123) * d9[i] )"
   ]
  },
  {
   "cell_type": "code",
   "execution_count": 1112,
   "metadata": {},
   "outputs": [],
   "source": [
    "r.insert(0, 2.01686822)"
   ]
  },
  {
   "cell_type": "code",
   "execution_count": 1114,
   "metadata": {},
   "outputs": [],
   "source": [
    "r = jnp.array(r)"
   ]
  },
  {
   "cell_type": "code",
   "execution_count": 1115,
   "metadata": {},
   "outputs": [
    {
     "data": {
      "text/plain": [
       "DeviceArray([ 2.01686822,  3.05719604,  4.09166698,  5.17488971,\n",
       "              6.33365651,  7.60486246,  9.04172544, 10.73606363,\n",
       "             12.91139586], dtype=float64)"
      ]
     },
     "execution_count": 1115,
     "metadata": {},
     "output_type": "execute_result"
    }
   ],
   "source": [
    "r"
   ]
  },
  {
   "cell_type": "code",
   "execution_count": 1285,
   "metadata": {},
   "outputs": [
    {
     "data": {
      "text/plain": [
       "DeviceArray([nan, nan, nan, nan, nan, nan, nan, nan, nan, nan, nan, nan,\n",
       "             nan, nan, nan, nan, nan, nan], dtype=float64)"
      ]
     },
     "execution_count": 1285,
     "metadata": {},
     "output_type": "execute_result"
    }
   ],
   "source": [
    "deltas = jnp.array([2.01686822,  2.93667359,  3.88305476,  4.86644227,\n",
    "              5.898588  ,  7.0086407 ,  8.2405561 ,  9.61948955,\n",
    "             11.21606651])\n",
    "a_mus = jnp.array([6.97237260e-01, 1.24032737e-01,\n",
    "             6.50959708e-03, 1.35408156e-04, 1.04918931e-06,\n",
    "             2.20434864e-09, 5.16590746e-13, 1e-15, 1e-15])\n",
    "params = jnp.array([deltas,a_mus]).flatten()\n",
    "\n",
    "params, *others = nr_primal( x0 = params )\n",
    "params\n"
   ]
  },
  {
   "cell_type": "code",
   "execution_count": 1286,
   "metadata": {},
   "outputs": [
    {
     "data": {
      "text/plain": [
       "DeviceArray([nan, nan, nan, nan, nan, nan, nan, nan, nan, nan, nan, nan,\n",
       "             nan, nan, nan, nan, nan, nan], dtype=float64)"
      ]
     },
     "execution_count": 1286,
     "metadata": {},
     "output_type": "execute_result"
    }
   ],
   "source": [
    "primal(params)"
   ]
  },
  {
   "cell_type": "code",
   "execution_count": 1134,
   "metadata": {},
   "outputs": [
    {
     "data": {
      "text/plain": [
       "[<matplotlib.lines.Line2D at 0x7fe346ca8280>]"
      ]
     },
     "execution_count": 1134,
     "metadata": {},
     "output_type": "execute_result"
    },
    {
     "data": {
      "image/png": "[encoded data removed]",
      "text/plain": [
       "<Figure size 432x288 with 1 Axes>"
      ]
     },
     "metadata": {
      "needs_background": "light"
     },
     "output_type": "display_data"
    }
   ],
   "source": [
    "d = jnp.linspace(1.0,9,(6)*100)\n",
    "dp = jnp.arange(1, 10, dtype = float)\n",
    "fp = jnp.array([ 2.01686822,  3.05719604,  4.09166698,  5.17488971,\n",
    "              6.33365651,  7.60486246,  9.04172544, 10.73606363,\n",
    "             12.91139586])\n",
    "y_ = jnp.interp(d,dp,fp)\n",
    "plt.plot(d,y_)\n",
    "# d8 = y_[::99]\n",
    "# y8 = y_\n",
    "# plt.scatter(dp,d8)"
   ]
  },
  {
   "cell_type": "code",
   "execution_count": 1223,
   "metadata": {},
   "outputs": [
    {
     "data": {
      "text/plain": [
       "DeviceArray([ 9.99999995e-01,  9.99999840e-01,  9.99995200e-01,\n",
       "              9.99887456e-01,  9.97976363e-01,  9.71997223e-01,\n",
       "              6.99679037e-01, -1.51208257e+00, -1.54594562e+01,\n",
       "             -8.36239400e+01, -3.39988261e+02, -1.07068122e+03,\n",
       "             -2.60123502e+03, -4.80215850e+03, -6.55758131e+03,\n",
       "             -6.31505202e+03, -3.89227636e+03, -1.15573057e+03],            dtype=float64)"
      ]
     },
     "execution_count": 1223,
     "metadata": {},
     "output_type": "execute_result"
    }
   ],
   "source": [
    "deltas = jnp.array([ 2.01686822,  2.93667359,  3.88305476,  4.86644227,\n",
    "              5.898588  ,  7.0086407 ,  8.2405561 ,  9.61948955,\n",
    "             11.21606651])\n",
    "a_mus = jnp.ones(deltas.shape, dtype = float)*1e-10\n",
    "params = jnp.array([deltas,a_mus]).flatten()\n",
    "primal(params)"
   ]
  },
  {
   "cell_type": "code",
   "execution_count": null,
   "metadata": {},
   "outputs": [],
   "source": []
  },
  {
   "cell_type": "code",
   "execution_count": 1178,
   "metadata": {},
   "outputs": [],
   "source": [
    "d = jnp.linspace(1.0,9,(6)*100)"
   ]
  },
  {
   "cell_type": "code",
   "execution_count": 1179,
   "metadata": {},
   "outputs": [
    {
     "data": {
      "text/plain": [
       "DeviceArray([0.85714286, 1.71428571, 2.57142857, 3.42857143, 4.28571429,\n",
       "             5.14285714], dtype=float64, weak_type=True)"
      ]
     },
     "execution_count": 1179,
     "metadata": {},
     "output_type": "execute_result"
    }
   ],
   "source": [
    "jnp.arange(1,7)/lamda"
   ]
  },
  {
   "cell_type": "code",
   "execution_count": 1204,
   "metadata": {},
   "outputs": [
    {
     "data": {
      "text/plain": [
       "[<matplotlib.lines.Line2D at 0x7fe347dd9070>]"
      ]
     },
     "execution_count": 1204,
     "metadata": {},
     "output_type": "execute_result"
    },
    {
     "data": {
      "image/png": "[encoded data removed]",
      "text/plain": [
       "<Figure size 432x288 with 1 Axes>"
      ]
     },
     "metadata": {
      "needs_background": "light"
     },
     "output_type": "display_data"
    }
   ],
   "source": [
    "(y8 - y8[0])* scale\n",
    "d = jnp.linspace(1.0,8,(6)*100)\n",
    "plt.plot(d,(y8 - y8[0])* scale + y8[0])"
   ]
  },
  {
   "cell_type": "code",
   "execution_count": 1202,
   "metadata": {},
   "outputs": [],
   "source": [
    "y8_n = (y8 - y8[0])* scale + y8[0]\n"
   ]
  },
  {
   "cell_type": "code",
   "execution_count": 1205,
   "metadata": {},
   "outputs": [
    {
     "data": {
      "text/plain": [
       "85.71428571428571"
      ]
     },
     "execution_count": 1205,
     "metadata": {},
     "output_type": "execute_result"
    }
   ],
   "source": [
    "600/7"
   ]
  },
  {
   "cell_type": "code",
   "execution_count": 1206,
   "metadata": {},
   "outputs": [
    {
     "data": {
      "text/plain": [
       "DeviceArray([ 2.02405389,  3.06220012,  4.14805823,  5.30553737,\n",
       "              6.56599534,  7.97424486,  9.60301346, 11.61954237],            dtype=float64)"
      ]
     },
     "execution_count": 1206,
     "metadata": {},
     "output_type": "execute_result"
    }
   ],
   "source": [
    "y8_n[::85]"
   ]
  },
  {
   "cell_type": "code",
   "execution_count": 1213,
   "metadata": {},
   "outputs": [],
   "source": [
    "scale_x = (8/7)\n",
    "scale_y = scale_x ** eps"
   ]
  },
  {
   "cell_type": "code",
   "execution_count": 1211,
   "metadata": {},
   "outputs": [
    {
     "data": {
      "text/plain": [
       "<matplotlib.collections.PathCollection at 0x7fe347f5d7f0>"
      ]
     },
     "execution_count": 1211,
     "metadata": {},
     "output_type": "execute_result"
    },
    {
     "data": {
      "image/png": "[encoded data removed]",
      "text/plain": [
       "<Figure size 432x288 with 1 Axes>"
      ]
     },
     "metadata": {
      "needs_background": "light"
     },
     "output_type": "display_data"
    }
   ],
   "source": [
    "d = jnp.linspace(1.0,8,(7)*100)\n",
    "dp = jnp.arange(1, 9, dtype = float)\n",
    "fp = jnp.array([2.01686822e+00, 3.05491143e+00, 4.13462295e+00,\n",
    "             5.28278260e+00, 6.53552878e+00, 7.94471276e+00,\n",
    "             9.59935739e+00, 1.17158014e+01])\n",
    "y_ = jnp.interp(d,dp,fp)\n",
    "plt.plot(d,y_)\n",
    "d9 = y_[::99]\n",
    "y9 = y_\n",
    "plt.scatter(dp,d9)"
   ]
  },
  {
   "cell_type": "code",
   "execution_count": 1220,
   "metadata": {},
   "outputs": [],
   "source": [
    "d = jnp.linspace(1.0,9,(7)*100)\n",
    "y9_n = (y9 - y9[0])* scale_y + y9[0]\n",
    "g = y9_n[::78]"
   ]
  },
  {
   "cell_type": "code",
   "execution_count": 1216,
   "metadata": {},
   "outputs": [
    {
     "data": {
      "text/plain": [
       "[<matplotlib.lines.Line2D at 0x7fe347cbd2e0>]"
      ]
     },
     "execution_count": 1216,
     "metadata": {},
     "output_type": "execute_result"
    },
    {
     "data": {
      "image/png": "[encoded data removed]",
      "text/plain": [
       "<Figure size 432x288 with 1 Axes>"
      ]
     },
     "metadata": {
      "needs_background": "light"
     },
     "output_type": "display_data"
    }
   ],
   "source": []
  },
  {
   "cell_type": "code",
   "execution_count": 1217,
   "metadata": {},
   "outputs": [
    {
     "data": {
      "text/plain": [
       "77.77777777777777"
      ]
     },
     "execution_count": 1217,
     "metadata": {},
     "output_type": "execute_result"
    }
   ],
   "source": [
    "700/9"
   ]
  },
  {
   "cell_type": "code",
   "execution_count": 1296,
   "metadata": {},
   "outputs": [
    {
     "data": {
      "text/plain": [
       "DeviceArray([-9.73296119e+00, -1.75302675e+03, -1.39695534e+05,\n",
       "             -5.40455679e+06, -1.26915638e+08, -1.85998221e+09],            dtype=float64)"
      ]
     },
     "execution_count": 1296,
     "metadata": {},
     "output_type": "execute_result"
    }
   ],
   "source": []
  },
  {
   "cell_type": "code",
   "execution_count": null,
   "metadata": {},
   "outputs": [],
   "source": []
  }
 ],
 "metadata": {
  "@webio": {
   "lastCommId": null,
   "lastKernelId": null
  },
  "kernelspec": {
   "display_name": "Python 3 (ipykernel)",
   "language": "python",
   "name": "python3"
  },
  "language_info": {
   "codemirror_mode": {
    "name": "ipython",
    "version": 3
   },
   "file_extension": ".py",
   "mimetype": "text/x-python",
   "name": "python",
   "nbconvert_exporter": "python",
   "pygments_lexer": "ipython3",
   "version": "3.9.7"
  },
  "vscode": {
   "interpreter": {
    "hash": "b466399646a69c0617672abf57399a3e9eb826bbf974fdc8916a8a8d36e765db"
   }
  }
 },
 "nbformat": 4,
 "nbformat_minor": 2
}
